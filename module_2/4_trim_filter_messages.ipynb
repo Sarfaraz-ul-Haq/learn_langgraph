{
  "cells": [
    {
      "cell_type": "code",
      "execution_count": 1,
      "metadata": {
        "vscode": {
          "languageId": "plaintext"
        },
        "id": "o9V0-dO3bPrH",
        "outputId": "9b899086-4e56-4d9a-b5bc-58bb15df6aeb",
        "colab": {
          "base_uri": "https://localhost:8080/"
        }
      },
      "outputs": [
        {
          "output_type": "stream",
          "name": "stdout",
          "text": [
            "\u001b[?25l   \u001b[90m━━━━━━━━━━━━━━━━━━━━━━━━━━━━━━━━━━━━━━━━\u001b[0m \u001b[32m0.0/125.1 kB\u001b[0m \u001b[31m?\u001b[0m eta \u001b[36m-:--:--\u001b[0m\r\u001b[2K   \u001b[90m━━━━━━━━━━━━━━━━━━━━━━━━━━━━━━━━━━━━━━━━\u001b[0m \u001b[32m125.1/125.1 kB\u001b[0m \u001b[31m6.8 MB/s\u001b[0m eta \u001b[36m0:00:00\u001b[0m\n",
            "\u001b[?25h\u001b[?25l   \u001b[90m━━━━━━━━━━━━━━━━━━━━━━━━━━━━━━━━━━━━━━━━\u001b[0m \u001b[32m0.0/41.3 kB\u001b[0m \u001b[31m?\u001b[0m eta \u001b[36m-:--:--\u001b[0m\r\u001b[2K   \u001b[90m━━━━━━━━━━━━━━━━━━━━━━━━━━━━━━━━━━━━━━━━\u001b[0m \u001b[32m41.3/41.3 kB\u001b[0m \u001b[31m2.0 MB/s\u001b[0m eta \u001b[36m0:00:00\u001b[0m\n",
            "\u001b[?25h"
          ]
        }
      ],
      "source": [
        "%pip install -q langgraph langchain_google_genai langchain_core"
      ]
    },
    {
      "cell_type": "code",
      "source": [
        "from google.colab import userdata\n",
        "\n",
        "GEMINI_API_KEY = userdata.get('GEMINI_API_KEY')"
      ],
      "metadata": {
        "id": "BrtoZpG8jG3Z"
      },
      "execution_count": 2,
      "outputs": []
    },
    {
      "cell_type": "code",
      "source": [
        "import os\n",
        "\n",
        "os.environ[\"LANGCHAIN_API_KEY\"] = userdata.get(\"LANGCHAIN_API_KEY\")\n",
        "os.environ[\"LANGCHAIN_TRACING_V2\"] = \"true\"\n",
        "os.environ[\"LANGCHAIN_PROJECT\"] = \"langchain-academy\""
      ],
      "metadata": {
        "id": "hbSdey-zkiMV"
      },
      "execution_count": 3,
      "outputs": []
    },
    {
      "cell_type": "code",
      "source": [
        "from langchain_google_genai import ChatGoogleGenerativeAI\n",
        "\n",
        "llm: ChatGoogleGenerativeAI = ChatGoogleGenerativeAI(api_key=GEMINI_API_KEY, model=\"gemini-1.5-flash\")"
      ],
      "metadata": {
        "id": "F76LZCwGj1FZ"
      },
      "execution_count": 4,
      "outputs": []
    },
    {
      "cell_type": "code",
      "source": [],
      "metadata": {
        "id": "sGcj3QMvl89m"
      },
      "execution_count": 4,
      "outputs": []
    },
    {
      "cell_type": "markdown",
      "source": [
        "#Messages as state"
      ],
      "metadata": {
        "id": "zfSnA2LXmAFV"
      }
    },
    {
      "cell_type": "code",
      "source": [
        "from langchain_core.messages import AIMessage, HumanMessage\n",
        "from pprint import pprint\n",
        "\n",
        "messages = [AIMessage(f\"So you said you were researching ocean mammals?\", name=\"Bot\")]\n",
        "messages.append(HumanMessage(f\"Yes, I know about whales. But what others should I learn about?\", name=\"Lance\"))\n",
        "\n",
        "for m in messages:\n",
        "    m.pretty_print()"
      ],
      "metadata": {
        "id": "XK9mnwIomFBm",
        "outputId": "8d83559a-2b19-4aba-8418-089ac8936206",
        "colab": {
          "base_uri": "https://localhost:8080/"
        }
      },
      "execution_count": 5,
      "outputs": [
        {
          "output_type": "stream",
          "name": "stdout",
          "text": [
            "==================================\u001b[1m Ai Message \u001b[0m==================================\n",
            "Name: Bot\n",
            "\n",
            "So you said you were researching ocean mammals?\n",
            "================================\u001b[1m Human Message \u001b[0m=================================\n",
            "Name: Lance\n",
            "\n",
            "Yes, I know about whales. But what others should I learn about?\n"
          ]
        }
      ]
    },
    {
      "cell_type": "code",
      "source": [
        "llm.invoke(messages)"
      ],
      "metadata": {
        "id": "UYlA6M23kU2c",
        "outputId": "97a80900-3500-45bd-84ab-81bfe47f0e64",
        "colab": {
          "base_uri": "https://localhost:8080/"
        }
      },
      "execution_count": 6,
      "outputs": [
        {
          "output_type": "execute_result",
          "data": {
            "text/plain": [
              "AIMessage(content=\"That's great you're interested in ocean mammals!  Whales are a huge group, but there's a whole fascinating world beyond them.  To suggest other groups to research, I need a little more context. What aspects of whales interest you?  Knowing that will help me tailor suggestions.\\n\\nFor example, are you interested in:\\n\\n* **Specific behaviors?** (e.g., communication, migration, hunting strategies)  If so, I can suggest other mammals that exhibit similar or contrasting behaviors.\\n* **Specific habitats?** (e.g., deep sea, coastal areas, polar regions)  Different mammals are adapted to different environments.\\n* **Evolutionary relationships?**  Understanding the evolutionary history of marine mammals is fascinating.\\n* **Conservation status?** Many marine mammals are endangered or threatened.\\n\\nHowever, here are some groups of ocean mammals you should definitely learn about, regardless of your specific interests:\\n\\n* **Dolphins and Porpoises:**  These highly intelligent cetaceans are incredibly diverse, with many different species exhibiting unique behaviors and social structures.\\n* **Seals (Pinnipeds):**  This group includes harbor seals, elephant seals, and fur seals, each with unique adaptations for life in and out of the water.\\n* **Sea Lions (Pinnipeds):**  Close relatives of seals, but with external ear flaps and different locomotion styles.\\n* **Walruses (Pinnipeds):**  Distinctive tusked pinnipeds found in Arctic regions.\\n* **Sea Otters (Mustelids):**  The smallest marine mammal, known for their use of tools and dense fur.\\n* **Manatees and Dugongs (Sirenians):**  Gentle giants that graze on seagrass.  They are herbivores, unlike most other marine mammals.\\n\\n\\nOnce you tell me more about what aspects of marine mammals interest you, I can give you more focused and specific recommendations.\\n\", additional_kwargs={}, response_metadata={'prompt_feedback': {'block_reason': 0, 'safety_ratings': []}, 'finish_reason': 'STOP', 'safety_ratings': []}, id='run-91d9f2c2-dd37-44fd-b12f-a9914ccb5ef7-0', usage_metadata={'input_tokens': 26, 'output_tokens': 403, 'total_tokens': 429, 'input_token_details': {'cache_read': 0}})"
            ]
          },
          "metadata": {},
          "execution_count": 6
        }
      ]
    },
    {
      "cell_type": "markdown",
      "source": [
        "#Simple graph with MessagesState"
      ],
      "metadata": {
        "id": "qlUNIKlomOau"
      }
    },
    {
      "cell_type": "code",
      "source": [
        "from langgraph.graph import MessagesState\n",
        "from langgraph.graph import StateGraph, START, END\n",
        "from langgraph.graph.state import CompiledStateGraph\n",
        "from IPython.display import Image, display\n",
        "\n",
        "def chat_model_node(state: MessagesState) -> MessagesState:\n",
        "    return {\"messages\": llm.invoke(state[\"messages\"])}\n",
        "\n",
        "builder: StateGraph = StateGraph(MessagesState)\n",
        "\n",
        "builder.add_node(\"chat_model\", chat_model_node)\n",
        "\n",
        "builder.add_edge(START, \"chat_model\")\n",
        "builder.add_edge(\"chat_model\", END)\n",
        "\n",
        "graph: CompiledStateGraph = builder.compile()\n",
        "\n",
        "display(Image(graph.get_graph().draw_mermaid_png()))"
      ],
      "metadata": {
        "id": "6OA3cy-6mQMn",
        "outputId": "39c052e3-4770-4cfe-c1bc-a85dc16bc24d",
        "colab": {
          "base_uri": "https://localhost:8080/",
          "height": 251
        }
      },
      "execution_count": 7,
      "outputs": [
        {
          "output_type": "display_data",
          "data": {
            "image/png": "[encoded data removed]",
            "text/plain": [
              "<IPython.core.display.Image object>"
            ]
          },
          "metadata": {}
        }
      ]
    },
    {
      "cell_type": "code",
      "source": [
        "output = graph.invoke({\"messages\": messages})\n",
        "\n",
        "for m in output[\"messages\"]:\n",
        "    m.pretty_print()"
      ],
      "metadata": {
        "id": "l0_DmLSYmdO2",
        "outputId": "03981a66-846b-4d1e-860f-7a0c4cd746aa",
        "colab": {
          "base_uri": "https://localhost:8080/"
        }
      },
      "execution_count": 8,
      "outputs": [
        {
          "output_type": "stream",
          "name": "stdout",
          "text": [
            "==================================\u001b[1m Ai Message \u001b[0m==================================\n",
            "Name: Bot\n",
            "\n",
            "So you said you were researching ocean mammals?\n",
            "================================\u001b[1m Human Message \u001b[0m=================================\n",
            "Name: Lance\n",
            "\n",
            "Yes, I know about whales. But what others should I learn about?\n",
            "==================================\u001b[1m Ai Message \u001b[0m==================================\n",
            "\n",
            "That's great you're familiar with whales!  Beyond whales, the world of ocean mammals is incredibly diverse. To suggest further research, let's break it down by group:\n",
            "\n",
            "**1. Pinnipeds (fin-footed mammals):** This group includes seals, sea lions, and walruses.  Each has distinct characteristics:\n",
            "\n",
            "* **Seals:**  Generally lack external ear flaps (pinnae), have streamlined bodies for efficient swimming, and often haul out on land or ice.  There are many species with varied adaptations.\n",
            "* **Sea Lions:** Possess external ear flaps, are generally larger than seals, and are known for their agility on land.\n",
            "* **Walruses:**  Easily identified by their large tusks and thick blubber layer.  They are adapted to cold Arctic waters and feed on clams and other invertebrates.\n",
            "\n",
            "**2. Sirenians (sea cows):**  These gentle giants are entirely aquatic and include:\n",
            "\n",
            "* **Manatees:** Found in warmer, shallow coastal waters of the Atlantic Ocean and the Amazon River basin.  They are slow-moving herbivores.\n",
            "* **Dugongs:** Found in warmer waters of the Indian and Pacific Oceans.  They are also herbivores.\n",
            "\n",
            "**3. Polar Bears:** While technically terrestrial mammals, they spend a significant portion of their lives on sea ice and rely heavily on the marine environment for food (seals).  Their conservation status and the impact of climate change on their habitat are crucial areas of study.\n",
            "\n",
            "**4. Sea Otters:** These small but incredibly charismatic mammals are found in the North Pacific Ocean. They are known for their use of tools (rocks to crack open shellfish) and their thick fur that helps them stay warm in cold waters.\n",
            "\n",
            "\n",
            "To make your research more focused, consider these aspects:\n",
            "\n",
            "* **Specific geographic region:**  Ocean mammal populations vary greatly by location.  Focusing on a specific area (e.g., the Arctic, the Antarctic, the Mediterranean) will narrow your research.\n",
            "* **Specific ecological role:**  Are you interested in their feeding habits, social structures, migration patterns, or conservation status?\n",
            "* **Specific species:**  Pick a few species that particularly interest you to delve into their unique adaptations and challenges.\n",
            "\n",
            "\n",
            "Remember to use reputable sources like scientific journals, conservation organizations (e.g., WWF, Oceana), and academic databases for your research.  Happy learning!\n"
          ]
        }
      ]
    },
    {
      "cell_type": "markdown",
      "source": [
        "#Streaming the events from llm"
      ],
      "metadata": {
        "id": "ctwbUIPZmq6W"
      }
    },
    {
      "cell_type": "code",
      "source": [
        "async for m in graph.astream_events({\"messages\": messages}, version=\"v2\"):\n",
        "      print(m)\n",
        "      print(\"\\n--------------------------------------------------\\n\")"
      ],
      "metadata": {
        "id": "cAtrsPvAmkol",
        "outputId": "d33d9b22-6491-4933-acc3-e66dda00250c",
        "colab": {
          "base_uri": "https://localhost:8080/"
        }
      },
      "execution_count": 9,
      "outputs": [
        {
          "output_type": "stream",
          "name": "stdout",
          "text": [
            "{'event': 'on_chain_start', 'data': {'input': {'messages': [AIMessage(content='So you said you were researching ocean mammals?', additional_kwargs={}, response_metadata={}, name='Bot', id='17740c52-9cda-4857-85af-11b5b684c265'), HumanMessage(content='Yes, I know about whales. But what others should I learn about?', additional_kwargs={}, response_metadata={}, name='Lance', id='8a4c71d3-2b8b-4054-99e3-fe945f94f8d4')]}}, 'name': 'LangGraph', 'tags': [], 'run_id': '970dd8dd-4f28-4dde-8446-5f0935e4e353', 'metadata': {}, 'parent_ids': []}\n",
            "\n",
            "--------------------------------------------------\n",
            "\n",
            "{'event': 'on_chain_start', 'data': {'input': {'messages': [AIMessage(content='So you said you were researching ocean mammals?', additional_kwargs={}, response_metadata={}, name='Bot', id='17740c52-9cda-4857-85af-11b5b684c265'), HumanMessage(content='Yes, I know about whales. But what others should I learn about?', additional_kwargs={}, response_metadata={}, name='Lance', id='8a4c71d3-2b8b-4054-99e3-fe945f94f8d4')]}}, 'name': '__start__', 'tags': ['graph:step:0', 'langsmith:hidden', 'langsmith:hidden'], 'run_id': '5cec3581-e253-4ac2-8239-d7fe26024b07', 'metadata': {'langgraph_step': 0, 'langgraph_node': '__start__', 'langgraph_triggers': ['__start__'], 'langgraph_path': ('__pregel_pull', '__start__'), 'langgraph_checkpoint_ns': '__start__:d3fbb284-11ce-f3e4-b016-3f52a3e6728e'}, 'parent_ids': ['970dd8dd-4f28-4dde-8446-5f0935e4e353']}\n",
            "\n",
            "--------------------------------------------------\n",
            "\n",
            "{'event': 'on_chain_end', 'data': {'output': {'messages': [AIMessage(content='So you said you were researching ocean mammals?', additional_kwargs={}, response_metadata={}, name='Bot', id='17740c52-9cda-4857-85af-11b5b684c265'), HumanMessage(content='Yes, I know about whales. But what others should I learn about?', additional_kwargs={}, response_metadata={}, name='Lance', id='8a4c71d3-2b8b-4054-99e3-fe945f94f8d4')]}, 'input': {'messages': [AIMessage(content='So you said you were researching ocean mammals?', additional_kwargs={}, response_metadata={}, name='Bot', id='17740c52-9cda-4857-85af-11b5b684c265'), HumanMessage(content='Yes, I know about whales. But what others should I learn about?', additional_kwargs={}, response_metadata={}, name='Lance', id='8a4c71d3-2b8b-4054-99e3-fe945f94f8d4')]}}, 'run_id': '5cec3581-e253-4ac2-8239-d7fe26024b07', 'name': '__start__', 'tags': ['graph:step:0', 'langsmith:hidden', 'langsmith:hidden'], 'metadata': {'langgraph_step': 0, 'langgraph_node': '__start__', 'langgraph_triggers': ['__start__'], 'langgraph_path': ('__pregel_pull', '__start__'), 'langgraph_checkpoint_ns': '__start__:d3fbb284-11ce-f3e4-b016-3f52a3e6728e'}, 'parent_ids': ['970dd8dd-4f28-4dde-8446-5f0935e4e353']}\n",
            "\n",
            "--------------------------------------------------\n",
            "\n",
            "{'event': 'on_chain_start', 'data': {'input': {'messages': [AIMessage(content='So you said you were researching ocean mammals?', additional_kwargs={}, response_metadata={}, name='Bot', id='17740c52-9cda-4857-85af-11b5b684c265'), HumanMessage(content='Yes, I know about whales. But what others should I learn about?', additional_kwargs={}, response_metadata={}, name='Lance', id='8a4c71d3-2b8b-4054-99e3-fe945f94f8d4')]}}, 'name': 'chat_model', 'tags': ['graph:step:1'], 'run_id': 'c8421374-64b0-40a8-8adb-6c7eabf2022f', 'metadata': {'langgraph_step': 1, 'langgraph_node': 'chat_model', 'langgraph_triggers': ['start:chat_model'], 'langgraph_path': ('__pregel_pull', 'chat_model'), 'langgraph_checkpoint_ns': 'chat_model:78e36bef-d7b9-2f2a-1938-d22e2ae4126a'}, 'parent_ids': ['970dd8dd-4f28-4dde-8446-5f0935e4e353']}\n",
            "\n",
            "--------------------------------------------------\n",
            "\n",
            "{'event': 'on_chain_start', 'data': {'input': {'messages': AIMessage(content=\"That's great you're interested in ocean mammals! Whales are a fantastic group to start with, but there's a whole underwater world beyond them.  To suggest other groups for your research, it would be helpful to know what aspects of whales interest you most.  For example, are you interested in:\\n\\n* **Their behavior?** (Social structures, communication, hunting strategies)\\n* **Their biology?** (Physiology, adaptations, reproduction)\\n* **Their conservation status?** (Threats, protection efforts)\\n* **Specific types of whales?** (e.g., baleen whales vs. toothed whales)\\n* **Their evolutionary history?**\\n\\nOnce I know what aspects you find most fascinating, I can suggest other ocean mammals that might pique your interest.\\n\\n\\nHowever, here are some groups to consider, regardless of your specific focus:\\n\\n* **Dolphins and Porpoises:**  These are highly intelligent and social animals with diverse species and behaviors.  They offer great opportunities to study communication, social structures, and tool use in some cases.\\n\\n* **Seals and Sea Lions:**  These pinnipeds (fin-footed mammals) are fascinating because of their adaptations to both aquatic and terrestrial environments.  Their breeding behaviors and migrations are also interesting areas of study.  Within this group, you have different types like harbor seals, elephant seals, fur seals, and various sea lion species, each with unique characteristics.\\n\\n* **Walruses:**  These large, tusked pinnipeds are unique and face significant challenges due to climate change.\\n\\n* **Sea Otters:**  These are the smallest marine mammals and are known for their use of tools and high metabolism.  They play a crucial role in kelp forest ecosystems.\\n\\n* **Manatees and Dugongs (Sirenians):** These gentle giants are herbivores and are facing threats from habitat loss and boat strikes.\\n\\n* **Polar Bears:** While technically considered terrestrial mammals, they are highly dependent on the sea ice for hunting and are severely impacted by climate change, making them a crucial subject in ocean mammal research.\\n\\n\\nTo help me narrow down the suggestions, please tell me more about your interests!\\n\", additional_kwargs={}, response_metadata={'prompt_feedback': {'block_reason': 0, 'safety_ratings': []}, 'finish_reason': 'STOP', 'safety_ratings': []}, id='run-d987e369-e766-48a0-89fe-894e793ee555-0', usage_metadata={'input_tokens': 26, 'output_tokens': 450, 'total_tokens': 476, 'input_token_details': {'cache_read': 0}})}}, 'name': '_write', 'tags': ['seq:step:2', 'langsmith:hidden'], 'run_id': '6e419abb-e731-4fdc-8d95-68119aeefef6', 'metadata': {'langgraph_step': 1, 'langgraph_node': 'chat_model', 'langgraph_triggers': ['start:chat_model'], 'langgraph_path': ('__pregel_pull', 'chat_model'), 'langgraph_checkpoint_ns': 'chat_model:78e36bef-d7b9-2f2a-1938-d22e2ae4126a'}, 'parent_ids': ['970dd8dd-4f28-4dde-8446-5f0935e4e353', 'c8421374-64b0-40a8-8adb-6c7eabf2022f']}\n",
            "\n",
            "--------------------------------------------------\n",
            "\n",
            "{'event': 'on_chain_end', 'data': {'output': {'messages': AIMessage(content=\"That's great you're interested in ocean mammals! Whales are a fantastic group to start with, but there's a whole underwater world beyond them.  To suggest other groups for your research, it would be helpful to know what aspects of whales interest you most.  For example, are you interested in:\\n\\n* **Their behavior?** (Social structures, communication, hunting strategies)\\n* **Their biology?** (Physiology, adaptations, reproduction)\\n* **Their conservation status?** (Threats, protection efforts)\\n* **Specific types of whales?** (e.g., baleen whales vs. toothed whales)\\n* **Their evolutionary history?**\\n\\nOnce I know what aspects you find most fascinating, I can suggest other ocean mammals that might pique your interest.\\n\\n\\nHowever, here are some groups to consider, regardless of your specific focus:\\n\\n* **Dolphins and Porpoises:**  These are highly intelligent and social animals with diverse species and behaviors.  They offer great opportunities to study communication, social structures, and tool use in some cases.\\n\\n* **Seals and Sea Lions:**  These pinnipeds (fin-footed mammals) are fascinating because of their adaptations to both aquatic and terrestrial environments.  Their breeding behaviors and migrations are also interesting areas of study.  Within this group, you have different types like harbor seals, elephant seals, fur seals, and various sea lion species, each with unique characteristics.\\n\\n* **Walruses:**  These large, tusked pinnipeds are unique and face significant challenges due to climate change.\\n\\n* **Sea Otters:**  These are the smallest marine mammals and are known for their use of tools and high metabolism.  They play a crucial role in kelp forest ecosystems.\\n\\n* **Manatees and Dugongs (Sirenians):** These gentle giants are herbivores and are facing threats from habitat loss and boat strikes.\\n\\n* **Polar Bears:** While technically considered terrestrial mammals, they are highly dependent on the sea ice for hunting and are severely impacted by climate change, making them a crucial subject in ocean mammal research.\\n\\n\\nTo help me narrow down the suggestions, please tell me more about your interests!\\n\", additional_kwargs={}, response_metadata={'prompt_feedback': {'block_reason': 0, 'safety_ratings': []}, 'finish_reason': 'STOP', 'safety_ratings': []}, id='run-d987e369-e766-48a0-89fe-894e793ee555-0', usage_metadata={'input_tokens': 26, 'output_tokens': 450, 'total_tokens': 476, 'input_token_details': {'cache_read': 0}})}, 'input': {'messages': AIMessage(content=\"That's great you're interested in ocean mammals! Whales are a fantastic group to start with, but there's a whole underwater world beyond them.  To suggest other groups for your research, it would be helpful to know what aspects of whales interest you most.  For example, are you interested in:\\n\\n* **Their behavior?** (Social structures, communication, hunting strategies)\\n* **Their biology?** (Physiology, adaptations, reproduction)\\n* **Their conservation status?** (Threats, protection efforts)\\n* **Specific types of whales?** (e.g., baleen whales vs. toothed whales)\\n* **Their evolutionary history?**\\n\\nOnce I know what aspects you find most fascinating, I can suggest other ocean mammals that might pique your interest.\\n\\n\\nHowever, here are some groups to consider, regardless of your specific focus:\\n\\n* **Dolphins and Porpoises:**  These are highly intelligent and social animals with diverse species and behaviors.  They offer great opportunities to study communication, social structures, and tool use in some cases.\\n\\n* **Seals and Sea Lions:**  These pinnipeds (fin-footed mammals) are fascinating because of their adaptations to both aquatic and terrestrial environments.  Their breeding behaviors and migrations are also interesting areas of study.  Within this group, you have different types like harbor seals, elephant seals, fur seals, and various sea lion species, each with unique characteristics.\\n\\n* **Walruses:**  These large, tusked pinnipeds are unique and face significant challenges due to climate change.\\n\\n* **Sea Otters:**  These are the smallest marine mammals and are known for their use of tools and high metabolism.  They play a crucial role in kelp forest ecosystems.\\n\\n* **Manatees and Dugongs (Sirenians):** These gentle giants are herbivores and are facing threats from habitat loss and boat strikes.\\n\\n* **Polar Bears:** While technically considered terrestrial mammals, they are highly dependent on the sea ice for hunting and are severely impacted by climate change, making them a crucial subject in ocean mammal research.\\n\\n\\nTo help me narrow down the suggestions, please tell me more about your interests!\\n\", additional_kwargs={}, response_metadata={'prompt_feedback': {'block_reason': 0, 'safety_ratings': []}, 'finish_reason': 'STOP', 'safety_ratings': []}, id='run-d987e369-e766-48a0-89fe-894e793ee555-0', usage_metadata={'input_tokens': 26, 'output_tokens': 450, 'total_tokens': 476, 'input_token_details': {'cache_read': 0}})}}, 'run_id': '6e419abb-e731-4fdc-8d95-68119aeefef6', 'name': '_write', 'tags': ['seq:step:2', 'langsmith:hidden'], 'metadata': {'langgraph_step': 1, 'langgraph_node': 'chat_model', 'langgraph_triggers': ['start:chat_model'], 'langgraph_path': ('__pregel_pull', 'chat_model'), 'langgraph_checkpoint_ns': 'chat_model:78e36bef-d7b9-2f2a-1938-d22e2ae4126a'}, 'parent_ids': ['970dd8dd-4f28-4dde-8446-5f0935e4e353', 'c8421374-64b0-40a8-8adb-6c7eabf2022f']}\n",
            "\n",
            "--------------------------------------------------\n",
            "\n",
            "{'event': 'on_chain_stream', 'run_id': 'c8421374-64b0-40a8-8adb-6c7eabf2022f', 'name': 'chat_model', 'tags': ['graph:step:1'], 'metadata': {'langgraph_step': 1, 'langgraph_node': 'chat_model', 'langgraph_triggers': ['start:chat_model'], 'langgraph_path': ('__pregel_pull', 'chat_model'), 'langgraph_checkpoint_ns': 'chat_model:78e36bef-d7b9-2f2a-1938-d22e2ae4126a'}, 'data': {'chunk': {'messages': AIMessage(content=\"That's great you're interested in ocean mammals! Whales are a fantastic group to start with, but there's a whole underwater world beyond them.  To suggest other groups for your research, it would be helpful to know what aspects of whales interest you most.  For example, are you interested in:\\n\\n* **Their behavior?** (Social structures, communication, hunting strategies)\\n* **Their biology?** (Physiology, adaptations, reproduction)\\n* **Their conservation status?** (Threats, protection efforts)\\n* **Specific types of whales?** (e.g., baleen whales vs. toothed whales)\\n* **Their evolutionary history?**\\n\\nOnce I know what aspects you find most fascinating, I can suggest other ocean mammals that might pique your interest.\\n\\n\\nHowever, here are some groups to consider, regardless of your specific focus:\\n\\n* **Dolphins and Porpoises:**  These are highly intelligent and social animals with diverse species and behaviors.  They offer great opportunities to study communication, social structures, and tool use in some cases.\\n\\n* **Seals and Sea Lions:**  These pinnipeds (fin-footed mammals) are fascinating because of their adaptations to both aquatic and terrestrial environments.  Their breeding behaviors and migrations are also interesting areas of study.  Within this group, you have different types like harbor seals, elephant seals, fur seals, and various sea lion species, each with unique characteristics.\\n\\n* **Walruses:**  These large, tusked pinnipeds are unique and face significant challenges due to climate change.\\n\\n* **Sea Otters:**  These are the smallest marine mammals and are known for their use of tools and high metabolism.  They play a crucial role in kelp forest ecosystems.\\n\\n* **Manatees and Dugongs (Sirenians):** These gentle giants are herbivores and are facing threats from habitat loss and boat strikes.\\n\\n* **Polar Bears:** While technically considered terrestrial mammals, they are highly dependent on the sea ice for hunting and are severely impacted by climate change, making them a crucial subject in ocean mammal research.\\n\\n\\nTo help me narrow down the suggestions, please tell me more about your interests!\\n\", additional_kwargs={}, response_metadata={'prompt_feedback': {'block_reason': 0, 'safety_ratings': []}, 'finish_reason': 'STOP', 'safety_ratings': []}, id='run-d987e369-e766-48a0-89fe-894e793ee555-0', usage_metadata={'input_tokens': 26, 'output_tokens': 450, 'total_tokens': 476, 'input_token_details': {'cache_read': 0}})}}, 'parent_ids': ['970dd8dd-4f28-4dde-8446-5f0935e4e353']}\n",
            "\n",
            "--------------------------------------------------\n",
            "\n",
            "{'event': 'on_chain_end', 'data': {'output': {'messages': AIMessage(content=\"That's great you're interested in ocean mammals! Whales are a fantastic group to start with, but there's a whole underwater world beyond them.  To suggest other groups for your research, it would be helpful to know what aspects of whales interest you most.  For example, are you interested in:\\n\\n* **Their behavior?** (Social structures, communication, hunting strategies)\\n* **Their biology?** (Physiology, adaptations, reproduction)\\n* **Their conservation status?** (Threats, protection efforts)\\n* **Specific types of whales?** (e.g., baleen whales vs. toothed whales)\\n* **Their evolutionary history?**\\n\\nOnce I know what aspects you find most fascinating, I can suggest other ocean mammals that might pique your interest.\\n\\n\\nHowever, here are some groups to consider, regardless of your specific focus:\\n\\n* **Dolphins and Porpoises:**  These are highly intelligent and social animals with diverse species and behaviors.  They offer great opportunities to study communication, social structures, and tool use in some cases.\\n\\n* **Seals and Sea Lions:**  These pinnipeds (fin-footed mammals) are fascinating because of their adaptations to both aquatic and terrestrial environments.  Their breeding behaviors and migrations are also interesting areas of study.  Within this group, you have different types like harbor seals, elephant seals, fur seals, and various sea lion species, each with unique characteristics.\\n\\n* **Walruses:**  These large, tusked pinnipeds are unique and face significant challenges due to climate change.\\n\\n* **Sea Otters:**  These are the smallest marine mammals and are known for their use of tools and high metabolism.  They play a crucial role in kelp forest ecosystems.\\n\\n* **Manatees and Dugongs (Sirenians):** These gentle giants are herbivores and are facing threats from habitat loss and boat strikes.\\n\\n* **Polar Bears:** While technically considered terrestrial mammals, they are highly dependent on the sea ice for hunting and are severely impacted by climate change, making them a crucial subject in ocean mammal research.\\n\\n\\nTo help me narrow down the suggestions, please tell me more about your interests!\\n\", additional_kwargs={}, response_metadata={'prompt_feedback': {'block_reason': 0, 'safety_ratings': []}, 'finish_reason': 'STOP', 'safety_ratings': []}, id='run-d987e369-e766-48a0-89fe-894e793ee555-0', usage_metadata={'input_tokens': 26, 'output_tokens': 450, 'total_tokens': 476, 'input_token_details': {'cache_read': 0}})}, 'input': {'messages': [AIMessage(content='So you said you were researching ocean mammals?', additional_kwargs={}, response_metadata={}, name='Bot', id='17740c52-9cda-4857-85af-11b5b684c265'), HumanMessage(content='Yes, I know about whales. But what others should I learn about?', additional_kwargs={}, response_metadata={}, name='Lance', id='8a4c71d3-2b8b-4054-99e3-fe945f94f8d4')]}}, 'run_id': 'c8421374-64b0-40a8-8adb-6c7eabf2022f', 'name': 'chat_model', 'tags': ['graph:step:1'], 'metadata': {'langgraph_step': 1, 'langgraph_node': 'chat_model', 'langgraph_triggers': ['start:chat_model'], 'langgraph_path': ('__pregel_pull', 'chat_model'), 'langgraph_checkpoint_ns': 'chat_model:78e36bef-d7b9-2f2a-1938-d22e2ae4126a'}, 'parent_ids': ['970dd8dd-4f28-4dde-8446-5f0935e4e353']}\n",
            "\n",
            "--------------------------------------------------\n",
            "\n",
            "{'event': 'on_chain_stream', 'run_id': '970dd8dd-4f28-4dde-8446-5f0935e4e353', 'name': 'LangGraph', 'tags': [], 'metadata': {}, 'data': {'chunk': {'chat_model': {'messages': AIMessage(content=\"That's great you're interested in ocean mammals! Whales are a fantastic group to start with, but there's a whole underwater world beyond them.  To suggest other groups for your research, it would be helpful to know what aspects of whales interest you most.  For example, are you interested in:\\n\\n* **Their behavior?** (Social structures, communication, hunting strategies)\\n* **Their biology?** (Physiology, adaptations, reproduction)\\n* **Their conservation status?** (Threats, protection efforts)\\n* **Specific types of whales?** (e.g., baleen whales vs. toothed whales)\\n* **Their evolutionary history?**\\n\\nOnce I know what aspects you find most fascinating, I can suggest other ocean mammals that might pique your interest.\\n\\n\\nHowever, here are some groups to consider, regardless of your specific focus:\\n\\n* **Dolphins and Porpoises:**  These are highly intelligent and social animals with diverse species and behaviors.  They offer great opportunities to study communication, social structures, and tool use in some cases.\\n\\n* **Seals and Sea Lions:**  These pinnipeds (fin-footed mammals) are fascinating because of their adaptations to both aquatic and terrestrial environments.  Their breeding behaviors and migrations are also interesting areas of study.  Within this group, you have different types like harbor seals, elephant seals, fur seals, and various sea lion species, each with unique characteristics.\\n\\n* **Walruses:**  These large, tusked pinnipeds are unique and face significant challenges due to climate change.\\n\\n* **Sea Otters:**  These are the smallest marine mammals and are known for their use of tools and high metabolism.  They play a crucial role in kelp forest ecosystems.\\n\\n* **Manatees and Dugongs (Sirenians):** These gentle giants are herbivores and are facing threats from habitat loss and boat strikes.\\n\\n* **Polar Bears:** While technically considered terrestrial mammals, they are highly dependent on the sea ice for hunting and are severely impacted by climate change, making them a crucial subject in ocean mammal research.\\n\\n\\nTo help me narrow down the suggestions, please tell me more about your interests!\\n\", additional_kwargs={}, response_metadata={'prompt_feedback': {'block_reason': 0, 'safety_ratings': []}, 'finish_reason': 'STOP', 'safety_ratings': []}, id='run-d987e369-e766-48a0-89fe-894e793ee555-0', usage_metadata={'input_tokens': 26, 'output_tokens': 450, 'total_tokens': 476, 'input_token_details': {'cache_read': 0}})}}}, 'parent_ids': []}\n",
            "\n",
            "--------------------------------------------------\n",
            "\n",
            "{'event': 'on_chain_end', 'data': {'output': {'messages': [AIMessage(content='So you said you were researching ocean mammals?', additional_kwargs={}, response_metadata={}, name='Bot', id='17740c52-9cda-4857-85af-11b5b684c265'), HumanMessage(content='Yes, I know about whales. But what others should I learn about?', additional_kwargs={}, response_metadata={}, name='Lance', id='8a4c71d3-2b8b-4054-99e3-fe945f94f8d4'), AIMessage(content=\"That's great you're interested in ocean mammals! Whales are a fantastic group to start with, but there's a whole underwater world beyond them.  To suggest other groups for your research, it would be helpful to know what aspects of whales interest you most.  For example, are you interested in:\\n\\n* **Their behavior?** (Social structures, communication, hunting strategies)\\n* **Their biology?** (Physiology, adaptations, reproduction)\\n* **Their conservation status?** (Threats, protection efforts)\\n* **Specific types of whales?** (e.g., baleen whales vs. toothed whales)\\n* **Their evolutionary history?**\\n\\nOnce I know what aspects you find most fascinating, I can suggest other ocean mammals that might pique your interest.\\n\\n\\nHowever, here are some groups to consider, regardless of your specific focus:\\n\\n* **Dolphins and Porpoises:**  These are highly intelligent and social animals with diverse species and behaviors.  They offer great opportunities to study communication, social structures, and tool use in some cases.\\n\\n* **Seals and Sea Lions:**  These pinnipeds (fin-footed mammals) are fascinating because of their adaptations to both aquatic and terrestrial environments.  Their breeding behaviors and migrations are also interesting areas of study.  Within this group, you have different types like harbor seals, elephant seals, fur seals, and various sea lion species, each with unique characteristics.\\n\\n* **Walruses:**  These large, tusked pinnipeds are unique and face significant challenges due to climate change.\\n\\n* **Sea Otters:**  These are the smallest marine mammals and are known for their use of tools and high metabolism.  They play a crucial role in kelp forest ecosystems.\\n\\n* **Manatees and Dugongs (Sirenians):** These gentle giants are herbivores and are facing threats from habitat loss and boat strikes.\\n\\n* **Polar Bears:** While technically considered terrestrial mammals, they are highly dependent on the sea ice for hunting and are severely impacted by climate change, making them a crucial subject in ocean mammal research.\\n\\n\\nTo help me narrow down the suggestions, please tell me more about your interests!\\n\", additional_kwargs={}, response_metadata={'prompt_feedback': {'block_reason': 0, 'safety_ratings': []}, 'finish_reason': 'STOP', 'safety_ratings': []}, id='run-d987e369-e766-48a0-89fe-894e793ee555-0', usage_metadata={'input_tokens': 26, 'output_tokens': 450, 'total_tokens': 476, 'input_token_details': {'cache_read': 0}})]}}, 'run_id': '970dd8dd-4f28-4dde-8446-5f0935e4e353', 'name': 'LangGraph', 'tags': [], 'metadata': {}, 'parent_ids': []}\n",
            "\n",
            "--------------------------------------------------\n",
            "\n"
          ]
        }
      ]
    },
    {
      "cell_type": "markdown",
      "source": [
        "##Using RemoveMessage modifier and add_messages reducer to manage long running conversation"
      ],
      "metadata": {
        "id": "Z4rdrUqeokj5"
      }
    },
    {
      "cell_type": "code",
      "source": [
        "from langchain_core.messages import RemoveMessage\n",
        "from typing import Dict\n",
        "\n",
        "def filter_messages(state: MessagesState):\n",
        "    delete_messages = []\n",
        "    for m in state[\"messages\"][:-2]:\n",
        "      delete_messages.append(RemoveMessage(id=m.id))\n",
        "    print(delete_messages)\n",
        "    return {\"messages\": delete_messages}\n",
        "\n",
        "def chat_model_node(state: MessagesState) -> MessagesState:\n",
        "    return {\"messages\": [llm.invoke(state[\"messages\"])]}\n",
        "\n",
        "builder: StateGraph = StateGraph(MessagesState)\n",
        "\n",
        "builder.add_node(\"filter\", filter_messages)\n",
        "builder.add_node(\"chat_model\", chat_model_node)\n",
        "\n",
        "builder.add_edge(START, \"filter\")\n",
        "builder.add_edge(\"filter\", \"chat_model\")\n",
        "builder.add_edge(\"chat_model\", END)\n",
        "\n",
        "graph: CompiledStateGraph = builder.compile()\n",
        "\n",
        "display(Image(graph.get_graph().draw_mermaid_png()))"
      ],
      "metadata": {
        "id": "BhsfrCcfovfI",
        "outputId": "53ba1698-5ba0-4971-831d-32076f173366",
        "colab": {
          "base_uri": "https://localhost:8080/",
          "height": 350
        }
      },
      "execution_count": 10,
      "outputs": [
        {
          "output_type": "display_data",
          "data": {
            "image/png": "[encoded data removed]",
            "text/plain": [
              "<IPython.core.display.Image object>"
            ]
          },
          "metadata": {}
        }
      ]
    },
    {
      "cell_type": "code",
      "source": [
        "messages = [AIMessage(\"Hi.\", name=\"Bot\", id=\"1\")]\n",
        "messages.append(HumanMessage(\"Hi.\", name=\"Lance\", id=\"2\"))\n",
        "messages.append(AIMessage(\"So you said you were researching ocean mammals?\", name=\"Bot\", id=\"3\"))\n",
        "messages.append(HumanMessage(\"Yes, I know about whales. But what others should I learn about?\", name=\"Lance\", id=\"4\"))\n",
        "\n",
        "output = graph.invoke({\"messages\": messages})\n",
        "for m in output[\"messages\"]:\n",
        "    m.pretty_print()"
      ],
      "metadata": {
        "id": "g_P-LY-G1jBL",
        "outputId": "3ba56dda-0e1b-47fa-947c-0ff63750b3c2",
        "colab": {
          "base_uri": "https://localhost:8080/"
        }
      },
      "execution_count": 11,
      "outputs": [
        {
          "output_type": "stream",
          "name": "stdout",
          "text": [
            "[RemoveMessage(content='', additional_kwargs={}, response_metadata={}, id='1'), RemoveMessage(content='', additional_kwargs={}, response_metadata={}, id='2')]\n",
            "==================================\u001b[1m Ai Message \u001b[0m==================================\n",
            "Name: Bot\n",
            "\n",
            "So you said you were researching ocean mammals?\n",
            "================================\u001b[1m Human Message \u001b[0m=================================\n",
            "Name: Lance\n",
            "\n",
            "Yes, I know about whales. But what others should I learn about?\n",
            "==================================\u001b[1m Ai Message \u001b[0m==================================\n",
            "\n",
            "That's great you're interested in ocean mammals! Whales are a fascinating group, but there's a whole world beyond them.  To suggest other ocean mammals for your research, it would help to know what aspects of whales interest you.  For example, are you interested in:\n",
            "\n",
            "* **Their behavior?** (e.g., social structures, hunting techniques, communication)\n",
            "* **Their biology?** (e.g., anatomy, physiology, reproduction)\n",
            "* **Their conservation status?** (e.g., threats, population sizes, conservation efforts)\n",
            "* **Specific types of whales?** (e.g., baleen whales vs. toothed whales)\n",
            "* **Their geographic distribution?**\n",
            "\n",
            "Once I understand your interests, I can give you more tailored suggestions.\n",
            "\n",
            "However, here are some other groups of ocean mammals to consider, regardless of your specific focus:\n",
            "\n",
            "* **Dolphins and Porpoises:** These highly intelligent animals exhibit diverse behaviors and social structures.  There's a huge variety within this group, from the common dolphin to the rare vaquita.\n",
            "* **Seals:**  This group includes harbor seals, elephant seals, and many others, each with unique adaptations for their environment.  They're fascinating to study because of their ability to move between land and water.\n",
            "* **Sea Lions:** Similar to seals, but with external ear flaps (pinnae).  They also exhibit diverse behaviors and are found in various habitats.\n",
            "* **Walruses:**  These large, tusked animals are found in Arctic waters and are known for their unique feeding strategies.\n",
            "* **Sea Otters:** The smallest marine mammal, known for its dense fur and use of tools.\n",
            "* **Manatees and Dugongs (Sirenians):**  These gentle giants are herbivores and are found in warmer coastal waters.  They face significant threats from habitat loss and boat strikes.\n",
            "\n",
            "\n",
            "To make the most of your research, consider narrowing your focus to a specific species or a particular aspect of their biology, behavior, or conservation.  Let me know what piques your interest, and I'll help you find some great resources.\n"
          ]
        }
      ]
    },
    {
      "cell_type": "markdown",
      "source": [
        "#Filtering message by passing last message of list to llm"
      ],
      "metadata": {
        "id": "6GBT92ja2LdX"
      }
    },
    {
      "cell_type": "code",
      "source": [
        "def chat_model_node(state: MessagesState):\n",
        "    return {\"messages\": [llm.invoke(state[\"messages\"][-1:])]}\n",
        "\n",
        "builder: StateGraph = StateGraph(MessagesState)\n",
        "\n",
        "builder.add_node(\"chat_model\", chat_model_node)\n",
        "\n",
        "builder.add_edge(START, \"chat_model\")\n",
        "builder.add_edge(\"chat_model\", END)\n",
        "\n",
        "graph: CompiledStateGraph = builder.compile()\n",
        "\n",
        "display(Image(graph.get_graph().draw_mermaid_png()))"
      ],
      "metadata": {
        "id": "4TWLKot72Kfh",
        "outputId": "8d4775a9-6f69-40ae-898a-3ab321d3d709",
        "colab": {
          "base_uri": "https://localhost:8080/",
          "height": 251
        }
      },
      "execution_count": 12,
      "outputs": [
        {
          "output_type": "display_data",
          "data": {
            "image/png": "[encoded data removed]",
            "text/plain": [
              "<IPython.core.display.Image object>"
            ]
          },
          "metadata": {}
        }
      ]
    },
    {
      "cell_type": "code",
      "source": [
        "messages.append(output['messages'][-1])\n",
        "messages.append(HumanMessage(f\"Tell me more about Narwhals!\", name=\"Lance\"))\n",
        "\n",
        "for msg in messages:\n",
        "    msg.pretty_print()"
      ],
      "metadata": {
        "id": "L-MHsp2w3YN6",
        "outputId": "f8443347-70cb-4c5c-c7a8-6493a33b838c",
        "colab": {
          "base_uri": "https://localhost:8080/"
        }
      },
      "execution_count": 13,
      "outputs": [
        {
          "output_type": "stream",
          "name": "stdout",
          "text": [
            "==================================\u001b[1m Ai Message \u001b[0m==================================\n",
            "Name: Bot\n",
            "\n",
            "Hi.\n",
            "================================\u001b[1m Human Message \u001b[0m=================================\n",
            "Name: Lance\n",
            "\n",
            "Hi.\n",
            "==================================\u001b[1m Ai Message \u001b[0m==================================\n",
            "Name: Bot\n",
            "\n",
            "So you said you were researching ocean mammals?\n",
            "================================\u001b[1m Human Message \u001b[0m=================================\n",
            "Name: Lance\n",
            "\n",
            "Yes, I know about whales. But what others should I learn about?\n",
            "==================================\u001b[1m Ai Message \u001b[0m==================================\n",
            "\n",
            "That's great you're interested in ocean mammals! Whales are a fascinating group, but there's a whole world beyond them.  To suggest other ocean mammals for your research, it would help to know what aspects of whales interest you.  For example, are you interested in:\n",
            "\n",
            "* **Their behavior?** (e.g., social structures, hunting techniques, communication)\n",
            "* **Their biology?** (e.g., anatomy, physiology, reproduction)\n",
            "* **Their conservation status?** (e.g., threats, population sizes, conservation efforts)\n",
            "* **Specific types of whales?** (e.g., baleen whales vs. toothed whales)\n",
            "* **Their geographic distribution?**\n",
            "\n",
            "Once I understand your interests, I can give you more tailored suggestions.\n",
            "\n",
            "However, here are some other groups of ocean mammals to consider, regardless of your specific focus:\n",
            "\n",
            "* **Dolphins and Porpoises:** These highly intelligent animals exhibit diverse behaviors and social structures.  There's a huge variety within this group, from the common dolphin to the rare vaquita.\n",
            "* **Seals:**  This group includes harbor seals, elephant seals, and many others, each with unique adaptations for their environment.  They're fascinating to study because of their ability to move between land and water.\n",
            "* **Sea Lions:** Similar to seals, but with external ear flaps (pinnae).  They also exhibit diverse behaviors and are found in various habitats.\n",
            "* **Walruses:**  These large, tusked animals are found in Arctic waters and are known for their unique feeding strategies.\n",
            "* **Sea Otters:** The smallest marine mammal, known for its dense fur and use of tools.\n",
            "* **Manatees and Dugongs (Sirenians):**  These gentle giants are herbivores and are found in warmer coastal waters.  They face significant threats from habitat loss and boat strikes.\n",
            "\n",
            "\n",
            "To make the most of your research, consider narrowing your focus to a specific species or a particular aspect of their biology, behavior, or conservation.  Let me know what piques your interest, and I'll help you find some great resources.\n",
            "================================\u001b[1m Human Message \u001b[0m=================================\n",
            "Name: Lance\n",
            "\n",
            "Tell me more about Narwhals!\n"
          ]
        }
      ]
    },
    {
      "cell_type": "code",
      "source": [
        "output = graph.invoke({\"messages\": messages})\n",
        "\n",
        "for msg in output[\"messages\"]:\n",
        "    msg.pretty_print()"
      ],
      "metadata": {
        "id": "BkFXIvoS3yN6",
        "outputId": "92c9973f-0884-43be-f74e-873f3c158bb4",
        "colab": {
          "base_uri": "https://localhost:8080/"
        }
      },
      "execution_count": 14,
      "outputs": [
        {
          "output_type": "stream",
          "name": "stdout",
          "text": [
            "==================================\u001b[1m Ai Message \u001b[0m==================================\n",
            "Name: Bot\n",
            "\n",
            "Hi.\n",
            "================================\u001b[1m Human Message \u001b[0m=================================\n",
            "Name: Lance\n",
            "\n",
            "Hi.\n",
            "==================================\u001b[1m Ai Message \u001b[0m==================================\n",
            "Name: Bot\n",
            "\n",
            "So you said you were researching ocean mammals?\n",
            "================================\u001b[1m Human Message \u001b[0m=================================\n",
            "Name: Lance\n",
            "\n",
            "Yes, I know about whales. But what others should I learn about?\n",
            "==================================\u001b[1m Ai Message \u001b[0m==================================\n",
            "\n",
            "That's great you're interested in ocean mammals! Whales are a fascinating group, but there's a whole world beyond them.  To suggest other ocean mammals for your research, it would help to know what aspects of whales interest you.  For example, are you interested in:\n",
            "\n",
            "* **Their behavior?** (e.g., social structures, hunting techniques, communication)\n",
            "* **Their biology?** (e.g., anatomy, physiology, reproduction)\n",
            "* **Their conservation status?** (e.g., threats, population sizes, conservation efforts)\n",
            "* **Specific types of whales?** (e.g., baleen whales vs. toothed whales)\n",
            "* **Their geographic distribution?**\n",
            "\n",
            "Once I understand your interests, I can give you more tailored suggestions.\n",
            "\n",
            "However, here are some other groups of ocean mammals to consider, regardless of your specific focus:\n",
            "\n",
            "* **Dolphins and Porpoises:** These highly intelligent animals exhibit diverse behaviors and social structures.  There's a huge variety within this group, from the common dolphin to the rare vaquita.\n",
            "* **Seals:**  This group includes harbor seals, elephant seals, and many others, each with unique adaptations for their environment.  They're fascinating to study because of their ability to move between land and water.\n",
            "* **Sea Lions:** Similar to seals, but with external ear flaps (pinnae).  They also exhibit diverse behaviors and are found in various habitats.\n",
            "* **Walruses:**  These large, tusked animals are found in Arctic waters and are known for their unique feeding strategies.\n",
            "* **Sea Otters:** The smallest marine mammal, known for its dense fur and use of tools.\n",
            "* **Manatees and Dugongs (Sirenians):**  These gentle giants are herbivores and are found in warmer coastal waters.  They face significant threats from habitat loss and boat strikes.\n",
            "\n",
            "\n",
            "To make the most of your research, consider narrowing your focus to a specific species or a particular aspect of their biology, behavior, or conservation.  Let me know what piques your interest, and I'll help you find some great resources.\n",
            "================================\u001b[1m Human Message \u001b[0m=================================\n",
            "Name: Lance\n",
            "\n",
            "Tell me more about Narwhals!\n",
            "==================================\u001b[1m Ai Message \u001b[0m==================================\n",
            "\n",
            "Narwhals ( *Monodon monoceros*) are truly unique and fascinating creatures.  Here's a breakdown of what makes them so special:\n",
            "\n",
            "**Physical Characteristics:**\n",
            "\n",
            "* **The Tusk:**  The most striking feature is the long, spiraled tusk that protrudes from the upper left jaw of males (occasionally females have smaller tusks). This tusk isn't actually a tooth in the traditional sense; it's an elongated incisor that can grow up to 8-10 feet long!  It's believed to have sensory functions, possibly detecting changes in water pressure, salinity, or temperature.  It might also be used for display, fighting, or breaking ice.\n",
            "\n",
            "* **Appearance:** They are medium-sized whales, typically around 13-16 feet long.  Their bodies are predominantly white, often with mottled gray patches.  They have a thick layer of blubber for insulation in their Arctic habitat.\n",
            "\n",
            "* **No Dorsal Fin:** Unlike most other whales, narwhals lack a dorsal fin on their back.  This is thought to help them maneuver more easily through the ice.\n",
            "\n",
            "**Habitat and Behavior:**\n",
            "\n",
            "* **Arctic Waters:** Narwhals are found in the Arctic Ocean and surrounding waters, inhabiting areas with sea ice.  They prefer colder water temperatures.\n",
            "\n",
            "* **Social Animals:** They are highly social animals, living in pods that can range in size from a few individuals to several hundred.  These pods often mix and separate.\n",
            "\n",
            "* **Diving Prowess:** They are deep divers, capable of reaching depths of over 1,500 meters (nearly a mile) in search of food. They can hold their breath for extended periods.\n",
            "\n",
            "* **Diet:** Their diet consists primarily of fish, squid, and crustaceans, which they locate using echolocation.\n",
            "\n",
            "**Conservation Status:**\n",
            "\n",
            "* **Near Threatened:** While not currently endangered, narwhals are considered \"Near Threatened\" due to several factors, including climate change, pollution, and hunting (though hunting is regulated in many areas).  Changes in sea ice are particularly concerning as it impacts their habitat and food sources.\n",
            "\n",
            "**Unique Aspects and Research:**\n",
            "\n",
            "* **Sensory Abilities:** Research into their tusks is ongoing, with scientists actively investigating their sensory capabilities and the potential role of the tusk in communication and navigation.\n",
            "\n",
            "* **Cultural Significance:** Narwhals hold significant cultural importance for many Arctic Indigenous communities, who have sustainably hunted them for centuries.  Their tusks have been used for various purposes, including crafting tools and ceremonial objects.\n",
            "\n",
            "* **Mysterious Behavior:** Certain aspects of narwhal behavior remain a mystery, and ongoing research continues to uncover new insights into their social structures, migration patterns, and adaptations to their challenging environment.\n",
            "\n",
            "\n",
            "In short, narwhals are remarkable creatures adapted to the extreme conditions of the Arctic. Their unique tusk, social behavior, and deep-diving abilities make them a captivating subject of scientific study and a symbol of the Arctic's fragile ecosystem.\n"
          ]
        }
      ]
    },
    {
      "cell_type": "markdown",
      "source": [
        "#Trim messages"
      ],
      "metadata": {
        "id": "j7wtfflX446T"
      }
    },
    {
      "cell_type": "code",
      "source": [
        "from langchain_core.messages import trim_messages\n",
        "\n",
        "def chat_model_node(state: MessagesState) -> MessagesState:\n",
        "    messages = trim_messages(\n",
        "            state[\"messages\"],\n",
        "            max_tokens=100,\n",
        "            strategy=\"last\",\n",
        "            token_counter=ChatGoogleGenerativeAI(api_key=GEMINI_API_KEY, model=\"gemini-1.5-flash\"),\n",
        "            allow_partial=False,\n",
        "        )\n",
        "    return {\"messages\": [llm.invoke(messages)]}\n",
        "\n",
        "builder = StateGraph(MessagesState)\n",
        "\n",
        "builder.add_node(\"chat_model\", chat_model_node)\n",
        "\n",
        "builder.add_edge(START, \"chat_model\")\n",
        "builder.add_edge(\"chat_model\", END)\n",
        "\n",
        "graph = builder.compile()\n",
        "\n",
        "display(Image(graph.get_graph().draw_mermaid_png()))"
      ],
      "metadata": {
        "id": "tr0UZa8p46FZ",
        "outputId": "ccb0f4e4-a32d-45fe-bac0-4178a60f5205",
        "colab": {
          "base_uri": "https://localhost:8080/",
          "height": 251
        }
      },
      "execution_count": 23,
      "outputs": [
        {
          "output_type": "display_data",
          "data": {
            "image/png": "[encoded data removed]",
            "text/plain": [
              "<IPython.core.display.Image object>"
            ]
          },
          "metadata": {}
        }
      ]
    },
    {
      "cell_type": "code",
      "source": [
        "messages.append(output[\"messages\"][-1])\n",
        "messages.append(HumanMessage(\"Tell me where Orcas live!\", name=\"Lance\"))"
      ],
      "metadata": {
        "id": "ALfVfxXQ-5sb"
      },
      "execution_count": 24,
      "outputs": []
    },
    {
      "cell_type": "code",
      "source": [
        "trim_messages(\n",
        "            messages,\n",
        "            max_tokens=100,\n",
        "            strategy=\"last\",\n",
        "            token_counter=ChatGoogleGenerativeAI(api_key=GEMINI_API_KEY, model=\"gemini-1.5-flash\"),\n",
        "            allow_partial=False\n",
        "            )"
      ],
      "metadata": {
        "id": "p48uN0Rj-6ho",
        "outputId": "67e69caa-a0b2-4f8e-b73f-26985fcad19a",
        "colab": {
          "base_uri": "https://localhost:8080/"
        }
      },
      "execution_count": 25,
      "outputs": [
        {
          "output_type": "execute_result",
          "data": {
            "text/plain": [
              "[HumanMessage(content='Tell me where Orcas live!', additional_kwargs={}, response_metadata={}, name='Lance')]"
            ]
          },
          "metadata": {},
          "execution_count": 25
        }
      ]
    },
    {
      "cell_type": "code",
      "source": [
        "graph.invoke({\"messages\": messages})"
      ],
      "metadata": {
        "id": "6rSUfzgLAxW2",
        "outputId": "f2d5be75-be17-4bc5-ccb4-28d3f9134160",
        "colab": {
          "base_uri": "https://localhost:8080/"
        }
      },
      "execution_count": 26,
      "outputs": [
        {
          "output_type": "execute_result",
          "data": {
            "text/plain": [
              "{'messages': [AIMessage(content='Hi.', additional_kwargs={}, response_metadata={}, name='Bot', id='1'),\n",
              "  HumanMessage(content='Hi.', additional_kwargs={}, response_metadata={}, name='Lance', id='2'),\n",
              "  AIMessage(content='So you said you were researching ocean mammals?', additional_kwargs={}, response_metadata={}, name='Bot', id='3'),\n",
              "  HumanMessage(content='Yes, I know about whales. But what others should I learn about?', additional_kwargs={}, response_metadata={}, name='Lance', id='4'),\n",
              "  AIMessage(content=\"That's great you're interested in ocean mammals! Whales are a fascinating group, but there's a whole world beyond them.  To suggest other ocean mammals for your research, it would help to know what aspects of whales interest you.  For example, are you interested in:\\n\\n* **Their behavior?** (e.g., social structures, hunting techniques, communication)\\n* **Their biology?** (e.g., anatomy, physiology, reproduction)\\n* **Their conservation status?** (e.g., threats, population sizes, conservation efforts)\\n* **Specific types of whales?** (e.g., baleen whales vs. toothed whales)\\n* **Their geographic distribution?**\\n\\nOnce I understand your interests, I can give you more tailored suggestions.\\n\\nHowever, here are some other groups of ocean mammals to consider, regardless of your specific focus:\\n\\n* **Dolphins and Porpoises:** These highly intelligent animals exhibit diverse behaviors and social structures.  There's a huge variety within this group, from the common dolphin to the rare vaquita.\\n* **Seals:**  This group includes harbor seals, elephant seals, and many others, each with unique adaptations for their environment.  They're fascinating to study because of their ability to move between land and water.\\n* **Sea Lions:** Similar to seals, but with external ear flaps (pinnae).  They also exhibit diverse behaviors and are found in various habitats.\\n* **Walruses:**  These large, tusked animals are found in Arctic waters and are known for their unique feeding strategies.\\n* **Sea Otters:** The smallest marine mammal, known for its dense fur and use of tools.\\n* **Manatees and Dugongs (Sirenians):**  These gentle giants are herbivores and are found in warmer coastal waters.  They face significant threats from habitat loss and boat strikes.\\n\\n\\nTo make the most of your research, consider narrowing your focus to a specific species or a particular aspect of their biology, behavior, or conservation.  Let me know what piques your interest, and I'll help you find some great resources.\\n\", additional_kwargs={}, response_metadata={'prompt_feedback': {'block_reason': 0, 'safety_ratings': []}, 'finish_reason': 'STOP', 'safety_ratings': []}, id='run-929eb392-a351-4dab-bf04-b4c56b210c10-0', usage_metadata={'input_tokens': 26, 'output_tokens': 446, 'total_tokens': 472, 'input_token_details': {'cache_read': 0}}),\n",
              "  HumanMessage(content='Tell me more about Narwhals!', additional_kwargs={}, response_metadata={}, name='Lance', id='0ae322b7-16a7-4905-91b6-67fd0126c605'),\n",
              "  AIMessage(content='Narwhals ( *Monodon monoceros*) are truly unique and fascinating creatures.  Here\\'s a breakdown of what makes them so special:\\n\\n**Physical Characteristics:**\\n\\n* **The Tusk:**  The most striking feature is the long, spiraled tusk that protrudes from the upper left jaw of males (occasionally females have smaller tusks). This tusk isn\\'t actually a tooth in the traditional sense; it\\'s an elongated incisor that can grow up to 8-10 feet long!  It\\'s believed to have sensory functions, possibly detecting changes in water pressure, salinity, or temperature.  It might also be used for display, fighting, or breaking ice.\\n\\n* **Appearance:** They are medium-sized whales, typically around 13-16 feet long.  Their bodies are predominantly white, often with mottled gray patches.  They have a thick layer of blubber for insulation in their Arctic habitat.\\n\\n* **No Dorsal Fin:** Unlike most other whales, narwhals lack a dorsal fin on their back.  This is thought to help them maneuver more easily through the ice.\\n\\n**Habitat and Behavior:**\\n\\n* **Arctic Waters:** Narwhals are found in the Arctic Ocean and surrounding waters, inhabiting areas with sea ice.  They prefer colder water temperatures.\\n\\n* **Social Animals:** They are highly social animals, living in pods that can range in size from a few individuals to several hundred.  These pods often mix and separate.\\n\\n* **Diving Prowess:** They are deep divers, capable of reaching depths of over 1,500 meters (nearly a mile) in search of food. They can hold their breath for extended periods.\\n\\n* **Diet:** Their diet consists primarily of fish, squid, and crustaceans, which they locate using echolocation.\\n\\n**Conservation Status:**\\n\\n* **Near Threatened:** While not currently endangered, narwhals are considered \"Near Threatened\" due to several factors, including climate change, pollution, and hunting (though hunting is regulated in many areas).  Changes in sea ice are particularly concerning as it impacts their habitat and food sources.\\n\\n**Unique Aspects and Research:**\\n\\n* **Sensory Abilities:** Research into their tusks is ongoing, with scientists actively investigating their sensory capabilities and the potential role of the tusk in communication and navigation.\\n\\n* **Cultural Significance:** Narwhals hold significant cultural importance for many Arctic Indigenous communities, who have sustainably hunted them for centuries.  Their tusks have been used for various purposes, including crafting tools and ceremonial objects.\\n\\n* **Mysterious Behavior:** Certain aspects of narwhal behavior remain a mystery, and ongoing research continues to uncover new insights into their social structures, migration patterns, and adaptations to their challenging environment.\\n\\n\\nIn short, narwhals are remarkable creatures adapted to the extreme conditions of the Arctic. Their unique tusk, social behavior, and deep-diving abilities make them a captivating subject of scientific study and a symbol of the Arctic\\'s fragile ecosystem.\\n', additional_kwargs={}, response_metadata={'prompt_feedback': {'block_reason': 0, 'safety_ratings': []}, 'finish_reason': 'STOP', 'safety_ratings': []}, id='run-8e29098e-8fe3-4bb0-81b3-f7accc5b7a8d-0', usage_metadata={'input_tokens': 9, 'output_tokens': 618, 'total_tokens': 627, 'input_token_details': {'cache_read': 0}}),\n",
              "  HumanMessage(content='Tell me where Orcas live!', additional_kwargs={}, response_metadata={}, name='Lance', id='3ffea6c3-83d7-4a51-be64-daf65a4dc564'),\n",
              "  AIMessage(content='Narwhals ( *Monodon monoceros*) are truly unique and fascinating creatures.  Here\\'s a breakdown of what makes them so special:\\n\\n**Physical Characteristics:**\\n\\n* **The Tusk:**  The most striking feature is the long, spiraled tusk that protrudes from the upper left jaw of males (occasionally females have smaller tusks). This tusk isn\\'t actually a tooth in the traditional sense; it\\'s an elongated incisor that can grow up to 8-10 feet long!  It\\'s believed to have sensory functions, possibly detecting changes in water pressure, salinity, or temperature.  It might also be used for display, fighting, or breaking ice.\\n\\n* **Appearance:** They are medium-sized whales, typically around 13-16 feet long.  Their bodies are predominantly white, often with mottled gray patches.  They have a thick layer of blubber for insulation in their Arctic habitat.\\n\\n* **No Dorsal Fin:** Unlike most other whales, narwhals lack a dorsal fin on their back.  This is thought to help them maneuver more easily through the ice.\\n\\n**Habitat and Behavior:**\\n\\n* **Arctic Waters:** Narwhals are found in the Arctic Ocean and surrounding waters, inhabiting areas with sea ice.  They prefer colder water temperatures.\\n\\n* **Social Animals:** They are highly social animals, living in pods that can range in size from a few individuals to several hundred.  These pods often mix and separate.\\n\\n* **Diving Prowess:** They are deep divers, capable of reaching depths of over 1,500 meters (nearly a mile) in search of food. They can hold their breath for extended periods.\\n\\n* **Diet:** Their diet consists primarily of fish, squid, and crustaceans, which they locate using echolocation.\\n\\n**Conservation Status:**\\n\\n* **Near Threatened:** While not currently endangered, narwhals are considered \"Near Threatened\" due to several factors, including climate change, pollution, and hunting (though hunting is regulated in many areas).  Changes in sea ice are particularly concerning as it impacts their habitat and food sources.\\n\\n**Unique Aspects and Research:**\\n\\n* **Sensory Abilities:** Research into their tusks is ongoing, with scientists actively investigating their sensory capabilities and the potential role of the tusk in communication and navigation.\\n\\n* **Cultural Significance:** Narwhals hold significant cultural importance for many Arctic Indigenous communities, who have sustainably hunted them for centuries.  Their tusks have been used for various purposes, including crafting tools and ceremonial objects.\\n\\n* **Mysterious Behavior:** Certain aspects of narwhal behavior remain a mystery, and ongoing research continues to uncover new insights into their social structures, migration patterns, and adaptations to their challenging environment.\\n\\n\\nIn short, narwhals are remarkable creatures adapted to the extreme conditions of the Arctic. Their unique tusk, social behavior, and deep-diving abilities make them a captivating subject of scientific study and a symbol of the Arctic\\'s fragile ecosystem.\\n', additional_kwargs={}, response_metadata={'prompt_feedback': {'block_reason': 0, 'safety_ratings': []}, 'finish_reason': 'STOP', 'safety_ratings': []}, id='run-8e29098e-8fe3-4bb0-81b3-f7accc5b7a8d-0', usage_metadata={'input_tokens': 9, 'output_tokens': 618, 'total_tokens': 627, 'input_token_details': {'cache_read': 0}}),\n",
              "  HumanMessage(content='Tell me where Orcas live!', additional_kwargs={}, response_metadata={}, name='Lance', id='aa5ce6dd-0386-4471-8672-0f9e7f8aba21'),\n",
              "  AIMessage(content='Orcas, also known as killer whales, are found in all oceans of the world.  They live in a variety of habitats, from coastal waters to the open ocean, and their distribution is quite broad.  However, they are not evenly distributed and certain populations are more localized to specific regions.\\n', additional_kwargs={}, response_metadata={'prompt_feedback': {'block_reason': 0, 'safety_ratings': []}, 'finish_reason': 'STOP', 'safety_ratings': []}, id='run-c6f21fdd-581c-4103-b96f-341f31c0bfd0-0', usage_metadata={'input_tokens': 8, 'output_tokens': 61, 'total_tokens': 69, 'input_token_details': {'cache_read': 0}})]}"
            ]
          },
          "metadata": {},
          "execution_count": 26
        }
      ]
    }
  ],
  "metadata": {
    "language_info": {
      "name": "python"
    },
    "colab": {
      "provenance": []
    },
    "kernelspec": {
      "name": "python3",
      "display_name": "Python 3"
    }
  },
  "nbformat": 4,
  "nbformat_minor": 0
}