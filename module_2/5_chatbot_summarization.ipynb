{
  "cells": [
    {
      "cell_type": "code",
      "execution_count": 103,
      "metadata": {
        "vscode": {
          "languageId": "plaintext"
        },
        "id": "ub4g8sRxGFKD"
      },
      "outputs": [],
      "source": [
        "%pip install -q -U langchain_core langgraph langchain-google-genai"
      ]
    },
    {
      "cell_type": "code",
      "source": [
        "from google.colab import userdata\n",
        "\n",
        "GEMINI_API_KEY = userdata.get(\"GEMINI_API_KEY\")"
      ],
      "metadata": {
        "id": "XGWYizO-G21G"
      },
      "execution_count": 104,
      "outputs": []
    },
    {
      "cell_type": "code",
      "source": [
        "import os\n",
        "\n",
        "os.environ[\"LANGCHAIN_API_KEY\"] = userdata.get(\"LANGCHAIN_API_KEY\")\n",
        "os.environ[\"LANGCHAIN_TRACING_V2\"] = \"true\"\n",
        "os.environ[\"LANGCHAIN_PROJECT\"] = \"langchain-academy\"\n"
      ],
      "metadata": {
        "id": "_d4VvrFbGjLb"
      },
      "execution_count": 105,
      "outputs": []
    },
    {
      "cell_type": "code",
      "source": [
        "from langchain_google_genai import ChatGoogleGenerativeAI\n",
        "\n",
        "llm: ChatGoogleGenerativeAI = ChatGoogleGenerativeAI(api_key=GEMINI_API_KEY, model=\"gemini-1.5-flash\")"
      ],
      "metadata": {
        "id": "GDZNuPopHMfd"
      },
      "execution_count": 106,
      "outputs": []
    },
    {
      "cell_type": "code",
      "source": [
        "from langgraph.graph import MessagesState\n",
        "from langchain_core.messages import SystemMessage, HumanMessage, RemoveMessage\n",
        "\n",
        "class State(MessagesState):\n",
        "    summary: str\n",
        "\n",
        "\n",
        "def call_model(state: State) -> State:\n",
        "    summary = state.get(\"summary\", \"\")\n",
        "\n",
        "    if summary:\n",
        "        system_message = f\"Summary of conversation earlier: {summary}\"\n",
        "        messages = [SystemMessage(content=system_message)] + state[\"messages\"]\n",
        "\n",
        "    else:\n",
        "        messages = state[\"messages\"]\n",
        "\n",
        "    response = llm.invoke(messages)\n",
        "\n",
        "    return {\"messages\": response}"
      ],
      "metadata": {
        "id": "3a-NaBqdHgyC"
      },
      "execution_count": 107,
      "outputs": []
    },
    {
      "cell_type": "code",
      "source": [
        "def summarize_conversation(state: State):\n",
        "    summary = state.get(\"summary\", \"\")\n",
        "\n",
        "    if summary:\n",
        "        summary_message = (\n",
        "            f\"This is summary of the conversation to date: {summary}\\n\\n\"\n",
        "            \"Extend the summary by taking into account the new messages above:\"\n",
        "        )\n",
        "\n",
        "    else:\n",
        "        summary_message = \"Create a summary of the conversation above:\"\n",
        "\n",
        "\n",
        "    messages = state[\"messages\"] + [HumanMessage(content=summary_message)]\n",
        "    response = llm.invoke(messages)\n",
        "\n",
        "    delete_messages = [RemoveMessage(id=m.id) for m in state[\"messages\"][:-2]]\n",
        "\n",
        "    return {\"summary\": response.content, \"messages\": delete_messages}"
      ],
      "metadata": {
        "id": "Esen5gZtSR1r"
      },
      "execution_count": 108,
      "outputs": []
    },
    {
      "cell_type": "code",
      "source": [
        "from langgraph.graph import END\n",
        "\n",
        "def should_continue(state: State):\n",
        "    messages = state[\"messages\"]\n",
        "\n",
        "    if len(messages) > 6:\n",
        "        return \"Summarization Node\"\n",
        "\n",
        "    return END"
      ],
      "metadata": {
        "id": "_F96vjZsSVSN"
      },
      "execution_count": 109,
      "outputs": []
    },
    {
      "cell_type": "code",
      "source": [
        "from langgraph.checkpoint.memory import MemorySaver\n",
        "from langgraph.graph import StateGraph, START\n",
        "from langgraph.graph.state import CompiledStateGraph\n",
        "from IPython.display import Image, display\n",
        "\n",
        "builder: StateGraph = StateGraph(State)\n",
        "\n",
        "builder.add_node(\"Call Model\", call_model)\n",
        "builder.add_node(\"Summarization Node\", summarize_conversation)\n",
        "\n",
        "builder.add_edge(START, \"Call Model\")\n",
        "builder.add_conditional_edges(\"Call Model\", should_continue)\n",
        "builder.add_edge(\"Summarization Node\", END)\n",
        "\n",
        "memory: MemorySaver = MemorySaver()\n",
        "\n",
        "graph: CompiledStateGraph = builder.compile(checkpointer=memory)\n",
        "\n",
        "display(Image(graph.get_graph().draw_mermaid_png()))"
      ],
      "metadata": {
        "colab": {
          "base_uri": "https://localhost:8080/",
          "height": 350
        },
        "id": "DOE1oI65ZIk2",
        "outputId": "d7a7245f-1503-44a7-f248-49432d3f4a27"
      },
      "execution_count": 110,
      "outputs": [
        {
          "output_type": "display_data",
          "data": {
            "image/png": "[encoded data removed]",
            "text/plain": [
              "<IPython.core.display.Image object>"
            ]
          },
          "metadata": {}
        }
      ]
    },
    {
      "cell_type": "code",
      "source": [
        "config = {\"configurable\": {\"thread_id\": \"1\"}}\n",
        "\n",
        "output = graph.invoke({\"messages\": [HumanMessage(content=\"Hi! I'm Sarfaraz\")]}, config)\n",
        "for m in output['messages'][-1:]:\n",
        "    m.pretty_print()\n",
        "\n",
        "output = graph.invoke({\"messages\": [HumanMessage(content=\"What's my name?\")]}, config)\n",
        "for m in output[\"messages\"][-1:]:\n",
        "    m.pretty_print()"
      ],
      "metadata": {
        "colab": {
          "base_uri": "https://localhost:8080/"
        },
        "id": "LAGy7DKzb39Z",
        "outputId": "25cf74e7-701c-48b6-9973-3fbacbad25d5"
      },
      "execution_count": 111,
      "outputs": [
        {
          "output_type": "stream",
          "name": "stdout",
          "text": [
            "==================================\u001b[1m Ai Message \u001b[0m==================================\n",
            "\n",
            "Hi Sarfaraz!  It's nice to meet you. How can I help you today?\n",
            "==================================\u001b[1m Ai Message \u001b[0m==================================\n",
            "\n",
            "Your name is Sarfaraz.\n"
          ]
        }
      ]
    },
    {
      "cell_type": "code",
      "source": [
        "graph.get_state(config).values.get(\"summary\", \"\")"
      ],
      "metadata": {
        "colab": {
          "base_uri": "https://localhost:8080/",
          "height": 35
        },
        "id": "KOJcCZ-ecdkI",
        "outputId": "a1d59d1a-6377-45cb-f9ea-92a04cfcee8b"
      },
      "execution_count": 112,
      "outputs": [
        {
          "output_type": "execute_result",
          "data": {
            "text/plain": [
              "''"
            ],
            "application/vnd.google.colaboratory.intrinsic+json": {
              "type": "string"
            }
          },
          "metadata": {},
          "execution_count": 112
        }
      ]
    },
    {
      "cell_type": "code",
      "source": [
        "output = graph.invoke({\"messages\": [HumanMessage(content=\"I am learning langchain in python\")]}, config)\n",
        "for m in output['messages'][-1:]:\n",
        "    m.pretty_print()\n",
        "\n",
        "output = graph.invoke({\"messages\": [HumanMessage(content=\"why is the sky blue\")]}, config)\n",
        "for m in output['messages'][-1:]:\n",
        "    m.pretty_print()"
      ],
      "metadata": {
        "colab": {
          "base_uri": "https://localhost:8080/"
        },
        "id": "gRcWkOCscm55",
        "outputId": "6c684fdf-ea31-49cd-d2ee-ff56e52af0e6"
      },
      "execution_count": 113,
      "outputs": [
        {
          "output_type": "stream",
          "name": "stdout",
          "text": [
            "==================================\u001b[1m Ai Message \u001b[0m==================================\n",
            "\n",
            "That's great! Langchain is a powerful and versatile framework.  What specifically are you working on or what questions do you have about LangChain in Python?  Knowing your current stage and specific challenges will help me provide more relevant assistance.  For example, are you:\n",
            "\n",
            "* **Just starting out and learning the basics?**  (e.g., setting up the environment, understanding the core concepts like chains and indexes)\n",
            "* **Working on a specific project?** (e.g., building a chatbot, a question-answering system, a document summarizer)\n",
            "* **Troubleshooting a particular problem?** (e.g., getting an error message, struggling with a specific LLM integration)\n",
            "\n",
            "The more details you provide, the better I can help.\n",
            "==================================\u001b[1m Ai Message \u001b[0m==================================\n",
            "\n",
            "The sky is blue due to a phenomenon called **Rayleigh scattering**.  Sunlight is made up of all the colors of the rainbow.  As sunlight enters the Earth's atmosphere, it collides with tiny air molecules (mostly nitrogen and oxygen).  These molecules are much smaller than the wavelengths of visible light.\n",
            "\n",
            "Rayleigh scattering affects shorter wavelengths of light more strongly than longer wavelengths.  Blue and violet light have the shortest wavelengths, so they are scattered much more than the other colors.  This scattered blue light is what we see when we look at the sky.\n",
            "\n",
            "Violet light actually has an even shorter wavelength than blue light and is scattered even more. However, our eyes are less sensitive to violet, and the sun emits slightly less violet light, so we perceive the sky as blue rather than violet.\n",
            "\n",
            "At sunrise and sunset, the sky appears red or orange because the sunlight has to travel through much more of the atmosphere to reach our eyes.  This longer path means that the blue light is scattered away, leaving the longer wavelengths like red and orange to dominate.\n"
          ]
        }
      ]
    },
    {
      "cell_type": "code",
      "source": [
        "graph.get_state(config).values.get(\"summary\",\"\")"
      ],
      "metadata": {
        "colab": {
          "base_uri": "https://localhost:8080/",
          "height": 87
        },
        "id": "wYB0j3p_e7dn",
        "outputId": "cba2b0ff-3627-4942-8db3-6409f120aff2"
      },
      "execution_count": 114,
      "outputs": [
        {
          "output_type": "execute_result",
          "data": {
            "text/plain": [
              "'The conversation began with introductions, where I identified the user as Sarfaraz.  Sarfaraz then stated he was learning Langchain in Python, prompting me to ask for specifics about his learning process or challenges to offer better assistance.  Finally, Sarfaraz asked why the sky is blue, and I explained the scientific reason: Rayleigh scattering of sunlight by air molecules, which preferentially scatters blue and violet light.\\n'"
            ],
            "application/vnd.google.colaboratory.intrinsic+json": {
              "type": "string"
            }
          },
          "metadata": {},
          "execution_count": 114
        }
      ]
    }
  ],
  "metadata": {
    "language_info": {
      "name": "python"
    },
    "colab": {
      "provenance": []
    },
    "kernelspec": {
      "name": "python3",
      "display_name": "Python 3"
    }
  },
  "nbformat": 4,
  "nbformat_minor": 0
}