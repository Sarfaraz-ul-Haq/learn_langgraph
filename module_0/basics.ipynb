{
  "cells": [
    {
      "cell_type": "code",
      "execution_count": 1,
      "metadata": {
        "vscode": {
          "languageId": "plaintext"
        },
        "id": "xY90lbR4xXAc"
      },
      "outputs": [],
      "source": [
        "%%capture --no-stderr\n",
        "%pip install -q -U langchain_google_genai langchain_core langchain_community tavily-python"
      ]
    },
    {
      "cell_type": "code",
      "source": [
        "from google.colab import userdata\n",
        "GEMINI_API_KEY = userdata.get('GEMINI_API_KEY')"
      ],
      "metadata": {
        "id": "bDNuxk5ux8j2"
      },
      "execution_count": 2,
      "outputs": []
    },
    {
      "cell_type": "code",
      "source": [
        "from langchain_google_genai import ChatGoogleGenerativeAI\n",
        "\n",
        "llm: ChatGoogleGenerativeAI = ChatGoogleGenerativeAI(api_key=GEMINI_API_KEY, model=\"gemini-1.5-flash\", temperature=0)\n",
        "\n",
        "llm"
      ],
      "metadata": {
        "colab": {
          "base_uri": "https://localhost:8080/"
        },
        "id": "6vunDJl4yi5n",
        "outputId": "f80870a0-2a60-4e93-cd7b-e4c34ee04789"
      },
      "execution_count": 3,
      "outputs": [
        {
          "output_type": "execute_result",
          "data": {
            "text/plain": [
              "ChatGoogleGenerativeAI(model='models/gemini-1.5-flash', google_api_key=SecretStr('**********'), temperature=0.0, client=<google.ai.generativelanguage_v1beta.services.generative_service.client.GenerativeServiceClient object at 0x7d8d95363d60>, default_metadata=())"
            ]
          },
          "metadata": {},
          "execution_count": 3
        }
      ]
    },
    {
      "cell_type": "code",
      "source": [
        "llm.invoke(\"What is a GPU ?\")"
      ],
      "metadata": {
        "colab": {
          "base_uri": "https://localhost:8080/"
        },
        "id": "frXshcNjzuhH",
        "outputId": "800203b7-78b6-4be0-cd9c-c0f573829320"
      },
      "execution_count": 4,
      "outputs": [
        {
          "output_type": "execute_result",
          "data": {
            "text/plain": [
              "AIMessage(content=\"A GPU, or **Graphics Processing Unit**, is a specialized electronic circuit designed to rapidly manipulate and alter memory to accelerate the creation of images, videos, and other visual content. \\n\\nHere's a breakdown of what a GPU does and why it's important:\\n\\n**What it does:**\\n\\n* **Rendering:** GPUs are primarily used for rendering graphics, which involves converting 3D models and other digital data into images that can be displayed on a screen. This is essential for video games, 3D modeling, and other visually intensive applications.\\n* **Parallel Processing:** GPUs are designed for parallel processing, meaning they can perform many calculations simultaneously. This makes them ideal for tasks that require a lot of processing power, such as machine learning, scientific simulations, and cryptocurrency mining.\\n* **Image and Video Processing:** GPUs can also be used for image and video processing tasks, such as editing, filtering, and encoding.\\n\\n**Why it's important:**\\n\\n* **Enhanced Visual Experiences:** GPUs are responsible for the smooth, high-quality graphics we see in video games, movies, and other visual media.\\n* **Faster Performance:** GPUs accelerate many computationally intensive tasks, making them faster and more efficient.\\n* **Emerging Technologies:** GPUs are playing an increasingly important role in emerging technologies like artificial intelligence, machine learning, and virtual reality.\\n\\n**Key Features:**\\n\\n* **High-speed memory:** GPUs have their own dedicated memory, which is much faster than the main system memory (RAM).\\n* **Parallel processing units:** GPUs have thousands of small processing units that can work together to perform calculations in parallel.\\n* **Shader units:** These units are responsible for creating the visual effects that make graphics look realistic.\\n\\n**In summary:**\\n\\nA GPU is a powerful component that enhances visual experiences, accelerates performance, and enables emerging technologies. It's an essential part of modern computers and is becoming increasingly important in a wide range of applications.\\n\", additional_kwargs={}, response_metadata={'prompt_feedback': {'block_reason': 0, 'safety_ratings': []}, 'finish_reason': 'STOP', 'safety_ratings': [{'category': 'HARM_CATEGORY_SEXUALLY_EXPLICIT', 'probability': 'NEGLIGIBLE', 'blocked': False}, {'category': 'HARM_CATEGORY_HATE_SPEECH', 'probability': 'NEGLIGIBLE', 'blocked': False}, {'category': 'HARM_CATEGORY_HARASSMENT', 'probability': 'NEGLIGIBLE', 'blocked': False}, {'category': 'HARM_CATEGORY_DANGEROUS_CONTENT', 'probability': 'NEGLIGIBLE', 'blocked': False}]}, id='run-e9a25fbb-8945-4d83-a8f9-9f01adf87b11-0', usage_metadata={'input_tokens': 6, 'output_tokens': 397, 'total_tokens': 403, 'input_token_details': {'cache_read': 0}})"
            ]
          },
          "metadata": {},
          "execution_count": 4
        }
      ]
    },
    {
      "cell_type": "code",
      "source": [
        "from langchain_core.messages import AIMessage, HumanMessage, SystemMessage\n",
        "\n",
        "llm.invoke([HumanMessage(\"Hello\")])"
      ],
      "metadata": {
        "colab": {
          "base_uri": "https://localhost:8080/"
        },
        "id": "bmCq7Xf1z_U2",
        "outputId": "2e4bc924-ce78-4a16-fee8-bde243876917"
      },
      "execution_count": 7,
      "outputs": [
        {
          "output_type": "execute_result",
          "data": {
            "text/plain": [
              "AIMessage(content='Hello! How can I help you today? \\n', additional_kwargs={}, response_metadata={'prompt_feedback': {'block_reason': 0, 'safety_ratings': []}, 'finish_reason': 'STOP', 'safety_ratings': [{'category': 'HARM_CATEGORY_SEXUALLY_EXPLICIT', 'probability': 'NEGLIGIBLE', 'blocked': False}, {'category': 'HARM_CATEGORY_HATE_SPEECH', 'probability': 'NEGLIGIBLE', 'blocked': False}, {'category': 'HARM_CATEGORY_HARASSMENT', 'probability': 'NEGLIGIBLE', 'blocked': False}, {'category': 'HARM_CATEGORY_DANGEROUS_CONTENT', 'probability': 'NEGLIGIBLE', 'blocked': False}]}, id='run-1846b1ff-740f-408e-a425-0ab7f9817edd-0', usage_metadata={'input_tokens': 2, 'output_tokens': 10, 'total_tokens': 12, 'input_token_details': {'cache_read': 0}})"
            ]
          },
          "metadata": {},
          "execution_count": 7
        }
      ]
    },
    {
      "cell_type": "code",
      "source": [
        "llm.invoke([HumanMessage(content=\"What is a GPU ?\")])"
      ],
      "metadata": {
        "colab": {
          "base_uri": "https://localhost:8080/"
        },
        "id": "MNOMnGha3C69",
        "outputId": "87da2765-d51c-4403-94b2-5d6fb2307c5b"
      },
      "execution_count": 9,
      "outputs": [
        {
          "output_type": "execute_result",
          "data": {
            "text/plain": [
              "AIMessage(content=\"A GPU, or **Graphics Processing Unit**, is a specialized electronic circuit designed to rapidly manipulate and alter memory to accelerate the creation of images, videos, and other visual content. \\n\\nHere's a breakdown of what a GPU does and why it's important:\\n\\n**What it does:**\\n\\n* **Rendering:** GPUs are primarily used for rendering graphics, which involves converting 3D models and other digital data into images that can be displayed on a screen. This is essential for video games, 3D modeling, and other visually intensive applications.\\n* **Parallel Processing:** GPUs are designed for parallel processing, meaning they can perform many calculations simultaneously. This makes them ideal for tasks that require a lot of processing power, such as machine learning, scientific simulations, and cryptocurrency mining.\\n* **Image and Video Processing:** GPUs can also be used for image and video processing tasks, such as editing, filtering, and encoding.\\n\\n**Why it's important:**\\n\\n* **Enhanced Visual Experiences:** GPUs are responsible for the smooth, high-quality graphics we see in video games, movies, and other visual media.\\n* **Faster Performance:** GPUs accelerate many computationally intensive tasks, making them faster and more efficient.\\n* **Emerging Technologies:** GPUs are playing an increasingly important role in emerging technologies like artificial intelligence, machine learning, and virtual reality.\\n\\n**Key Features:**\\n\\n* **High-speed memory:** GPUs have their own dedicated memory, which is much faster than the main system memory (RAM).\\n* **Parallel processing units:** GPUs have thousands of small processing units that can work together to perform calculations in parallel.\\n* **Shader units:** These units are responsible for creating the visual effects that make graphics look realistic.\\n\\n**In summary:**\\n\\nA GPU is a powerful component that enhances visual experiences, accelerates performance, and enables emerging technologies. It's an essential part of modern computers and is becoming increasingly important in a wide range of applications.\\n\", additional_kwargs={}, response_metadata={'prompt_feedback': {'block_reason': 0, 'safety_ratings': []}, 'finish_reason': 'STOP', 'safety_ratings': [{'category': 'HARM_CATEGORY_SEXUALLY_EXPLICIT', 'probability': 'NEGLIGIBLE', 'blocked': False}, {'category': 'HARM_CATEGORY_HATE_SPEECH', 'probability': 'NEGLIGIBLE', 'blocked': False}, {'category': 'HARM_CATEGORY_HARASSMENT', 'probability': 'NEGLIGIBLE', 'blocked': False}, {'category': 'HARM_CATEGORY_DANGEROUS_CONTENT', 'probability': 'NEGLIGIBLE', 'blocked': False}]}, id='run-4980b58d-faab-4bad-b81f-f659fe0d83af-0', usage_metadata={'input_tokens': 6, 'output_tokens': 397, 'total_tokens': 403, 'input_token_details': {'cache_read': 0}})"
            ]
          },
          "metadata": {},
          "execution_count": 9
        }
      ]
    },
    {
      "cell_type": "code",
      "source": [
        "llm.invoke([HumanMessage(content=\"What is a GPU ?\", name=\"Sarfaraz\")])"
      ],
      "metadata": {
        "colab": {
          "base_uri": "https://localhost:8080/"
        },
        "id": "kqipdNqI3OWb",
        "outputId": "999d712b-2bcd-4204-e776-f47355469fa7"
      },
      "execution_count": 10,
      "outputs": [
        {
          "output_type": "execute_result",
          "data": {
            "text/plain": [
              "AIMessage(content=\"A GPU, or **Graphics Processing Unit**, is a specialized electronic circuit designed to rapidly manipulate and alter memory to accelerate the creation of images, videos, and other visual content. \\n\\nHere's a breakdown of what a GPU does and why it's important:\\n\\n**What it does:**\\n\\n* **Rendering:** GPUs are primarily used for rendering graphics, which involves converting 3D models and other digital data into images that can be displayed on a screen. This is essential for video games, 3D modeling, and other visually intensive applications.\\n* **Parallel Processing:** GPUs are designed for parallel processing, meaning they can perform many calculations simultaneously. This makes them ideal for tasks that require a lot of processing power, such as machine learning, scientific simulations, and cryptocurrency mining.\\n* **Image and Video Processing:** GPUs can also be used for image and video processing tasks, such as editing, filtering, and encoding.\\n\\n**Why it's important:**\\n\\n* **Enhanced Visual Experiences:** GPUs are responsible for the smooth, high-quality graphics we see in video games, movies, and other visual media.\\n* **Faster Performance:** GPUs accelerate many computationally intensive tasks, making them faster and more efficient.\\n* **Emerging Technologies:** GPUs are playing an increasingly important role in emerging technologies like artificial intelligence, machine learning, and virtual reality.\\n\\n**Key Features:**\\n\\n* **High-speed memory:** GPUs have their own dedicated memory, which is much faster than the main system memory (RAM).\\n* **Parallel processing units:** GPUs have thousands of small processing units that can work together to perform calculations in parallel.\\n* **Shader units:** These units are responsible for creating the visual effects that make graphics look realistic.\\n\\n**In summary:**\\n\\nA GPU is a powerful component that enhances visual experiences, accelerates performance, and enables emerging technologies. It's an essential part of modern computers and is becoming increasingly important in a wide range of applications.\\n\", additional_kwargs={}, response_metadata={'prompt_feedback': {'block_reason': 0, 'safety_ratings': []}, 'finish_reason': 'STOP', 'safety_ratings': [{'category': 'HARM_CATEGORY_SEXUALLY_EXPLICIT', 'probability': 'NEGLIGIBLE', 'blocked': False}, {'category': 'HARM_CATEGORY_HATE_SPEECH', 'probability': 'NEGLIGIBLE', 'blocked': False}, {'category': 'HARM_CATEGORY_HARASSMENT', 'probability': 'NEGLIGIBLE', 'blocked': False}, {'category': 'HARM_CATEGORY_DANGEROUS_CONTENT', 'probability': 'NEGLIGIBLE', 'blocked': False}]}, id='run-4b6f344e-aa71-4271-85a1-59695c803ddc-0', usage_metadata={'input_tokens': 6, 'output_tokens': 397, 'total_tokens': 403, 'input_token_details': {'cache_read': 0}})"
            ]
          },
          "metadata": {},
          "execution_count": 10
        }
      ]
    },
    {
      "cell_type": "code",
      "source": [
        "messages = [\n",
        "    SystemMessage(content=\"You are a funny AI bot that helps a user figure out what to eat in one short sentence\"),\n",
        "    HumanMessage(content=\"I am feeling thirsty at 3 am\")\n",
        "]\n",
        "\n",
        "llm.invoke(messages)"
      ],
      "metadata": {
        "colab": {
          "base_uri": "https://localhost:8080/"
        },
        "id": "S6EaMq953uh3",
        "outputId": "6f2a430f-2a05-434f-d5db-af79cb3dd04b"
      },
      "execution_count": 11,
      "outputs": [
        {
          "output_type": "execute_result",
          "data": {
            "text/plain": [
              "AIMessage(content=\"Water, duh! Unless you're feeling adventurous, then it's time for a midnight milkshake. 🥛 \\n\", additional_kwargs={}, response_metadata={'prompt_feedback': {'block_reason': 0, 'safety_ratings': []}, 'finish_reason': 'STOP', 'safety_ratings': [{'category': 'HARM_CATEGORY_SEXUALLY_EXPLICIT', 'probability': 'NEGLIGIBLE', 'blocked': False}, {'category': 'HARM_CATEGORY_HATE_SPEECH', 'probability': 'NEGLIGIBLE', 'blocked': False}, {'category': 'HARM_CATEGORY_HARASSMENT', 'probability': 'NEGLIGIBLE', 'blocked': False}, {'category': 'HARM_CATEGORY_DANGEROUS_CONTENT', 'probability': 'NEGLIGIBLE', 'blocked': False}]}, id='run-6496a4f3-5ccd-45e4-a76b-4e6f3992c383-0', usage_metadata={'input_tokens': 28, 'output_tokens': 23, 'total_tokens': 51, 'input_token_details': {'cache_read': 0}})"
            ]
          },
          "metadata": {},
          "execution_count": 11
        }
      ]
    },
    {
      "cell_type": "code",
      "source": [
        "messages = [HumanMessage(content=\"What is a GPU ?\", name=\"Sarfaraz\"),\n",
        "            AIMessage(content=\"A GPU is a specialized processor that's really good at handling graphics and calculations.\"),\n",
        "            HumanMessage(content=\"What the topic of our conversation ?\")]\n",
        "\n",
        "llm.invoke(messages)\n"
      ],
      "metadata": {
        "colab": {
          "base_uri": "https://localhost:8080/"
        },
        "id": "mogw6cfB4NSk",
        "outputId": "91da21ac-3f87-44e6-880f-e900eea7641f"
      },
      "execution_count": 13,
      "outputs": [
        {
          "output_type": "execute_result",
          "data": {
            "text/plain": [
              "AIMessage(content=\"Our conversation is about **GPUs**, specifically what they are and their purpose. \\n\\nDo you have any specific questions about GPUs? I'm happy to provide more information! \\n\", additional_kwargs={}, response_metadata={'prompt_feedback': {'block_reason': 0, 'safety_ratings': []}, 'finish_reason': 'STOP', 'safety_ratings': [{'category': 'HARM_CATEGORY_SEXUALLY_EXPLICIT', 'probability': 'NEGLIGIBLE', 'blocked': False}, {'category': 'HARM_CATEGORY_HATE_SPEECH', 'probability': 'NEGLIGIBLE', 'blocked': False}, {'category': 'HARM_CATEGORY_HARASSMENT', 'probability': 'NEGLIGIBLE', 'blocked': False}, {'category': 'HARM_CATEGORY_DANGEROUS_CONTENT', 'probability': 'NEGLIGIBLE', 'blocked': False}]}, id='run-0bac5ba9-0c3e-4009-bd70-f48805b877ab-0', usage_metadata={'input_tokens': 32, 'output_tokens': 36, 'total_tokens': 68, 'input_token_details': {'cache_read': 0}})"
            ]
          },
          "metadata": {},
          "execution_count": 13
        }
      ]
    },
    {
      "cell_type": "markdown",
      "source": [
        "#Search Tool"
      ],
      "metadata": {
        "id": "HiaczlEC5WYK"
      }
    },
    {
      "cell_type": "code",
      "source": [
        "import os\n",
        "from langchain_community.tools.tavily_search import TavilySearchResults\n",
        "\n",
        "os.environ[\"TAVILY_API_KEY\"] = userdata.get(\"TAVILY_API_KEY\")\n",
        "\n",
        "tavily_search = TavilySearchResults(max_results=2)\n",
        "search_result = tavily_search.invoke(\"Features of Elon Musk's robotaxi\")\n",
        "search_result\n"
      ],
      "metadata": {
        "colab": {
          "base_uri": "https://localhost:8080/"
        },
        "id": "iQ-QejkD5Y0T",
        "outputId": "74e40cc5-5670-42a9-8142-fd62513318d7"
      },
      "execution_count": 15,
      "outputs": [
        {
          "output_type": "execute_result",
          "data": {
            "text/plain": [
              "[{'url': 'https://www.edmunds.com/car-news/tesla-cybercab-robotaxi-debut-first-look.html',\n",
              "  'content': \"Tesla Robotaxi: Here's Elon Musk's Self-Driving Cybercab New Car Pricing Tesla Robotaxi: Here's Elon Musk's Self-Driving Cybercab Tesla Robotaxi: Here's Elon Musk's Self-Driving Cybercab Tesla CEO Elon Musk revealed the company's Robotaxi, or Cybercab, at an event in Los Angeles on Thursday night. The Tesla Robotaxi — or as CEO Elon Musk calls it, Cybercab — is here. Musk says the Robotaxi will feature inductive charging, meaning it can drive over a charger and regenerate its battery that way — kind of like wireless smartphone charging, but for a car. Lease deals by make Hyundai Lease Deals Lexus Lease Deals Chevrolet Lease Deals GMC Lease Deals Audi Lease Deals Lease deals by model Honda Pilot Lease Deals\"},\n",
              " {'url': 'https://www.newsweek.com/tesla-cybercab-five-takeaways-elon-musk-unveils-robotaxi-1967466',\n",
              "  'content': \"Tesla Cybercab: Five Takeaways as Elon Musk Unveils Robotaxi - Newsweek Tesla CEO Elon Musk has unveiled the company's latest vehicle, the Cybercab, a fully autonomous self-driving car with no steering wheel, accelerator, or brake pedal. At Tesla's We, Robot event on October 10, CEO Elon Musk unveiled the fully autonomous Cybercab, expected to be available before 2027. At Tesla's We, Robot event on October 10, CEO Elon Musk unveiled the fully autonomous Cybercab, expected to be available before 2027. Discussing what regions the Cybercab and the robotaxi experience via the Model 3 and Model Y will be available, the Tesla CEO revealed that the autonomous vehicle will come to the U.S. first, followed by other regions globally.\"}]"
            ]
          },
          "metadata": {},
          "execution_count": 15
        }
      ]
    },
    {
      "cell_type": "code",
      "source": [
        "llm.invoke(\"Features of Elon Musk's robotaxi\")"
      ],
      "metadata": {
        "id": "iUhaZObr-HFj",
        "outputId": "f7edc6cd-60d6-44f6-fd35-6864732b00d8",
        "colab": {
          "base_uri": "https://localhost:8080/"
        }
      },
      "execution_count": 16,
      "outputs": [
        {
          "output_type": "execute_result",
          "data": {
            "text/plain": [
              "AIMessage(content='While Elon Musk has talked extensively about Tesla\\'s plans for a robotaxi service, there\\'s no official \"robotaxi\" product yet. However, based on his statements and Tesla\\'s current technology, we can speculate on some potential features:\\n\\n**Potential Features:**\\n\\n* **Full Autonomy:** The robotaxi would be fully autonomous, meaning it would operate without a human driver. This would rely on Tesla\\'s Autopilot and Full Self-Driving (FSD) systems, which are constantly being developed and improved.\\n* **Electric Powertrain:** Like all Tesla vehicles, the robotaxi would be powered by an electric motor, offering zero tailpipe emissions and potentially lower operating costs.\\n* **Ride-hailing Integration:** The robotaxi would likely be integrated with a ride-hailing platform, allowing users to request rides through an app.\\n* **Safety Features:** Tesla\\'s robotaxi would likely incorporate advanced safety features, including collision avoidance systems, lane keeping assist, and automatic emergency braking.\\n* **Passenger Comfort:** The robotaxi would likely be designed with passenger comfort in mind, featuring spacious interiors, comfortable seating, and potentially entertainment systems.\\n* **Fleet Management:** Tesla would likely manage a fleet of robotaxis, ensuring their maintenance, charging, and deployment.\\n* **Data Collection and Analysis:** The robotaxi would collect data on its performance, traffic conditions, and passenger behavior, which could be used to improve the service and develop new features.\\n\\n**Uncertainties:**\\n\\n* **Timeline:** There\\'s no confirmed timeline for the launch of a Tesla robotaxi service.\\n* **Regulatory Approval:** The deployment of robotaxis would require regulatory approval, which could be a significant hurdle.\\n* **Cost:** The cost of developing and deploying a robotaxi fleet would be substantial.\\n* **Public Acceptance:** Public acceptance of autonomous vehicles is still evolving, and there are concerns about safety and job displacement.\\n\\n**Overall:**\\n\\nWhile the details are still under wraps, Elon Musk\\'s vision for a robotaxi service is ambitious and potentially transformative. It could revolutionize transportation, offering a safe, convenient, and sustainable alternative to traditional taxis. However, there are significant challenges to overcome before this vision becomes a reality. \\n', additional_kwargs={}, response_metadata={'prompt_feedback': {'block_reason': 0, 'safety_ratings': []}, 'finish_reason': 'STOP', 'safety_ratings': [{'category': 'HARM_CATEGORY_SEXUALLY_EXPLICIT', 'probability': 'NEGLIGIBLE', 'blocked': False}, {'category': 'HARM_CATEGORY_HATE_SPEECH', 'probability': 'NEGLIGIBLE', 'blocked': False}, {'category': 'HARM_CATEGORY_HARASSMENT', 'probability': 'NEGLIGIBLE', 'blocked': False}, {'category': 'HARM_CATEGORY_DANGEROUS_CONTENT', 'probability': 'NEGLIGIBLE', 'blocked': False}]}, id='run-871945ff-b8e0-424c-8e1b-d06eb6f345e6-0', usage_metadata={'input_tokens': 9, 'output_tokens': 456, 'total_tokens': 465, 'input_token_details': {'cache_read': 0}})"
            ]
          },
          "metadata": {},
          "execution_count": 16
        }
      ]
    }
  ],
  "metadata": {
    "language_info": {
      "name": "python"
    },
    "colab": {
      "provenance": []
    },
    "kernelspec": {
      "name": "python3",
      "display_name": "Python 3"
    }
  },
  "nbformat": 4,
  "nbformat_minor": 0
}