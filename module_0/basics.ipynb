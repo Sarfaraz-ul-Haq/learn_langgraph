{
  "cells": [
    {
      "cell_type": "code",
      "execution_count": 1,
      "metadata": {
        "vscode": {
          "languageId": "plaintext"
        },
        "id": "xY90lbR4xXAc"
      },
      "outputs": [],
      "source": [
        "%%capture --no-stderr\n",
        "%pip install -q -U langchain_google_genai langchain_core langchain_community tavily-python"
      ]
    },
    {
      "cell_type": "code",
      "source": [
        "from google.colab import userdata\n",
        "GEMINI_API_KEY = userdata.get('GEMINI_API_KEY')"
      ],
      "metadata": {
        "id": "bDNuxk5ux8j2"
      },
      "execution_count": 2,
      "outputs": []
    },
    {
      "cell_type": "code",
      "source": [
        "from langchain_google_genai import ChatGoogleGenerativeAI\n",
        "\n",
        "llm: ChatGoogleGenerativeAI = ChatGoogleGenerativeAI(api_key=GEMINI_API_KEY, model=\"gemini-1.5-flash\", temperature=0)\n",
        "\n",
        "llm"
      ],
      "metadata": {
        "id": "6vunDJl4yi5n",
        "outputId": "f80870a0-2a60-4e93-cd7b-e4c34ee04789",
        "colab": {
          "base_uri": "https://localhost:8080/"
        }
      },
      "execution_count": 3,
      "outputs": [
        {
          "output_type": "execute_result",
          "data": {
            "text/plain": [
              "ChatGoogleGenerativeAI(model='models/gemini-1.5-flash', google_api_key=SecretStr('**********'), temperature=0.0, client=<google.ai.generativelanguage_v1beta.services.generative_service.client.GenerativeServiceClient object at 0x7d8d95363d60>, default_metadata=())"
            ]
          },
          "metadata": {},
          "execution_count": 3
        }
      ]
    },
    {
      "cell_type": "code",
      "source": [
        "llm.invoke(\"What is a GPU ?\")"
      ],
      "metadata": {
        "id": "frXshcNjzuhH",
        "outputId": "800203b7-78b6-4be0-cd9c-c0f573829320",
        "colab": {
          "base_uri": "https://localhost:8080/"
        }
      },
      "execution_count": 4,
      "outputs": [
        {
          "output_type": "execute_result",
          "data": {
            "text/plain": [
              "AIMessage(content=\"A GPU, or **Graphics Processing Unit**, is a specialized electronic circuit designed to rapidly manipulate and alter memory to accelerate the creation of images, videos, and other visual content. \\n\\nHere's a breakdown of what a GPU does and why it's important:\\n\\n**What it does:**\\n\\n* **Rendering:** GPUs are primarily used for rendering graphics, which involves converting 3D models and other digital data into images that can be displayed on a screen. This is essential for video games, 3D modeling, and other visually intensive applications.\\n* **Parallel Processing:** GPUs are designed for parallel processing, meaning they can perform many calculations simultaneously. This makes them ideal for tasks that require a lot of processing power, such as machine learning, scientific simulations, and cryptocurrency mining.\\n* **Image and Video Processing:** GPUs can also be used for image and video processing tasks, such as editing, filtering, and encoding.\\n\\n**Why it's important:**\\n\\n* **Enhanced Visual Experiences:** GPUs are responsible for the smooth, high-quality graphics we see in video games, movies, and other visual media.\\n* **Faster Performance:** GPUs accelerate many computationally intensive tasks, making them faster and more efficient.\\n* **Emerging Technologies:** GPUs are playing an increasingly important role in emerging technologies like artificial intelligence, machine learning, and virtual reality.\\n\\n**Key Features:**\\n\\n* **High-speed memory:** GPUs have their own dedicated memory, which is much faster than the main system memory (RAM).\\n* **Parallel processing units:** GPUs have thousands of small processing units that can work together to perform calculations in parallel.\\n* **Shader units:** These units are responsible for creating the visual effects that make graphics look realistic.\\n\\n**In summary:**\\n\\nA GPU is a powerful component that enhances visual experiences, accelerates performance, and enables emerging technologies. It's an essential part of modern computers and is becoming increasingly important in a wide range of applications.\\n\", additional_kwargs={}, response_metadata={'prompt_feedback': {'block_reason': 0, 'safety_ratings': []}, 'finish_reason': 'STOP', 'safety_ratings': [{'category': 'HARM_CATEGORY_SEXUALLY_EXPLICIT', 'probability': 'NEGLIGIBLE', 'blocked': False}, {'category': 'HARM_CATEGORY_HATE_SPEECH', 'probability': 'NEGLIGIBLE', 'blocked': False}, {'category': 'HARM_CATEGORY_HARASSMENT', 'probability': 'NEGLIGIBLE', 'blocked': False}, {'category': 'HARM_CATEGORY_DANGEROUS_CONTENT', 'probability': 'NEGLIGIBLE', 'blocked': False}]}, id='run-e9a25fbb-8945-4d83-a8f9-9f01adf87b11-0', usage_metadata={'input_tokens': 6, 'output_tokens': 397, 'total_tokens': 403, 'input_token_details': {'cache_read': 0}})"
            ]
          },
          "metadata": {},
          "execution_count": 4
        }
      ]
    },
    {
      "cell_type": "code",
      "source": [
        "from langchain_core.messages import AIMessage, HumanMessage, SystemMessage\n",
        "\n",
        "llm.invoke([HumanMessage(\"Hello\")])"
      ],
      "metadata": {
        "id": "bmCq7Xf1z_U2",
        "outputId": "2e4bc924-ce78-4a16-fee8-bde243876917",
        "colab": {
          "base_uri": "https://localhost:8080/"
        }
      },
      "execution_count": 7,
      "outputs": [
        {
          "output_type": "execute_result",
          "data": {
            "text/plain": [
              "AIMessage(content='Hello! How can I help you today? \\n', additional_kwargs={}, response_metadata={'prompt_feedback': {'block_reason': 0, 'safety_ratings': []}, 'finish_reason': 'STOP', 'safety_ratings': [{'category': 'HARM_CATEGORY_SEXUALLY_EXPLICIT', 'probability': 'NEGLIGIBLE', 'blocked': False}, {'category': 'HARM_CATEGORY_HATE_SPEECH', 'probability': 'NEGLIGIBLE', 'blocked': False}, {'category': 'HARM_CATEGORY_HARASSMENT', 'probability': 'NEGLIGIBLE', 'blocked': False}, {'category': 'HARM_CATEGORY_DANGEROUS_CONTENT', 'probability': 'NEGLIGIBLE', 'blocked': False}]}, id='run-1846b1ff-740f-408e-a425-0ab7f9817edd-0', usage_metadata={'input_tokens': 2, 'output_tokens': 10, 'total_tokens': 12, 'input_token_details': {'cache_read': 0}})"
            ]
          },
          "metadata": {},
          "execution_count": 7
        }
      ]
    },
    {
      "cell_type": "code",
      "source": [
        "llm.invoke([HumanMessage(content=\"What is a GPU ?\")])"
      ],
      "metadata": {
        "id": "MNOMnGha3C69",
        "outputId": "87da2765-d51c-4403-94b2-5d6fb2307c5b",
        "colab": {
          "base_uri": "https://localhost:8080/"
        }
      },
      "execution_count": 9,
      "outputs": [
        {
          "output_type": "execute_result",
          "data": {
            "text/plain": [
              "AIMessage(content=\"A GPU, or **Graphics Processing Unit**, is a specialized electronic circuit designed to rapidly manipulate and alter memory to accelerate the creation of images, videos, and other visual content. \\n\\nHere's a breakdown of what a GPU does and why it's important:\\n\\n**What it does:**\\n\\n* **Rendering:** GPUs are primarily used for rendering graphics, which involves converting 3D models and other digital data into images that can be displayed on a screen. This is essential for video games, 3D modeling, and other visually intensive applications.\\n* **Parallel Processing:** GPUs are designed for parallel processing, meaning they can perform many calculations simultaneously. This makes them ideal for tasks that require a lot of processing power, such as machine learning, scientific simulations, and cryptocurrency mining.\\n* **Image and Video Processing:** GPUs can also be used for image and video processing tasks, such as editing, filtering, and encoding.\\n\\n**Why it's important:**\\n\\n* **Enhanced Visual Experiences:** GPUs are responsible for the smooth, high-quality graphics we see in video games, movies, and other visual media.\\n* **Faster Performance:** GPUs accelerate many computationally intensive tasks, making them faster and more efficient.\\n* **Emerging Technologies:** GPUs are playing an increasingly important role in emerging technologies like artificial intelligence, machine learning, and virtual reality.\\n\\n**Key Features:**\\n\\n* **High-speed memory:** GPUs have their own dedicated memory, which is much faster than the main system memory (RAM).\\n* **Parallel processing units:** GPUs have thousands of small processing units that can work together to perform calculations in parallel.\\n* **Shader units:** These units are responsible for creating the visual effects that make graphics look realistic.\\n\\n**In summary:**\\n\\nA GPU is a powerful component that enhances visual experiences, accelerates performance, and enables emerging technologies. It's an essential part of modern computers and is becoming increasingly important in a wide range of applications.\\n\", additional_kwargs={}, response_metadata={'prompt_feedback': {'block_reason': 0, 'safety_ratings': []}, 'finish_reason': 'STOP', 'safety_ratings': [{'category': 'HARM_CATEGORY_SEXUALLY_EXPLICIT', 'probability': 'NEGLIGIBLE', 'blocked': False}, {'category': 'HARM_CATEGORY_HATE_SPEECH', 'probability': 'NEGLIGIBLE', 'blocked': False}, {'category': 'HARM_CATEGORY_HARASSMENT', 'probability': 'NEGLIGIBLE', 'blocked': False}, {'category': 'HARM_CATEGORY_DANGEROUS_CONTENT', 'probability': 'NEGLIGIBLE', 'blocked': False}]}, id='run-4980b58d-faab-4bad-b81f-f659fe0d83af-0', usage_metadata={'input_tokens': 6, 'output_tokens': 397, 'total_tokens': 403, 'input_token_details': {'cache_read': 0}})"
            ]
          },
          "metadata": {},
          "execution_count": 9
        }
      ]
    },
    {
      "cell_type": "code",
      "source": [
        "llm.invoke([HumanMessage(content=\"What is a GPU ?\", name=\"Sarfaraz\")])"
      ],
      "metadata": {
        "id": "kqipdNqI3OWb",
        "outputId": "999d712b-2bcd-4204-e776-f47355469fa7",
        "colab": {
          "base_uri": "https://localhost:8080/"
        }
      },
      "execution_count": 10,
      "outputs": [
        {
          "output_type": "execute_result",
          "data": {
            "text/plain": [
              "AIMessage(content=\"A GPU, or **Graphics Processing Unit**, is a specialized electronic circuit designed to rapidly manipulate and alter memory to accelerate the creation of images, videos, and other visual content. \\n\\nHere's a breakdown of what a GPU does and why it's important:\\n\\n**What it does:**\\n\\n* **Rendering:** GPUs are primarily used for rendering graphics, which involves converting 3D models and other digital data into images that can be displayed on a screen. This is essential for video games, 3D modeling, and other visually intensive applications.\\n* **Parallel Processing:** GPUs are designed for parallel processing, meaning they can perform many calculations simultaneously. This makes them ideal for tasks that require a lot of processing power, such as machine learning, scientific simulations, and cryptocurrency mining.\\n* **Image and Video Processing:** GPUs can also be used for image and video processing tasks, such as editing, filtering, and encoding.\\n\\n**Why it's important:**\\n\\n* **Enhanced Visual Experiences:** GPUs are responsible for the smooth, high-quality graphics we see in video games, movies, and other visual media.\\n* **Faster Performance:** GPUs accelerate many computationally intensive tasks, making them faster and more efficient.\\n* **Emerging Technologies:** GPUs are playing an increasingly important role in emerging technologies like artificial intelligence, machine learning, and virtual reality.\\n\\n**Key Features:**\\n\\n* **High-speed memory:** GPUs have their own dedicated memory, which is much faster than the main system memory (RAM).\\n* **Parallel processing units:** GPUs have thousands of small processing units that can work together to perform calculations in parallel.\\n* **Shader units:** These units are responsible for creating the visual effects that make graphics look realistic.\\n\\n**In summary:**\\n\\nA GPU is a powerful component that enhances visual experiences, accelerates performance, and enables emerging technologies. It's an essential part of modern computers and is becoming increasingly important in a wide range of applications.\\n\", additional_kwargs={}, response_metadata={'prompt_feedback': {'block_reason': 0, 'safety_ratings': []}, 'finish_reason': 'STOP', 'safety_ratings': [{'category': 'HARM_CATEGORY_SEXUALLY_EXPLICIT', 'probability': 'NEGLIGIBLE', 'blocked': False}, {'category': 'HARM_CATEGORY_HATE_SPEECH', 'probability': 'NEGLIGIBLE', 'blocked': False}, {'category': 'HARM_CATEGORY_HARASSMENT', 'probability': 'NEGLIGIBLE', 'blocked': False}, {'category': 'HARM_CATEGORY_DANGEROUS_CONTENT', 'probability': 'NEGLIGIBLE', 'blocked': False}]}, id='run-4b6f344e-aa71-4271-85a1-59695c803ddc-0', usage_metadata={'input_tokens': 6, 'output_tokens': 397, 'total_tokens': 403, 'input_token_details': {'cache_read': 0}})"
            ]
          },
          "metadata": {},
          "execution_count": 10
        }
      ]
    },
    {
      "cell_type": "code",
      "source": [
        "messages = [\n",
        "    SystemMessage(content=\"You are a funny AI bot that helps a user figure out what to eat in one short sentence\"),\n",
        "    HumanMessage(content=\"I am feeling thirsty at 3 am\")\n",
        "]\n",
        "\n",
        "llm.invoke(messages)"
      ],
      "metadata": {
        "id": "S6EaMq953uh3",
        "outputId": "6f2a430f-2a05-434f-d5db-af79cb3dd04b",
        "colab": {
          "base_uri": "https://localhost:8080/"
        }
      },
      "execution_count": 11,
      "outputs": [
        {
          "output_type": "execute_result",
          "data": {
            "text/plain": [
              "AIMessage(content=\"Water, duh! Unless you're feeling adventurous, then it's time for a midnight milkshake. 🥛 \\n\", additional_kwargs={}, response_metadata={'prompt_feedback': {'block_reason': 0, 'safety_ratings': []}, 'finish_reason': 'STOP', 'safety_ratings': [{'category': 'HARM_CATEGORY_SEXUALLY_EXPLICIT', 'probability': 'NEGLIGIBLE', 'blocked': False}, {'category': 'HARM_CATEGORY_HATE_SPEECH', 'probability': 'NEGLIGIBLE', 'blocked': False}, {'category': 'HARM_CATEGORY_HARASSMENT', 'probability': 'NEGLIGIBLE', 'blocked': False}, {'category': 'HARM_CATEGORY_DANGEROUS_CONTENT', 'probability': 'NEGLIGIBLE', 'blocked': False}]}, id='run-6496a4f3-5ccd-45e4-a76b-4e6f3992c383-0', usage_metadata={'input_tokens': 28, 'output_tokens': 23, 'total_tokens': 51, 'input_token_details': {'cache_read': 0}})"
            ]
          },
          "metadata": {},
          "execution_count": 11
        }
      ]
    },
    {
      "cell_type": "code",
      "source": [
        "messages = [HumanMessage(content=\"What is a GPU ?\", name=\"Sarfaraz\"),\n",
        "            AIMessage(content=\"A GPU is a specialized processor that's really good at handling graphics and calculations.\"),\n",
        "            HumanMessage(content=\"What the topic of our conversation ?\")]\n",
        "\n",
        "llm.invoke(messages)\n"
      ],
      "metadata": {
        "id": "mogw6cfB4NSk",
        "outputId": "91da21ac-3f87-44e6-880f-e900eea7641f",
        "colab": {
          "base_uri": "https://localhost:8080/"
        }
      },
      "execution_count": 13,
      "outputs": [
        {
          "output_type": "execute_result",
          "data": {
            "text/plain": [
              "AIMessage(content=\"Our conversation is about **GPUs**, specifically what they are and their purpose. \\n\\nDo you have any specific questions about GPUs? I'm happy to provide more information! \\n\", additional_kwargs={}, response_metadata={'prompt_feedback': {'block_reason': 0, 'safety_ratings': []}, 'finish_reason': 'STOP', 'safety_ratings': [{'category': 'HARM_CATEGORY_SEXUALLY_EXPLICIT', 'probability': 'NEGLIGIBLE', 'blocked': False}, {'category': 'HARM_CATEGORY_HATE_SPEECH', 'probability': 'NEGLIGIBLE', 'blocked': False}, {'category': 'HARM_CATEGORY_HARASSMENT', 'probability': 'NEGLIGIBLE', 'blocked': False}, {'category': 'HARM_CATEGORY_DANGEROUS_CONTENT', 'probability': 'NEGLIGIBLE', 'blocked': False}]}, id='run-0bac5ba9-0c3e-4009-bd70-f48805b877ab-0', usage_metadata={'input_tokens': 32, 'output_tokens': 36, 'total_tokens': 68, 'input_token_details': {'cache_read': 0}})"
            ]
          },
          "metadata": {},
          "execution_count": 13
        }
      ]
    },
    {
      "cell_type": "markdown",
      "source": [
        "#Search Tool"
      ],
      "metadata": {
        "id": "HiaczlEC5WYK"
      }
    },
    {
      "cell_type": "code",
      "source": [
        "import os\n",
        "import getpass\n",
        "os.environ[\"TAVILY_API_KEY\"] = getpass.getpass(\"Enter your Tavily API key:\\n\")\n",
        "from langchain_community.tools import TavilySearchResults\n"
      ],
      "metadata": {
        "id": "iQ-QejkD5Y0T"
      },
      "execution_count": null,
      "outputs": []
    }
  ],
  "metadata": {
    "language_info": {
      "name": "python"
    },
    "colab": {
      "provenance": []
    },
    "kernelspec": {
      "name": "python3",
      "display_name": "Python 3"
    }
  },
  "nbformat": 4,
  "nbformat_minor": 0
}