{
  "cells": [
    {
      "cell_type": "markdown",
      "source": [
        "#Messages"
      ],
      "metadata": {
        "id": "p9297o2wSF1a"
      }
    },
    {
      "cell_type": "code",
      "source": [
        "%pip install -q langchain"
      ],
      "metadata": {
        "id": "K04i09OwUZRK"
      },
      "execution_count": 104,
      "outputs": []
    },
    {
      "cell_type": "code",
      "execution_count": 105,
      "metadata": {
        "vscode": {
          "languageId": "plaintext"
        },
        "id": "UdQ5XszFR_Yo",
        "outputId": "e53297e4-8023-431b-d6ba-dd5713fdeb34",
        "colab": {
          "base_uri": "https://localhost:8080/"
        }
      },
      "outputs": [
        {
          "output_type": "stream",
          "name": "stdout",
          "text": [
            "================================\u001b[1m Human Message \u001b[0m=================================\n",
            "Name: Sarfaraz\n",
            "\n",
            "What is a GPU ? Give answer in two lines\n",
            "==================================\u001b[1m Ai Message \u001b[0m==================================\n",
            "Name: Gemini Model\n",
            "\n",
            "A GPU (Graphics Processing Unit) is a specialized electronic                                    circuit designed to rapidly manipulate and generate images,                                    videos, and other visual data.\n",
            "================================\u001b[1m Human Message \u001b[0m=================================\n",
            "Name: Sarfaraz\n",
            "\n",
            "What is a CPU ? Give answer in two lines\n",
            "==================================\u001b[1m Ai Message \u001b[0m==================================\n",
            "\n",
            "A CPU (Central Processing Unit) is the primary component of a                                    computer that performs most of the processing, executing instructions                                    from programs to carry out tasks.\n",
            "================================\u001b[1m Human Message \u001b[0m=================================\n",
            "Name: Sarfaraz\n",
            "\n",
            "Ok I got it\n"
          ]
        }
      ],
      "source": [
        "from langchain_core.messages import HumanMessage, AIMessage, SystemMessage\n",
        "from pprint import pprint\n",
        "\n",
        "messages = [HumanMessage(content=\"What is a GPU ? Give answer in two lines\", name=\"Sarfaraz\")]\n",
        "\n",
        "messages.append(AIMessage(content=\"A GPU (Graphics Processing Unit) is a specialized electronic \\\n",
        "                                   circuit designed to rapidly manipulate and generate images, \\\n",
        "                                   videos, and other visual data.\", name=\"Gemini Model\"))\n",
        "messages.append(HumanMessage(content=\"What is a CPU ? Give answer in two lines\", name=\"Sarfaraz\"))\n",
        "messages.append(AIMessage(content=\"A CPU (Central Processing Unit) is the primary component of a \\\n",
        "                                   computer that performs most of the processing, executing instructions \\\n",
        "                                   from programs to carry out tasks.\", model=\"Gemini Model\"))\n",
        "messages.append(HumanMessage(content=\"Ok I got it\", name=\"Sarfaraz\"))\n",
        "\n",
        "# print(messages)\n",
        "type(messages)\n",
        "\n",
        "for msg in messages:\n",
        "  msg.pretty_print()"
      ]
    },
    {
      "cell_type": "code",
      "source": [
        "from google.colab import userdata\n",
        "GEMINI_API_KEY = userdata.get('GEMINI_API_KEY')"
      ],
      "metadata": {
        "id": "lxKim8WkXbpQ"
      },
      "execution_count": 106,
      "outputs": []
    },
    {
      "cell_type": "code",
      "source": [
        "%pip install -q -U langchain-google-genai"
      ],
      "metadata": {
        "id": "DMU1aBhwXfyx"
      },
      "execution_count": 107,
      "outputs": []
    },
    {
      "cell_type": "code",
      "source": [
        "from langchain_google_genai import ChatGoogleGenerativeAI\n",
        "\n",
        "llm: ChatGoogleGenerativeAI = ChatGoogleGenerativeAI(model=\"gemini-1.5-flash\", api_key=GEMINI_API_KEY)"
      ],
      "metadata": {
        "id": "f-kMOrJbXiT-"
      },
      "execution_count": 108,
      "outputs": []
    },
    {
      "cell_type": "code",
      "source": [
        "simple_call = llm.invoke(\"Hi\")\n",
        "simple_call"
      ],
      "metadata": {
        "id": "9LqBT3u-XlKE",
        "outputId": "d7afc8e1-bde8-4b9e-a7ad-ca00b57a0bc3",
        "colab": {
          "base_uri": "https://localhost:8080/"
        }
      },
      "execution_count": 109,
      "outputs": [
        {
          "output_type": "execute_result",
          "data": {
            "text/plain": [
              "AIMessage(content='Hi! How can I help you today? \\n', additional_kwargs={}, response_metadata={'prompt_feedback': {'block_reason': 0, 'safety_ratings': []}, 'finish_reason': 'STOP', 'safety_ratings': [{'category': 'HARM_CATEGORY_SEXUALLY_EXPLICIT', 'probability': 'NEGLIGIBLE', 'blocked': False}, {'category': 'HARM_CATEGORY_HATE_SPEECH', 'probability': 'NEGLIGIBLE', 'blocked': False}, {'category': 'HARM_CATEGORY_HARASSMENT', 'probability': 'NEGLIGIBLE', 'blocked': False}, {'category': 'HARM_CATEGORY_DANGEROUS_CONTENT', 'probability': 'NEGLIGIBLE', 'blocked': False}]}, id='run-d244c4ca-9ba8-4611-817e-15db84fbc44e-0', usage_metadata={'input_tokens': 2, 'output_tokens': 10, 'total_tokens': 12, 'input_token_details': {'cache_read': 0}})"
            ]
          },
          "metadata": {},
          "execution_count": 109
        }
      ]
    },
    {
      "cell_type": "code",
      "source": [
        "message = [HumanMessage(content=\"What is your name?\")]\n",
        "result = llm.invoke(message)\n",
        "result"
      ],
      "metadata": {
        "id": "9nUZLc-XXqdC",
        "outputId": "844c627e-f26a-4897-bb97-a1fe687d4afc",
        "colab": {
          "base_uri": "https://localhost:8080/"
        }
      },
      "execution_count": 110,
      "outputs": [
        {
          "output_type": "execute_result",
          "data": {
            "text/plain": [
              "AIMessage(content=\"I am a large language model, trained by Google. I don't have a name. \\n\", additional_kwargs={}, response_metadata={'prompt_feedback': {'block_reason': 0, 'safety_ratings': []}, 'finish_reason': 'STOP', 'safety_ratings': [{'category': 'HARM_CATEGORY_SEXUALLY_EXPLICIT', 'probability': 'NEGLIGIBLE', 'blocked': False}, {'category': 'HARM_CATEGORY_HATE_SPEECH', 'probability': 'NEGLIGIBLE', 'blocked': False}, {'category': 'HARM_CATEGORY_HARASSMENT', 'probability': 'NEGLIGIBLE', 'blocked': False}, {'category': 'HARM_CATEGORY_DANGEROUS_CONTENT', 'probability': 'NEGLIGIBLE', 'blocked': False}]}, id='run-862733d2-a23a-4232-83a9-bb84dd10d99a-0', usage_metadata={'input_tokens': 6, 'output_tokens': 19, 'total_tokens': 25, 'input_token_details': {'cache_read': 0}})"
            ]
          },
          "metadata": {},
          "execution_count": 110
        }
      ]
    },
    {
      "cell_type": "code",
      "source": [
        "message_with_instructions = [\n",
        "                SystemMessage(content=\"You are a helpful assistant! Your name is Gemini.\"),\n",
        "                HumanMessage(content=\"What is your name?\")\n",
        "            ]\n",
        "result = llm.invoke(message_with_instructions)\n",
        "result"
      ],
      "metadata": {
        "id": "CYbZDozuXtUs",
        "outputId": "729579ab-66e9-48b8-8f8d-25031714ab33",
        "colab": {
          "base_uri": "https://localhost:8080/"
        }
      },
      "execution_count": 111,
      "outputs": [
        {
          "output_type": "execute_result",
          "data": {
            "text/plain": [
              "AIMessage(content=\"I am a large language model, trained by Google. I don't have a name in the same way a person does. You can call me Gemini, or anything you like! 😊 \\n\", additional_kwargs={}, response_metadata={'prompt_feedback': {'block_reason': 0, 'safety_ratings': []}, 'finish_reason': 'STOP', 'safety_ratings': [{'category': 'HARM_CATEGORY_SEXUALLY_EXPLICIT', 'probability': 'NEGLIGIBLE', 'blocked': False}, {'category': 'HARM_CATEGORY_HATE_SPEECH', 'probability': 'NEGLIGIBLE', 'blocked': False}, {'category': 'HARM_CATEGORY_HARASSMENT', 'probability': 'NEGLIGIBLE', 'blocked': False}, {'category': 'HARM_CATEGORY_DANGEROUS_CONTENT', 'probability': 'NEGLIGIBLE', 'blocked': False}]}, id='run-3132baf4-3a9f-4b3f-9582-a4529f3a868b-0', usage_metadata={'input_tokens': 17, 'output_tokens': 38, 'total_tokens': 55, 'input_token_details': {'cache_read': 0}})"
            ]
          },
          "metadata": {},
          "execution_count": 111
        }
      ]
    },
    {
      "cell_type": "code",
      "source": [
        "res = llm.invoke(message)\n",
        "res"
      ],
      "metadata": {
        "id": "GOKXebYoXt7K",
        "outputId": "b0522176-21fd-446c-ac37-01c5c7f44711",
        "colab": {
          "base_uri": "https://localhost:8080/"
        }
      },
      "execution_count": 112,
      "outputs": [
        {
          "output_type": "execute_result",
          "data": {
            "text/plain": [
              "AIMessage(content='I am a large language model, trained by Google. I do not have a name. \\n', additional_kwargs={}, response_metadata={'prompt_feedback': {'block_reason': 0, 'safety_ratings': []}, 'finish_reason': 'STOP', 'safety_ratings': [{'category': 'HARM_CATEGORY_SEXUALLY_EXPLICIT', 'probability': 'NEGLIGIBLE', 'blocked': False}, {'category': 'HARM_CATEGORY_HATE_SPEECH', 'probability': 'NEGLIGIBLE', 'blocked': False}, {'category': 'HARM_CATEGORY_HARASSMENT', 'probability': 'NEGLIGIBLE', 'blocked': False}, {'category': 'HARM_CATEGORY_DANGEROUS_CONTENT', 'probability': 'NEGLIGIBLE', 'blocked': False}]}, id='run-59b12675-90c4-4c8b-8eb5-42980c2c8ccb-0', usage_metadata={'input_tokens': 6, 'output_tokens': 19, 'total_tokens': 25, 'input_token_details': {'cache_read': 0}})"
            ]
          },
          "metadata": {},
          "execution_count": 112
        }
      ]
    },
    {
      "cell_type": "markdown",
      "source": [
        "#Tools"
      ],
      "metadata": {
        "id": "vHwi8Jy-zsnC"
      }
    },
    {
      "cell_type": "code",
      "source": [
        "%pip install -q langchain-community tavily-python"
      ],
      "metadata": {
        "id": "NrKs02hK3Pgj"
      },
      "execution_count": 113,
      "outputs": []
    },
    {
      "cell_type": "code",
      "source": [
        "def deposit_money(name: str, bank_account_no: int, amount: int) -> int:\n",
        "    \"\"\"Deposit Money in Bank account.\n",
        "\n",
        "    Args:\n",
        "        name: name of account holder\n",
        "        bank_account_no: account number\n",
        "        amount: amount to be deposited\n",
        "    \"\"\"\n",
        "    # BUSINESS LOGIC for Bank Deposit\n",
        "\n",
        "    return {f\"{amount} deposited successfully in {name}'s account\"}"
      ],
      "metadata": {
        "id": "l4S-gPJPAR-w"
      },
      "execution_count": 114,
      "outputs": []
    },
    {
      "cell_type": "code",
      "source": [
        "llm.invoke(\"Deposit 100$ in Muhammad's account\")"
      ],
      "metadata": {
        "colab": {
          "base_uri": "https://localhost:8080/"
        },
        "id": "b8gVbFe--bk5",
        "outputId": "09f3a81f-737c-4ede-93ed-93e42b48ec0f"
      },
      "execution_count": 115,
      "outputs": [
        {
          "output_type": "execute_result",
          "data": {
            "text/plain": [
              "AIMessage(content=\"I understand you're asking me to make a financial transaction, but I am an AI and cannot interact with real-world systems like bank accounts.  \\n\\nTo deposit money into someone's account, you'll need to use the appropriate banking channels:\\n\\n* **Online Banking:**  Log into your online banking account and initiate a transfer.\\n* **Mobile Banking App:** Use your bank's app to transfer funds.\\n* **ATM:**  Deposit cash directly into Muhammad's account (if the ATM allows for deposits to other accounts).\\n* **Bank Branch:** Visit your bank branch and request a deposit to Muhammad's account.\\n\\n**Important:** You'll need to have Muhammad's account information, including the bank name, account number, and possibly routing number.  \\n\\n**Please note:** I cannot provide financial advice or facilitate transactions. \\n\", additional_kwargs={}, response_metadata={'prompt_feedback': {'block_reason': 0, 'safety_ratings': []}, 'finish_reason': 'STOP', 'safety_ratings': [{'category': 'HARM_CATEGORY_SEXUALLY_EXPLICIT', 'probability': 'NEGLIGIBLE', 'blocked': False}, {'category': 'HARM_CATEGORY_HATE_SPEECH', 'probability': 'NEGLIGIBLE', 'blocked': False}, {'category': 'HARM_CATEGORY_HARASSMENT', 'probability': 'NEGLIGIBLE', 'blocked': False}, {'category': 'HARM_CATEGORY_DANGEROUS_CONTENT', 'probability': 'NEGLIGIBLE', 'blocked': False}]}, id='run-30301ae6-8e2f-486e-868e-026fb54c32bb-0', usage_metadata={'input_tokens': 12, 'output_tokens': 176, 'total_tokens': 188, 'input_token_details': {'cache_read': 0}})"
            ]
          },
          "metadata": {},
          "execution_count": 115
        }
      ]
    },
    {
      "cell_type": "code",
      "source": [
        "llm_with_tools = llm.bind_tools([deposit_money])"
      ],
      "metadata": {
        "id": "-isnK3vZ-p_g"
      },
      "execution_count": 116,
      "outputs": []
    },
    {
      "cell_type": "code",
      "source": [
        "llm.invoke(\"Deposit 100$ in Muhammad's bank account. His account number is 123456.\")"
      ],
      "metadata": {
        "id": "m6Hha34C-mu9",
        "outputId": "6b606634-0b37-48c7-c57d-225df294a5dd",
        "colab": {
          "base_uri": "https://localhost:8080/"
        }
      },
      "execution_count": 117,
      "outputs": [
        {
          "output_type": "execute_result",
          "data": {
            "text/plain": [
              "AIMessage(content=\"I understand you want to deposit money into Muhammad's account, but I am just a language model and I cannot interact with real-world systems like bank accounts. \\n\\nTo make a deposit, you'll need to use a legitimate banking method, such as:\\n\\n* **Online banking:** Log in to your online banking portal and initiate a transfer to Muhammad's account.\\n* **Mobile banking app:** Use your bank's mobile app to send the money.\\n* **ATM deposit:** Visit an ATM and follow the instructions to deposit cash into Muhammad's account.\\n* **Bank branch:** Visit a branch of your bank and request a deposit into Muhammad's account.\\n\\n**Important Note:** \\n* **You need Muhammad's permission** before making any deposits into his account.\\n* **Make sure you have the correct account number and bank information.** \\n\\nPlease ensure you are following all legal and ethical guidelines when making financial transactions. \\n\", additional_kwargs={}, response_metadata={'prompt_feedback': {'block_reason': 0, 'safety_ratings': []}, 'finish_reason': 'STOP', 'safety_ratings': [{'category': 'HARM_CATEGORY_SEXUALLY_EXPLICIT', 'probability': 'NEGLIGIBLE', 'blocked': False}, {'category': 'HARM_CATEGORY_HATE_SPEECH', 'probability': 'NEGLIGIBLE', 'blocked': False}, {'category': 'HARM_CATEGORY_HARASSMENT', 'probability': 'NEGLIGIBLE', 'blocked': False}, {'category': 'HARM_CATEGORY_DANGEROUS_CONTENT', 'probability': 'NEGLIGIBLE', 'blocked': False}]}, id='run-220914e2-36ef-4df2-9559-9ee370181c07-0', usage_metadata={'input_tokens': 26, 'output_tokens': 196, 'total_tokens': 222, 'input_token_details': {'cache_read': 0}})"
            ]
          },
          "metadata": {},
          "execution_count": 117
        }
      ]
    },
    {
      "cell_type": "code",
      "source": [
        "llm_with_tools.invoke(\"Deposit 100$ in Muhammad's bank account. His account number is 123456.\")"
      ],
      "metadata": {
        "id": "Hd_hJEA7AFSi",
        "outputId": "cdcc8aaf-c582-41f9-e5a7-06314852bec4",
        "colab": {
          "base_uri": "https://localhost:8080/"
        }
      },
      "execution_count": 118,
      "outputs": [
        {
          "output_type": "execute_result",
          "data": {
            "text/plain": [
              "AIMessage(content='', additional_kwargs={'function_call': {'name': 'deposit_money', 'arguments': '{\"amount\": 100.0, \"bank_account_no\": 123456.0, \"name\": \"Muhammad\"}'}}, response_metadata={'prompt_feedback': {'block_reason': 0, 'safety_ratings': []}, 'finish_reason': 'STOP', 'safety_ratings': [{'category': 'HARM_CATEGORY_DANGEROUS_CONTENT', 'probability': 'NEGLIGIBLE', 'blocked': False}, {'category': 'HARM_CATEGORY_SEXUALLY_EXPLICIT', 'probability': 'NEGLIGIBLE', 'blocked': False}, {'category': 'HARM_CATEGORY_HATE_SPEECH', 'probability': 'NEGLIGIBLE', 'blocked': False}, {'category': 'HARM_CATEGORY_HARASSMENT', 'probability': 'NEGLIGIBLE', 'blocked': False}]}, id='run-abefd943-bd86-41f8-b235-fd1d652a8cca-0', tool_calls=[{'name': 'deposit_money', 'args': {'amount': 100.0, 'bank_account_no': 123456.0, 'name': 'Muhammad'}, 'id': '0f8238cb-2c69-4145-9714-5610ebdc19e1', 'type': 'tool_call'}], usage_metadata={'input_tokens': 101, 'output_tokens': 36, 'total_tokens': 137, 'input_token_details': {'cache_read': 0}})"
            ]
          },
          "metadata": {},
          "execution_count": 118
        }
      ]
    },
    {
      "cell_type": "code",
      "source": [
        "llm.invoke(\"What is the temperature (C) in Islamabad right now?\")"
      ],
      "metadata": {
        "id": "HdQwQar1zsPF",
        "outputId": "96f109ee-dc3a-439e-a102-f853e9a698ba",
        "colab": {
          "base_uri": "https://localhost:8080/"
        }
      },
      "execution_count": 119,
      "outputs": [
        {
          "output_type": "execute_result",
          "data": {
            "text/plain": [
              "AIMessage(content='I do not have access to real-time information, including weather data. To get the current temperature in Islamabad, I recommend checking a reliable weather website or app. \\n', additional_kwargs={}, response_metadata={'prompt_feedback': {'block_reason': 0, 'safety_ratings': []}, 'finish_reason': 'STOP', 'safety_ratings': [{'category': 'HARM_CATEGORY_SEXUALLY_EXPLICIT', 'probability': 'NEGLIGIBLE', 'blocked': False}, {'category': 'HARM_CATEGORY_HATE_SPEECH', 'probability': 'NEGLIGIBLE', 'blocked': False}, {'category': 'HARM_CATEGORY_HARASSMENT', 'probability': 'NEGLIGIBLE', 'blocked': False}, {'category': 'HARM_CATEGORY_DANGEROUS_CONTENT', 'probability': 'NEGLIGIBLE', 'blocked': False}]}, id='run-9087cb04-1906-49f9-b1d4-e1377000ea7b-0', usage_metadata={'input_tokens': 13, 'output_tokens': 33, 'total_tokens': 46, 'input_token_details': {'cache_read': 0}})"
            ]
          },
          "metadata": {},
          "execution_count": 119
        }
      ]
    },
    {
      "cell_type": "code",
      "source": [
        "import os\n",
        "from langchain_community.tools.tavily_search import TavilySearchResults\n",
        "\n",
        "os.environ[\"TAVILY_API_KEY\"] = userdata.get('TAVILY_API_KEY')\n",
        "\n",
        "tavily_search_tool = TavilySearchResults(max_results=2)\n",
        "\n",
        "llm_with_tools = llm.bind_tools([tavily_search_tool])"
      ],
      "metadata": {
        "id": "WmEXlYxw36XV"
      },
      "execution_count": 121,
      "outputs": []
    },
    {
      "cell_type": "code",
      "source": [
        "llm_with_tools.invoke(\"What is the temperature (C) in Islamabad right now?\")"
      ],
      "metadata": {
        "id": "ber7iS9C9mgN",
        "outputId": "a21622ea-fa2a-4464-f486-b49b977ea82d",
        "colab": {
          "base_uri": "https://localhost:8080/"
        }
      },
      "execution_count": 122,
      "outputs": [
        {
          "output_type": "execute_result",
          "data": {
            "text/plain": [
              "AIMessage(content='', additional_kwargs={'function_call': {'name': 'tavily_search_results_json', 'arguments': '{\"query\": \"What is the temperature (C) in Islamabad right now?\"}'}}, response_metadata={'prompt_feedback': {'block_reason': 0, 'safety_ratings': []}, 'finish_reason': 'STOP', 'safety_ratings': [{'category': 'HARM_CATEGORY_DANGEROUS_CONTENT', 'probability': 'NEGLIGIBLE', 'blocked': False}, {'category': 'HARM_CATEGORY_SEXUALLY_EXPLICIT', 'probability': 'NEGLIGIBLE', 'blocked': False}, {'category': 'HARM_CATEGORY_HATE_SPEECH', 'probability': 'NEGLIGIBLE', 'blocked': False}, {'category': 'HARM_CATEGORY_HARASSMENT', 'probability': 'NEGLIGIBLE', 'blocked': False}]}, id='run-8d18d307-2332-4cf0-981a-b5636fda8641-0', tool_calls=[{'name': 'tavily_search_results_json', 'args': {'query': 'What is the temperature (C) in Islamabad right now?'}, 'id': '6a208bf8-9957-4d5b-adad-b30ecb5ff498', 'type': 'tool_call'}], usage_metadata={'input_tokens': 86, 'output_tokens': 31, 'total_tokens': 117, 'input_token_details': {'cache_read': 0}})"
            ]
          },
          "metadata": {},
          "execution_count": 122
        }
      ]
    }
  ],
  "metadata": {
    "language_info": {
      "name": "python"
    },
    "colab": {
      "provenance": []
    },
    "kernelspec": {
      "name": "python3",
      "display_name": "Python 3"
    }
  },
  "nbformat": 4,
  "nbformat_minor": 0
}