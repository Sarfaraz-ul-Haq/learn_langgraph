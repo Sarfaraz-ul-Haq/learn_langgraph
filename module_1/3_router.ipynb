{
  "cells": [
    {
      "cell_type": "code",
      "execution_count": 47,
      "metadata": {
        "vscode": {
          "languageId": "plaintext"
        },
        "id": "YkNEEp00nYJd"
      },
      "outputs": [],
      "source": [
        "%pip install -q -U langchain-google-genai langchain_core langgraph"
      ]
    },
    {
      "cell_type": "code",
      "source": [
        "from google.colab import userdata\n",
        "GEMINI_API_KEY = userdata.get('GEMINI_API_KEY')"
      ],
      "metadata": {
        "id": "LbeHpUWtohMC"
      },
      "execution_count": 48,
      "outputs": []
    },
    {
      "cell_type": "code",
      "source": [
        "from langchain_google_genai import ChatGoogleGenerativeAI\n",
        "\n",
        "llm: ChatGoogleGenerativeAI = ChatGoogleGenerativeAI(api_key=GEMINI_API_KEY, model=\"gemini-1.5-flash\")"
      ],
      "metadata": {
        "id": "Tj_n5klPoowh"
      },
      "execution_count": 49,
      "outputs": []
    },
    {
      "cell_type": "code",
      "source": [
        "def multiply(a: int, b: int) -> int:\n",
        "  \"\"\"Multiplies two integers together.\n",
        "\n",
        "  Args:\n",
        "    a: The first integer.\n",
        "    b: The second integer.\n",
        "\n",
        "  Returns:\n",
        "    The product of the two integers.\n",
        "  \"\"\"\n",
        "  return a * b\n",
        "\n",
        "def add(a: int, b: int) -> int:\n",
        "  \"\"\"Adds two integers together.\n",
        "\n",
        "  Args:\n",
        "    a: The first integer.\n",
        "    b: The second integer.\n",
        "\n",
        "  Returns:\n",
        "    The sum of the two integers.\n",
        "  \"\"\"\n",
        "  return a + b"
      ],
      "metadata": {
        "id": "-4O6y3GEo6HZ"
      },
      "execution_count": 50,
      "outputs": []
    },
    {
      "cell_type": "code",
      "source": [
        "llm_with_tools = llm.bind_tools([multiply, add])"
      ],
      "metadata": {
        "id": "Hb0Y3WyxpUay"
      },
      "execution_count": 51,
      "outputs": []
    },
    {
      "cell_type": "code",
      "source": [
        "# llm_with_tools.invoke(\"Multiply 5 by 5\")"
      ],
      "metadata": {
        "id": "1oVufpBW56C8"
      },
      "execution_count": 52,
      "outputs": []
    },
    {
      "cell_type": "code",
      "source": [
        "from langgraph.graph import StateGraph, START, END, MessagesState\n",
        "from langgraph.prebuilt import ToolNode\n",
        "from langgraph.prebuilt import tools_condition\n",
        "from langgraph.graph.state import CompiledStateGraph\n",
        "from langchain_core.messages import HumanMessage, AIMessage, ToolMessage\n",
        "from IPython.display import display, Image\n",
        "\n",
        "def tool_calling_llm_node(state: MessagesState) -> MessagesState:\n",
        "  return {\"messages\": [llm_with_tools.invoke(state[\"messages\"])]}\n",
        "\n",
        "builder = StateGraph(MessagesState)\n",
        "\n",
        "builder.add_node(\"Tool Calling LLM Node\", tool_calling_llm_node)\n",
        "builder.add_node(\"tools\", ToolNode([multiply, add]))\n",
        "\n",
        "builder.add_edge(START, \"Tool Calling LLM Node\")\n",
        "builder.add_conditional_edges(\"Tool Calling LLM Node\", tools_condition)\n",
        "builder.add_edge(\"tools\", END)\n",
        "\n",
        "graph: CompiledStateGraph = builder.compile()"
      ],
      "metadata": {
        "id": "A0NeTTp7pc9T"
      },
      "execution_count": 53,
      "outputs": []
    },
    {
      "cell_type": "code",
      "source": [
        "display(Image(graph.get_graph().draw_mermaid_png()))"
      ],
      "metadata": {
        "colab": {
          "base_uri": "https://localhost:8080/",
          "height": 350
        },
        "id": "1Gyjxvi9rId8",
        "outputId": "44986a93-ab10-45e5-f7dd-848a931efd3e"
      },
      "execution_count": 54,
      "outputs": [
        {
          "output_type": "display_data",
          "data": {
            "image/png": "[encoded data removed]",
            "text/plain": [
              "<IPython.core.display.Image object>"
            ]
          },
          "metadata": {}
        }
      ]
    },
    {
      "cell_type": "code",
      "source": [
        "messages = graph.invoke({\"messages\": [HumanMessage(content=\"Multiply 5 by 5\")]})\n",
        "\n",
        "for msg in messages[\"messages\"]:\n",
        "  msg.pretty_print()"
      ],
      "metadata": {
        "colab": {
          "base_uri": "https://localhost:8080/"
        },
        "id": "R5VnNSA31AwG",
        "outputId": "ce8c7b5c-b1bb-43b2-e5d0-c7df1a63a8f3"
      },
      "execution_count": 55,
      "outputs": [
        {
          "output_type": "stream",
          "name": "stdout",
          "text": [
            "================================\u001b[1m Human Message \u001b[0m=================================\n",
            "\n",
            "Multiply 5 by 5\n",
            "==================================\u001b[1m Ai Message \u001b[0m==================================\n",
            "Tool Calls:\n",
            "  multiply (50058442-7bc5-46d1-9fb5-84e65ea2df08)\n",
            " Call ID: 50058442-7bc5-46d1-9fb5-84e65ea2df08\n",
            "  Args:\n",
            "    a: 5.0\n",
            "    b: 5.0\n",
            "=================================\u001b[1m Tool Message \u001b[0m=================================\n",
            "Name: multiply\n",
            "\n",
            "25\n"
          ]
        }
      ]
    },
    {
      "cell_type": "code",
      "source": [
        "messages = graph.invoke({\"messages\": [HumanMessage(content=\"Multiply 5 by 10 then add 7\")]})\n",
        "\n",
        "for m in messages[\"messages\"]:\n",
        "  m.pretty_print()"
      ],
      "metadata": {
        "id": "HZH22B3z-4VT",
        "outputId": "6dfe2a87-813d-4701-ac65-95d92875d885",
        "colab": {
          "base_uri": "https://localhost:8080/"
        }
      },
      "execution_count": 56,
      "outputs": [
        {
          "output_type": "stream",
          "name": "stdout",
          "text": [
            "================================\u001b[1m Human Message \u001b[0m=================================\n",
            "\n",
            "Multiply 5 by 10 then add 7\n",
            "==================================\u001b[1m Ai Message \u001b[0m==================================\n",
            "Tool Calls:\n",
            "  multiply (82271034-f339-4606-af6f-5736ef98f70a)\n",
            " Call ID: 82271034-f339-4606-af6f-5736ef98f70a\n",
            "  Args:\n",
            "    a: 5.0\n",
            "    b: 10.0\n",
            "  add (dd9c58e5-9564-403d-a8e5-d151d0822f3b)\n",
            " Call ID: dd9c58e5-9564-403d-a8e5-d151d0822f3b\n",
            "  Args:\n",
            "    a: 50.0\n",
            "    b: 7.0\n",
            "=================================\u001b[1m Tool Message \u001b[0m=================================\n",
            "Name: multiply\n",
            "\n",
            "50\n",
            "=================================\u001b[1m Tool Message \u001b[0m=================================\n",
            "Name: add\n",
            "\n",
            "57\n"
          ]
        }
      ]
    }
  ],
  "metadata": {
    "language_info": {
      "name": "python"
    },
    "colab": {
      "provenance": []
    },
    "kernelspec": {
      "name": "python3",
      "display_name": "Python 3"
    }
  },
  "nbformat": 4,
  "nbformat_minor": 0
}