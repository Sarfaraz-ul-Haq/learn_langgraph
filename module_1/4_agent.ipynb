{
  "cells": [
    {
      "cell_type": "code",
      "source": [
        "%pip install -q langchain-google-genai langchain_core langgraph"
      ],
      "metadata": {
        "id": "-P-KOV8IciAr",
        "outputId": "b503c64d-5e04-4072-fd6f-9a7768e22015",
        "colab": {
          "base_uri": "https://localhost:8080/"
        }
      },
      "execution_count": 1,
      "outputs": [
        {
          "output_type": "stream",
          "name": "stdout",
          "text": [
            "\u001b[?25l   \u001b[90m━━━━━━━━━━━━━━━━━━━━━━━━━━━━━━━━━━━━━━━━\u001b[0m \u001b[32m0.0/41.8 kB\u001b[0m \u001b[31m?\u001b[0m eta \u001b[36m-:--:--\u001b[0m\r\u001b[2K   \u001b[90m━━━━━━━━━━━━━━━━━━━━━━━━━━━━━━━━━━━━━━━━\u001b[0m \u001b[32m41.8/41.8 kB\u001b[0m \u001b[31m1.5 MB/s\u001b[0m eta \u001b[36m0:00:00\u001b[0m\n",
            "\u001b[?25h\u001b[?25l   \u001b[90m━━━━━━━━━━━━━━━━━━━━━━━━━━━━━━━━━━━━━━━━\u001b[0m \u001b[32m0.0/124.9 kB\u001b[0m \u001b[31m?\u001b[0m eta \u001b[36m-:--:--\u001b[0m\r\u001b[2K   \u001b[90m━━━━━━━━━━━━━━━━━━━━━━━━━━━━━━━━━━━━━━━━\u001b[0m \u001b[32m124.9/124.9 kB\u001b[0m \u001b[31m7.6 MB/s\u001b[0m eta \u001b[36m0:00:00\u001b[0m\n",
            "\u001b[?25h"
          ]
        }
      ]
    },
    {
      "cell_type": "code",
      "execution_count": 2,
      "metadata": {
        "vscode": {
          "languageId": "plaintext"
        },
        "id": "l680v11cQoWe"
      },
      "outputs": [],
      "source": [
        "from google.colab import userdata\n",
        "GEMINI_API_KEY = userdata.get('GEMINI_API_KEY')"
      ]
    },
    {
      "cell_type": "code",
      "source": [
        "from langchain_google_genai import ChatGoogleGenerativeAI\n",
        "\n",
        "llm: ChatGoogleGenerativeAI = ChatGoogleGenerativeAI(api_key=GEMINI_API_KEY, model=\"gemini-1.5-flash\")"
      ],
      "metadata": {
        "id": "j0_CwDgkcpoJ"
      },
      "execution_count": 3,
      "outputs": []
    },
    {
      "cell_type": "code",
      "source": [
        "def add(x: int, y: int) -> int:\n",
        "  \"\"\"Adds two numbers together.\n",
        "\n",
        "  Args:\n",
        "    x: The first number.\n",
        "    y: The second number.\n",
        "\n",
        "  Returns:\n",
        "    The sum of x and y.\n",
        "  \"\"\"\n",
        "  return x + y\n",
        "\n",
        "\n",
        "def subtract(x: int, y: int) -> int:\n",
        "  \"\"\"Subtracts two numbers.\n",
        "\n",
        "  Args:\n",
        "    x: The first number.\n",
        "    y: The second number.\n",
        "\n",
        "  Returns:\n",
        "    The difference between x and y.\n",
        "  \"\"\"\n",
        "  return x - y\n",
        "\n",
        "\n",
        "def multiply(x: int, y: int) -> int:\n",
        "  \"\"\"Multiplies two numbers.\n",
        "\n",
        "  Args:\n",
        "    x: The first number.\n",
        "    y: The second number.\n",
        "\n",
        "  Returns:\n",
        "    The product of x and y.\n",
        "  \"\"\"\n",
        "  return x * y\n",
        "\n",
        "\n",
        "def divide(x: int, y: int) -> int:\n",
        "  \"\"\"Divides two numbers.\n",
        "\n",
        "  Args:\n",
        "    x: The first number.\n",
        "    y: The second number.\n",
        "\n",
        "  Returns:\n",
        "    The quotient of x and y.\n",
        "  \"\"\"\n",
        "  if y == 0:\n",
        "    return \"Division by zero error!\"\n",
        "  return x / y\n",
        "\n",
        "tools = [add, subtract, multiply, divide]"
      ],
      "metadata": {
        "id": "Qojwh102dHab"
      },
      "execution_count": 6,
      "outputs": []
    },
    {
      "cell_type": "code",
      "source": [
        "llm_with_tools = llm.bind_tools(tools)"
      ],
      "metadata": {
        "id": "WDziXbAOgPEa"
      },
      "execution_count": 7,
      "outputs": []
    },
    {
      "cell_type": "code",
      "source": [
        "from langgraph.graph import StateGraph, START, END, MessagesState\n",
        "from langgraph.prebuilt import ToolNode, tools_condition\n",
        "from langgraph.graph.state import CompiledStateGraph\n",
        "from langchain_core.messages import HumanMessage\n",
        "from IPython.display import display, Image\n",
        "\n",
        "def assistant(state: MessagesState) -> MessagesState:\n",
        "  return {\"messages\": [llm_with_tools.invoke(state[\"messages\"])]}\n",
        "\n",
        "builder: StateGraph = StateGraph(state_schema=MessagesState)\n",
        "\n",
        "builder.add_node(\"AI Assistant\", assistant)\n",
        "builder.add_node(\"tools\", ToolNode(tools))\n",
        "\n",
        "builder.add_edge(START, \"AI Assistant\")\n",
        "builder.add_conditional_edges(\"AI Assistant\", tools_condition)\n",
        "builder.add_edge(\"tools\", \"AI Assistant\")\n",
        "\n",
        "graph = builder.compile()"
      ],
      "metadata": {
        "id": "PBnmYtSwgiLI"
      },
      "execution_count": 12,
      "outputs": []
    },
    {
      "cell_type": "code",
      "source": [
        "display(Image(graph.get_graph().draw_mermaid_png()))"
      ],
      "metadata": {
        "id": "0r_1Dce_iyEZ",
        "outputId": "edfdcaf9-36fb-415a-ccad-1a4e5cb5e8c9",
        "colab": {
          "base_uri": "https://localhost:8080/",
          "height": 266
        }
      },
      "execution_count": 13,
      "outputs": [
        {
          "output_type": "display_data",
          "data": {
            "image/png": "[encoded data removed]",
            "text/plain": [
              "<IPython.core.display.Image object>"
            ]
          },
          "metadata": {}
        }
      ]
    },
    {
      "cell_type": "code",
      "source": [
        "messages = graph.invoke({\"messages\": [HumanMessage(content=\"Add 5 + 5\")]})\n",
        "\n",
        "for msg in messages[\"messages\"]:\n",
        "  msg.pretty_print()\n"
      ],
      "metadata": {
        "id": "_8Siia0QjNYn",
        "outputId": "9b7d592b-8a05-4617-af42-990581c33987",
        "colab": {
          "base_uri": "https://localhost:8080/"
        }
      },
      "execution_count": 15,
      "outputs": [
        {
          "output_type": "stream",
          "name": "stdout",
          "text": [
            "================================\u001b[1m Human Message \u001b[0m=================================\n",
            "\n",
            "Add 5 + 5\n",
            "==================================\u001b[1m Ai Message \u001b[0m==================================\n",
            "Tool Calls:\n",
            "  add (eaf094b5-79aa-4cae-9f5f-d1c617856da9)\n",
            " Call ID: eaf094b5-79aa-4cae-9f5f-d1c617856da9\n",
            "  Args:\n",
            "    y: 5.0\n",
            "    x: 5.0\n",
            "=================================\u001b[1m Tool Message \u001b[0m=================================\n",
            "Name: add\n",
            "\n",
            "10\n",
            "==================================\u001b[1m Ai Message \u001b[0m==================================\n",
            "\n",
            "The result is 10.\n"
          ]
        }
      ]
    }
  ],
  "metadata": {
    "language_info": {
      "name": "python"
    },
    "colab": {
      "provenance": []
    },
    "kernelspec": {
      "name": "python3",
      "display_name": "Python 3"
    }
  },
  "nbformat": 4,
  "nbformat_minor": 0
}