{
  "cells": [
    {
      "cell_type": "code",
      "execution_count": 121,
      "metadata": {
        "vscode": {
          "languageId": "plaintext"
        },
        "id": "l43gC5mycVWt"
      },
      "outputs": [],
      "source": [
        "%%capture --no-stderr\n",
        "%pip install -q langgraph"
      ]
    },
    {
      "cell_type": "code",
      "source": [
        "from typing_extensions import TypedDict\n",
        "\n",
        "class StateSchema(TypedDict):\n",
        "  message: str"
      ],
      "metadata": {
        "id": "1WK3Lr4NmIcn"
      },
      "execution_count": 122,
      "outputs": []
    },
    {
      "cell_type": "code",
      "source": [
        "obj = StateSchema(message=\"I am learning langgraph\")\n",
        "obj"
      ],
      "metadata": {
        "id": "GcprCzHamgDc",
        "outputId": "772c6304-58b5-42cf-9090-d9620ca149d9",
        "colab": {
          "base_uri": "https://localhost:8080/"
        }
      },
      "execution_count": 123,
      "outputs": [
        {
          "output_type": "execute_result",
          "data": {
            "text/plain": [
              "{'message': 'I am learning langgraph'}"
            ]
          },
          "metadata": {},
          "execution_count": 123
        }
      ]
    },
    {
      "cell_type": "code",
      "source": [
        "obj[\"message\"] + \" + langchain\""
      ],
      "metadata": {
        "id": "Q8x76y9kmu0K",
        "outputId": "32607692-3882-49b9-f193-07bc4c51a408",
        "colab": {
          "base_uri": "https://localhost:8080/",
          "height": 36
        }
      },
      "execution_count": 124,
      "outputs": [
        {
          "output_type": "execute_result",
          "data": {
            "text/plain": [
              "'I am learning langgraph + langchain'"
            ],
            "application/vnd.google.colaboratory.intrinsic+json": {
              "type": "string"
            }
          },
          "metadata": {},
          "execution_count": 124
        }
      ]
    },
    {
      "cell_type": "code",
      "source": [
        "type(obj)"
      ],
      "metadata": {
        "id": "xwiKYTqpm2Vu",
        "outputId": "a8ecdcd8-a0cf-4db3-b4f6-a556564d05ce",
        "colab": {
          "base_uri": "https://localhost:8080/"
        }
      },
      "execution_count": 125,
      "outputs": [
        {
          "output_type": "execute_result",
          "data": {
            "text/plain": [
              "dict"
            ]
          },
          "metadata": {},
          "execution_count": 125
        }
      ]
    },
    {
      "cell_type": "code",
      "source": [
        "obj"
      ],
      "metadata": {
        "id": "RFS3KO1_m4og",
        "outputId": "c0ac39f6-0848-45d4-aa57-8cb39adb47ad",
        "colab": {
          "base_uri": "https://localhost:8080/"
        }
      },
      "execution_count": 126,
      "outputs": [
        {
          "output_type": "execute_result",
          "data": {
            "text/plain": [
              "{'message': 'I am learning langgraph'}"
            ]
          },
          "metadata": {},
          "execution_count": 126
        }
      ]
    },
    {
      "cell_type": "code",
      "source": [
        "obj[\"message\"] = obj[\"message\"] + \" + langchain\"\n",
        "obj"
      ],
      "metadata": {
        "id": "RsIeqE_-m8KX",
        "outputId": "d6988f33-05aa-423f-9831-f0e795f415b4",
        "colab": {
          "base_uri": "https://localhost:8080/"
        }
      },
      "execution_count": 127,
      "outputs": [
        {
          "output_type": "execute_result",
          "data": {
            "text/plain": [
              "{'message': 'I am learning langgraph + langchain'}"
            ]
          },
          "metadata": {},
          "execution_count": 127
        }
      ]
    },
    {
      "cell_type": "markdown",
      "source": [
        "#Nodes"
      ],
      "metadata": {
        "id": "LsVsL_YZnLq6"
      }
    },
    {
      "cell_type": "code",
      "source": [
        "def test_node(state: StateSchema):\n",
        "  print(\"NODE 1 STATE:\", state)\n",
        "  return {\"message\": \"I'm learning agentic ai development\"}\n",
        "\n",
        "test_node({\"message\": \"I'm learning ai agent development\"})"
      ],
      "metadata": {
        "id": "LqVKyIbVoKWt",
        "outputId": "b72c15da-5bd5-4ff9-ae1d-b548490b7d8a",
        "colab": {
          "base_uri": "https://localhost:8080/"
        }
      },
      "execution_count": 128,
      "outputs": [
        {
          "output_type": "stream",
          "name": "stdout",
          "text": [
            "NODE 1 STATE: {'message': \"I'm learning ai agent development\"}\n"
          ]
        },
        {
          "output_type": "execute_result",
          "data": {
            "text/plain": [
              "{'message': \"I'm learning agentic ai development\"}"
            ]
          },
          "metadata": {},
          "execution_count": 128
        }
      ]
    },
    {
      "cell_type": "code",
      "source": [
        "def node_1(state: StateSchema) -> StateSchema:\n",
        "  print(\"NODE 1 STATE:\", state)\n",
        "  return {\"message\": state[\"message\"] + \"  I am learning langgraph\"}\n",
        "\n",
        "def node_2(state: StateSchema) -> StateSchema:\n",
        "  print(\"NODE 2 STATE:\", state)\n",
        "  return {\"message\": state[\"message\"] + \"  I am learning langchain\"}\n",
        "\n",
        "def node_3(state: StateSchema) -> StateSchema:\n",
        "  print(\"NODE 3 STATE:\", state)\n",
        "  return {\"message\": state[\"message\"] + \"  I am learning python\"}"
      ],
      "metadata": {
        "id": "LPYrQ80CnK__"
      },
      "execution_count": 129,
      "outputs": []
    },
    {
      "cell_type": "code",
      "source": [
        "from langgraph.graph import StateGraph, START, END\n",
        "from langgraph.graph.state import CompiledStateGraph\n",
        "\n",
        "builder = StateGraph(StateSchema)\n",
        "\n",
        "builder.add_node(\"Node 1\", node_1)\n",
        "builder.add_node(\"Node 2\", node_2)\n",
        "builder.add_node(\"Node 3\", node_3)\n",
        "\n",
        "builder.add_edge(START, \"Node 1\")\n",
        "builder.add_edge(\"Node 1\", \"Node 2\")\n",
        "builder.add_edge(\"Node 2\", \"Node 3\")\n",
        "builder.add_edge(\"Node 3\", END)\n",
        "\n",
        "graph: CompiledStateGraph = builder.compile()"
      ],
      "metadata": {
        "id": "GD1CfOXkrjx6"
      },
      "execution_count": 130,
      "outputs": []
    },
    {
      "cell_type": "code",
      "source": [
        "type(builder)"
      ],
      "metadata": {
        "id": "Q3lJtjUZyhpp",
        "outputId": "430405b9-9fd3-424b-98ff-f4ec3b8bac70",
        "colab": {
          "base_uri": "https://localhost:8080/",
          "height": 203
        }
      },
      "execution_count": 131,
      "outputs": [
        {
          "output_type": "execute_result",
          "data": {
            "text/plain": [
              "langgraph.graph.state.StateGraph"
            ],
            "text/html": [
              "<div style=\"max-width:800px; border: 1px solid var(--colab-border-color);\"><style>\n",
              "      pre.function-repr-contents {\n",
              "        overflow-x: auto;\n",
              "        padding: 8px 12px;\n",
              "        max-height: 500px;\n",
              "      }\n",
              "\n",
              "      pre.function-repr-contents.function-repr-contents-collapsed {\n",
              "        cursor: pointer;\n",
              "        max-height: 100px;\n",
              "      }\n",
              "    </style>\n",
              "    <pre style=\"white-space: initial; background:\n",
              "         var(--colab-secondary-surface-color); padding: 8px 12px;\n",
              "         border-bottom: 1px solid var(--colab-border-color);\"><b>langgraph.graph.state.StateGraph</b><br/>def __init__(state_schema: Optional[Type[Any]]=None, config_schema: Optional[Type[Any]]=None, *, input: Optional[Type[Any]]=None, output: Optional[Type[Any]]=None) -&gt; None</pre><pre class=\"function-repr-contents function-repr-contents-collapsed\" style=\"\"><a class=\"filepath\" style=\"display:none\" href=\"#\">/usr/local/lib/python3.10/dist-packages/langgraph/graph/state.py</a>A graph whose nodes communicate by reading and writing to a shared state.\n",
              "The signature of each node is State -&gt; Partial&lt;State&gt;.\n",
              "\n",
              "Each state key can optionally be annotated with a reducer function that\n",
              "will be used to aggregate the values of that key received from multiple nodes.\n",
              "The signature of a reducer function is (Value, Value) -&gt; Value.\n",
              "\n",
              "Args:\n",
              "    state_schema (Type[Any]): The schema class that defines the state.\n",
              "    config_schema (Optional[Type[Any]]): The schema class that defines the configuration.\n",
              "        Use this to expose configurable parameters in your API.\n",
              "\n",
              "\n",
              "Examples:\n",
              "    &gt;&gt;&gt; from langchain_core.runnables import RunnableConfig\n",
              "    &gt;&gt;&gt; from typing_extensions import Annotated, TypedDict\n",
              "    &gt;&gt;&gt; from langgraph.checkpoint.memory import MemorySaver\n",
              "    &gt;&gt;&gt; from langgraph.graph import StateGraph\n",
              "    &gt;&gt;&gt;\n",
              "    &gt;&gt;&gt; def reducer(a: list, b: int | None) -&gt; list:\n",
              "    ...     if b is not None:\n",
              "    ...         return a + [b]\n",
              "    ...     return a\n",
              "    &gt;&gt;&gt;\n",
              "    &gt;&gt;&gt; class State(TypedDict):\n",
              "    ...     x: Annotated[list, reducer]\n",
              "    &gt;&gt;&gt;\n",
              "    &gt;&gt;&gt; class ConfigSchema(TypedDict):\n",
              "    ...     r: float\n",
              "    &gt;&gt;&gt;\n",
              "    &gt;&gt;&gt; graph = StateGraph(State, config_schema=ConfigSchema)\n",
              "    &gt;&gt;&gt;\n",
              "    &gt;&gt;&gt; def node(state: State, config: RunnableConfig) -&gt; dict:\n",
              "    ...     r = config[&quot;configurable&quot;].get(&quot;r&quot;, 1.0)\n",
              "    ...     x = state[&quot;x&quot;][-1]\n",
              "    ...     next_value = x * r * (1 - x)\n",
              "    ...     return {&quot;x&quot;: next_value}\n",
              "    &gt;&gt;&gt;\n",
              "    &gt;&gt;&gt; graph.add_node(&quot;A&quot;, node)\n",
              "    &gt;&gt;&gt; graph.set_entry_point(&quot;A&quot;)\n",
              "    &gt;&gt;&gt; graph.set_finish_point(&quot;A&quot;)\n",
              "    &gt;&gt;&gt; compiled = graph.compile()\n",
              "    &gt;&gt;&gt;\n",
              "    &gt;&gt;&gt; print(compiled.config_specs)\n",
              "    [ConfigurableFieldSpec(id=&#x27;r&#x27;, annotation=&lt;class &#x27;float&#x27;&gt;, name=None, description=None, default=None, is_shared=False, dependencies=None)]\n",
              "    &gt;&gt;&gt;\n",
              "    &gt;&gt;&gt; step1 = compiled.invoke({&quot;x&quot;: 0.5}, {&quot;configurable&quot;: {&quot;r&quot;: 3.0}})\n",
              "    &gt;&gt;&gt; print(step1)\n",
              "    {&#x27;x&#x27;: [0.5, 0.75]}</pre>\n",
              "      <script>\n",
              "      if (google.colab.kernel.accessAllowed && google.colab.files && google.colab.files.view) {\n",
              "        for (const element of document.querySelectorAll('.filepath')) {\n",
              "          element.style.display = 'block'\n",
              "          element.onclick = (event) => {\n",
              "            event.preventDefault();\n",
              "            event.stopPropagation();\n",
              "            google.colab.files.view(element.textContent, 79);\n",
              "          };\n",
              "        }\n",
              "      }\n",
              "      for (const element of document.querySelectorAll('.function-repr-contents')) {\n",
              "        element.onclick = (event) => {\n",
              "          event.preventDefault();\n",
              "          event.stopPropagation();\n",
              "          element.classList.toggle('function-repr-contents-collapsed');\n",
              "        };\n",
              "      }\n",
              "      </script>\n",
              "      </div>"
            ]
          },
          "metadata": {},
          "execution_count": 131
        }
      ]
    },
    {
      "cell_type": "code",
      "source": [
        "type(graph)"
      ],
      "metadata": {
        "id": "xzFYU7i3ycjc",
        "outputId": "b012e247-ee92-475a-c28d-f19a4bdea30b",
        "colab": {
          "base_uri": "https://localhost:8080/",
          "height": 185
        }
      },
      "execution_count": 132,
      "outputs": [
        {
          "output_type": "execute_result",
          "data": {
            "text/plain": [
              "langgraph.graph.state.CompiledStateGraph"
            ],
            "text/html": [
              "<div style=\"max-width:800px; border: 1px solid var(--colab-border-color);\"><style>\n",
              "      pre.function-repr-contents {\n",
              "        overflow-x: auto;\n",
              "        padding: 8px 12px;\n",
              "        max-height: 500px;\n",
              "      }\n",
              "\n",
              "      pre.function-repr-contents.function-repr-contents-collapsed {\n",
              "        cursor: pointer;\n",
              "        max-height: 100px;\n",
              "      }\n",
              "    </style>\n",
              "    <pre style=\"white-space: initial; background:\n",
              "         var(--colab-secondary-surface-color); padding: 8px 12px;\n",
              "         border-bottom: 1px solid var(--colab-border-color);\"><b>langgraph.graph.state.CompiledStateGraph</b><br/>def __init__(*, builder: Graph, **kwargs: Any) -&gt; None</pre><pre class=\"function-repr-contents function-repr-contents-collapsed\" style=\"\"><a class=\"filepath\" style=\"display:none\" href=\"#\">/usr/local/lib/python3.10/dist-packages/langgraph/graph/state.py</a>A unit of work that can be invoked, batched, streamed, transformed and composed.\n",
              "\n",
              "Key Methods\n",
              "===========\n",
              "\n",
              "- **invoke/ainvoke**: Transforms a single input into an output.\n",
              "- **batch/abatch**: Efficiently transforms multiple inputs into outputs.\n",
              "- **stream/astream**: Streams output from a single input as it&#x27;s produced.\n",
              "- **astream_log**: Streams output and selected intermediate results from an input.\n",
              "\n",
              "Built-in optimizations:\n",
              "\n",
              "- **Batch**: By default, batch runs invoke() in parallel using a thread pool executor.\n",
              "  Override to optimize batching.\n",
              "\n",
              "- **Async**: Methods with &quot;a&quot; suffix are asynchronous. By default, they execute\n",
              "  the sync counterpart using asyncio&#x27;s thread pool.\n",
              "  Override for native async.\n",
              "\n",
              "All methods accept an optional config argument, which can be used to configure\n",
              "execution, add tags and metadata for tracing and debugging etc.\n",
              "\n",
              "Runnables expose schematic information about their input, output and config via\n",
              "the input_schema property, the output_schema property and config_schema method.\n",
              "\n",
              "LCEL and Composition\n",
              "====================\n",
              "\n",
              "The LangChain Expression Language (LCEL) is a declarative way to compose Runnables\n",
              "into chains. Any chain constructed this way will automatically have sync, async,\n",
              "batch, and streaming support.\n",
              "\n",
              "The main composition primitives are RunnableSequence and RunnableParallel.\n",
              "\n",
              "**RunnableSequence** invokes a series of runnables sequentially, with\n",
              "one Runnable&#x27;s output serving as the next&#x27;s input. Construct using\n",
              "the `|` operator or by passing a list of runnables to RunnableSequence.\n",
              "\n",
              "**RunnableParallel** invokes runnables concurrently, providing the same input\n",
              "to each. Construct it using a dict literal within a sequence or by passing a\n",
              "dict to RunnableParallel.\n",
              "\n",
              "\n",
              "For example,\n",
              "\n",
              ".. code-block:: python\n",
              "\n",
              "    from langchain_core.runnables import RunnableLambda\n",
              "\n",
              "    # A RunnableSequence constructed using the `|` operator\n",
              "    sequence = RunnableLambda(lambda x: x + 1) | RunnableLambda(lambda x: x * 2)\n",
              "    sequence.invoke(1) # 4\n",
              "    sequence.batch([1, 2, 3]) # [4, 6, 8]\n",
              "\n",
              "\n",
              "    # A sequence that contains a RunnableParallel constructed using a dict literal\n",
              "    sequence = RunnableLambda(lambda x: x + 1) | {\n",
              "        &#x27;mul_2&#x27;: RunnableLambda(lambda x: x * 2),\n",
              "        &#x27;mul_5&#x27;: RunnableLambda(lambda x: x * 5)\n",
              "    }\n",
              "    sequence.invoke(1) # {&#x27;mul_2&#x27;: 4, &#x27;mul_5&#x27;: 10}\n",
              "\n",
              "Standard Methods\n",
              "================\n",
              "\n",
              "All Runnables expose additional methods that can be used to modify their behavior\n",
              "(e.g., add a retry policy, add lifecycle listeners, make them configurable, etc.).\n",
              "\n",
              "These methods will work on any Runnable, including Runnable chains constructed\n",
              "by composing other Runnables. See the individual methods for details.\n",
              "\n",
              "For example,\n",
              "\n",
              ".. code-block:: python\n",
              "\n",
              "    from langchain_core.runnables import RunnableLambda\n",
              "\n",
              "    import random\n",
              "\n",
              "    def add_one(x: int) -&gt; int:\n",
              "        return x + 1\n",
              "\n",
              "\n",
              "    def buggy_double(y: int) -&gt; int:\n",
              "        &#x27;&#x27;&#x27;Buggy code that will fail 70% of the time&#x27;&#x27;&#x27;\n",
              "        if random.random() &gt; 0.3:\n",
              "            print(&#x27;This code failed, and will probably be retried!&#x27;)  # noqa: T201\n",
              "            raise ValueError(&#x27;Triggered buggy code&#x27;)\n",
              "        return y * 2\n",
              "\n",
              "    sequence = (\n",
              "        RunnableLambda(add_one) |\n",
              "        RunnableLambda(buggy_double).with_retry( # Retry on failure\n",
              "            stop_after_attempt=10,\n",
              "            wait_exponential_jitter=False\n",
              "        )\n",
              "    )\n",
              "\n",
              "    print(sequence.input_schema.model_json_schema()) # Show inferred input schema\n",
              "    print(sequence.output_schema.model_json_schema()) # Show inferred output schema\n",
              "    print(sequence.invoke(2)) # invoke the sequence (note the retry above!!)\n",
              "\n",
              "Debugging and tracing\n",
              "=====================\n",
              "\n",
              "As the chains get longer, it can be useful to be able to see intermediate results\n",
              "to debug and trace the chain.\n",
              "\n",
              "You can set the global debug flag to True to enable debug output for all chains:\n",
              "\n",
              "    .. code-block:: python\n",
              "\n",
              "        from langchain_core.globals import set_debug\n",
              "        set_debug(True)\n",
              "\n",
              "Alternatively, you can pass existing or custom callbacks to any given chain:\n",
              "\n",
              "    .. code-block:: python\n",
              "\n",
              "        from langchain_core.tracers import ConsoleCallbackHandler\n",
              "\n",
              "        chain.invoke(\n",
              "            ...,\n",
              "            config={&#x27;callbacks&#x27;: [ConsoleCallbackHandler()]}\n",
              "        )\n",
              "\n",
              "For a UI (and much more) checkout LangSmith: https://docs.smith.langchain.com/</pre>\n",
              "      <script>\n",
              "      if (google.colab.kernel.accessAllowed && google.colab.files && google.colab.files.view) {\n",
              "        for (const element of document.querySelectorAll('.filepath')) {\n",
              "          element.style.display = 'block'\n",
              "          element.onclick = (event) => {\n",
              "            event.preventDefault();\n",
              "            event.stopPropagation();\n",
              "            google.colab.files.view(element.textContent, 516);\n",
              "          };\n",
              "        }\n",
              "      }\n",
              "      for (const element of document.querySelectorAll('.function-repr-contents')) {\n",
              "        element.onclick = (event) => {\n",
              "          event.preventDefault();\n",
              "          event.stopPropagation();\n",
              "          element.classList.toggle('function-repr-contents-collapsed');\n",
              "        };\n",
              "      }\n",
              "      </script>\n",
              "      </div>"
            ]
          },
          "metadata": {},
          "execution_count": 132
        }
      ]
    },
    {
      "cell_type": "code",
      "source": [
        "graph.get_graph()"
      ],
      "metadata": {
        "id": "gvT_pxFVs17N",
        "outputId": "c62d360c-0350-4676-95f5-f78c2f48cf49",
        "colab": {
          "base_uri": "https://localhost:8080/"
        }
      },
      "execution_count": 133,
      "outputs": [
        {
          "output_type": "execute_result",
          "data": {
            "text/plain": [
              "Graph(nodes={'__start__': Node(id='__start__', name='__start__', data=<class 'langchain_core.utils.pydantic.LangGraphInput'>, metadata=None), 'Node 1': Node(id='Node 1', name='Node 1', data=Node 1(tags=None, recurse=True, func_accepts_config=False, func_accepts={'writer': False, 'store': False}), metadata=None), 'Node 2': Node(id='Node 2', name='Node 2', data=Node 2(tags=None, recurse=True, func_accepts_config=False, func_accepts={'writer': False, 'store': False}), metadata=None), 'Node 3': Node(id='Node 3', name='Node 3', data=Node 3(tags=None, recurse=True, func_accepts_config=False, func_accepts={'writer': False, 'store': False}), metadata=None), '__end__': Node(id='__end__', name='__end__', data=<class 'langchain_core.utils.pydantic.LangGraphOutput'>, metadata=None)}, edges=[Edge(source='Node 1', target='Node 2', data=None, conditional=False), Edge(source='Node 2', target='Node 3', data=None, conditional=False), Edge(source='Node 3', target='__end__', data=None, conditional=False), Edge(source='__start__', target='Node 1', data=None, conditional=False)])"
            ]
          },
          "metadata": {},
          "execution_count": 133
        }
      ]
    },
    {
      "cell_type": "code",
      "source": [
        "from IPython.display import Image, display\n",
        "\n",
        "display(Image(graph.get_graph().draw_mermaid_png()))"
      ],
      "metadata": {
        "id": "eSYsk4Lns-2c",
        "outputId": "5f8748b4-3ac3-45f4-c0c8-076376b3841c",
        "colab": {
          "base_uri": "https://localhost:8080/",
          "height": 449
        }
      },
      "execution_count": 134,
      "outputs": [
        {
          "output_type": "display_data",
          "data": {
            "image/jpeg": "[encoded data removed]",
            "text/plain": [
              "<IPython.core.display.Image object>"
            ]
          },
          "metadata": {}
        }
      ]
    },
    {
      "cell_type": "code",
      "source": [
        "graph.invoke({\"message\": \"Hello, I'm learning gen ai fundamentals\"})"
      ],
      "metadata": {
        "id": "hifXVpMJt1fH",
        "outputId": "66e008de-8fcf-4f53-eac6-d9d75274ab8d",
        "colab": {
          "base_uri": "https://localhost:8080/"
        }
      },
      "execution_count": 135,
      "outputs": [
        {
          "output_type": "stream",
          "name": "stdout",
          "text": [
            "NODE 1 STATE: {'message': \"Hello, I'm learning gen ai fundamentals\"}\n",
            "NODE 2 STATE: {'message': \"Hello, I'm learning gen ai fundamentals  I am learning langgraph\"}\n",
            "NODE 3 STATE: {'message': \"Hello, I'm learning gen ai fundamentals  I am learning langgraph  I am learning langchain\"}\n"
          ]
        },
        {
          "output_type": "execute_result",
          "data": {
            "text/plain": [
              "{'message': \"Hello, I'm learning gen ai fundamentals  I am learning langgraph  I am learning langchain  I am learning python\"}"
            ]
          },
          "metadata": {},
          "execution_count": 135
        }
      ]
    },
    {
      "cell_type": "markdown",
      "source": [
        "#Now using gemini LLM in nodes in simple workflow"
      ],
      "metadata": {
        "id": "fFO1eA_U25wy"
      }
    },
    {
      "cell_type": "code",
      "source": [
        "%pip install -q langchain langchain-google-genai"
      ],
      "metadata": {
        "id": "EtqdMr5l3rU6"
      },
      "execution_count": 136,
      "outputs": []
    },
    {
      "cell_type": "code",
      "source": [
        "from langchain_google_genai import ChatGoogleGenerativeAI\n",
        "from google.colab import userdata\n",
        "\n",
        "GEMINI_API_KEY = userdata.get('GEMINI_API_KEY')\n",
        "\n",
        "llm: ChatGoogleGenerativeAI = ChatGoogleGenerativeAI(api_key=GEMINI_API_KEY, model=\"gemini-1.5-flash\")"
      ],
      "metadata": {
        "id": "Nsbr9sF_4pGq"
      },
      "execution_count": 141,
      "outputs": []
    },
    {
      "cell_type": "code",
      "source": [
        "from langchain_core.messages import AIMessage\n",
        "\n",
        "class LLMTestState(TypedDict):\n",
        "  prompt: str\n",
        "  output: str\n",
        "\n",
        "def llm_node_1(state: LLMTestState) -> LLMTestState:\n",
        "  print(\"Node 1 State --- \", state)\n",
        "  prompt = state[\"prompt\"]\n",
        "  llm_response: AIMessage = llm.invoke(prompt)\n",
        "  return {\"output\": llm_response.content}\n",
        "\n",
        "def node_2(state: LLMTestState) -> LLMTestState:\n",
        "  print(\"Node 2 State --- \", state)"
      ],
      "metadata": {
        "id": "srhqU8LV1cc_"
      },
      "execution_count": 160,
      "outputs": []
    },
    {
      "cell_type": "code",
      "source": [
        "builder = StateGraph(LLMTestState)\n",
        "\n",
        "builder.add_node(\"LLM NODE\", llm_node_1)\n",
        "builder.add_node(\"NODE 2\", node_2)\n",
        "\n",
        "builder.add_edge(START, \"LLM NODE\")\n",
        "builder.add_edge(\"LLM NODE\", \"NODE 2\")\n",
        "builder.add_edge(\"NODE 2\", END)\n",
        "\n",
        "graph: CompiledStateGraph = builder.compile()"
      ],
      "metadata": {
        "id": "tyr688zUy982"
      },
      "execution_count": 161,
      "outputs": []
    },
    {
      "cell_type": "code",
      "source": [
        "graph.invoke({\"prompt\": \"Why is the sky blue ?\"})"
      ],
      "metadata": {
        "id": "encwVChbWsKF",
        "outputId": "86503279-2cdd-4fab-973e-bf8087c1d566",
        "colab": {
          "base_uri": "https://localhost:8080/"
        }
      },
      "execution_count": 162,
      "outputs": [
        {
          "output_type": "stream",
          "name": "stdout",
          "text": [
            "Node 1 State ---  {'prompt': 'Why is the sky blue ?'}\n",
            "Node 2 State ---  {'prompt': 'Why is the sky blue ?', 'output': \"The sky appears blue due to a phenomenon called **Rayleigh scattering**. Here's how it works:\\n\\n* **Sunlight is made up of all colors of the rainbow.**  This is called the visible light spectrum.\\n* **When sunlight enters the Earth's atmosphere, it interacts with the tiny molecules of air, like nitrogen and oxygen.**\\n* **These molecules scatter the sunlight in all directions.** This is called scattering.\\n* **Shorter wavelengths of light, like blue and violet, are scattered more effectively than longer wavelengths, like red and orange.**\\n* **This means that more blue light is scattered towards our eyes from all directions in the sky.**\\n* **Our eyes are more sensitive to blue light than violet, so we perceive the sky as blue.**\\n\\n**Here's a helpful analogy:**\\n\\nImagine shining a flashlight through a glass of water. The light scatters as it passes through the water, and the shorter wavelengths (blue) are scattered more than the longer wavelengths (red). This is why a glass of water can appear blue in certain lighting conditions.\\n\\n**Why is the sunset red?**\\n\\nAs the sun sets, the sunlight has to travel through more of the atmosphere to reach our eyes. This means that more of the blue light is scattered away, leaving more of the longer wavelengths (red and orange) to reach our eyes. This is why sunsets often appear red or orange.\\n\"}\n"
          ]
        },
        {
          "output_type": "execute_result",
          "data": {
            "text/plain": [
              "{'prompt': 'Why is the sky blue ?',\n",
              " 'output': \"The sky appears blue due to a phenomenon called **Rayleigh scattering**. Here's how it works:\\n\\n* **Sunlight is made up of all colors of the rainbow.**  This is called the visible light spectrum.\\n* **When sunlight enters the Earth's atmosphere, it interacts with the tiny molecules of air, like nitrogen and oxygen.**\\n* **These molecules scatter the sunlight in all directions.** This is called scattering.\\n* **Shorter wavelengths of light, like blue and violet, are scattered more effectively than longer wavelengths, like red and orange.**\\n* **This means that more blue light is scattered towards our eyes from all directions in the sky.**\\n* **Our eyes are more sensitive to blue light than violet, so we perceive the sky as blue.**\\n\\n**Here's a helpful analogy:**\\n\\nImagine shining a flashlight through a glass of water. The light scatters as it passes through the water, and the shorter wavelengths (blue) are scattered more than the longer wavelengths (red). This is why a glass of water can appear blue in certain lighting conditions.\\n\\n**Why is the sunset red?**\\n\\nAs the sun sets, the sunlight has to travel through more of the atmosphere to reach our eyes. This means that more of the blue light is scattered away, leaving more of the longer wavelengths (red and orange) to reach our eyes. This is why sunsets often appear red or orange.\\n\"}"
            ]
          },
          "metadata": {},
          "execution_count": 162
        }
      ]
    }
  ],
  "metadata": {
    "language_info": {
      "name": "python"
    },
    "colab": {
      "provenance": []
    },
    "kernelspec": {
      "name": "python3",
      "display_name": "Python 3"
    }
  },
  "nbformat": 4,
  "nbformat_minor": 0
}