{
 "cells": [
  {
   "cell_type": "code",
   "execution_count": 49,
   "metadata": {
    "id": "Qy7FaDKiG2CA",
    "vscode": {
     "languageId": "plaintext"
    }
   },
   "outputs": [],
   "source": [
    "%pip install -q -U langchain-google-genai langchain_core langgraph"
   ]
  },
  {
   "cell_type": "code",
   "execution_count": 50,
   "metadata": {
    "colab": {
     "base_uri": "https://localhost:8080/"
    },
    "id": "YXwrnpc8Odfz",
    "outputId": "95760af0-a8d9-44e1-93da-facf06a350f2"
   },
   "outputs": [
    {
     "name": "stdout",
     "output_type": "stream",
     "text": [
      "==================================\u001b[1m Ai Message \u001b[0m==================================\n",
      "Name: Model\n",
      "\n",
      "So you said you were researching ocean mammals?\n",
      "================================\u001b[1m Human Message \u001b[0m=================================\n",
      "Name: Lance\n",
      "\n",
      "Yes, that's right.\n",
      "==================================\u001b[1m Ai Message \u001b[0m==================================\n",
      "Name: Model\n",
      "\n",
      "Great, what would you like to learn about.\n",
      "================================\u001b[1m Human Message \u001b[0m=================================\n",
      "Name: Lance\n",
      "\n",
      "I want to learn about the best place to see Orcas in the US.\n"
     ]
    }
   ],
   "source": [
    "from pprint import pprint\n",
    "from langchain_core.messages import AIMessage, HumanMessage\n",
    "\n",
    "messages = [AIMessage(content=f\"So you said you were researching ocean mammals?\", name=\"Model\")]\n",
    "messages.append(HumanMessage(content=f\"Yes, that's right.\",name=\"Lance\"))\n",
    "messages.append(AIMessage(content=f\"Great, what would you like to learn about.\", name=\"Model\"))\n",
    "messages.append(HumanMessage(content=f\"I want to learn about the best place to see Orcas in the US.\", name=\"Lance\"))\n",
    "\n",
    "for msg in messages:\n",
    "    msg.pretty_print()"
   ]
  },
  {
   "cell_type": "code",
   "execution_count": 50,
   "metadata": {
    "id": "gDmwdyUmOrvB"
   },
   "outputs": [],
   "source": []
  },
  {
   "cell_type": "code",
   "execution_count": 51,
   "metadata": {
    "id": "0w7eqaEuOsH0"
   },
   "outputs": [],
   "source": [
    "from google.colab import userdata\n",
    "GEMINI_API_KEY = userdata.get('GEMINI_API_KEY')"
   ]
  },
  {
   "cell_type": "code",
   "execution_count": 52,
   "metadata": {
    "colab": {
     "base_uri": "https://localhost:8080/"
    },
    "id": "ojcmaubPOvNd",
    "outputId": "3bd7b1c5-6a11-42fa-aadc-bad9ad8f38f2"
   },
   "outputs": [
    {
     "name": "stdout",
     "output_type": "stream",
     "text": [
      "<class 'langchain_core.messages.ai.AIMessage'>\n"
     ]
    },
    {
     "data": {
      "text/plain": [
       "AIMessage(content='That\\'s a great question! Orcas, also known as killer whales, are fascinating creatures.  The best place in the US to see them depends on what you\\'re looking for in your experience.  Here are a few options:\\n\\n**For the most consistent sightings:**\\n\\n* **San Juan Islands, Washington:** This archipelago is known as the \"Orca Capital of the World\" for good reason.  The resident pods of orcas spend a lot of time in the waters around the islands, especially during the summer months. You can take a whale watching tour or even kayak alongside them. \\n\\n**For a unique experience:**\\n\\n* **Alaska:**  Alaska\\'s waters are home to both resident and transient orcas.  You can see them from land, on a boat tour, or even from a seaplane.  You might even spot them hunting seals or salmon.  \\n\\n**For a combination of orcas and other marine life:**\\n\\n* **California:**  While orcas are not as common in California as they are in the Pacific Northwest, you can still spot them off the coast of Monterey Bay.  This area is also home to a variety of other marine life, including whales, dolphins, and sea otters.\\n\\n**Important considerations:**\\n\\n* **Time of year:**  Orca sightings are best in the summer months, when the waters are warmer and the fish are more abundant.\\n* **Tour operators:**  Choose a reputable tour operator that prioritizes responsible whale watching practices.\\n* **Weather:**  The weather can be unpredictable, so be sure to check the forecast before you go.\\n\\nLet me know if you\\'d like more information about any of these locations or have any other questions! \\n', additional_kwargs={}, response_metadata={'prompt_feedback': {'block_reason': 0, 'safety_ratings': []}, 'finish_reason': 'STOP', 'safety_ratings': [{'category': 'HARM_CATEGORY_SEXUALLY_EXPLICIT', 'probability': 'NEGLIGIBLE', 'blocked': False}, {'category': 'HARM_CATEGORY_HATE_SPEECH', 'probability': 'NEGLIGIBLE', 'blocked': False}, {'category': 'HARM_CATEGORY_HARASSMENT', 'probability': 'NEGLIGIBLE', 'blocked': False}, {'category': 'HARM_CATEGORY_DANGEROUS_CONTENT', 'probability': 'NEGLIGIBLE', 'blocked': False}]}, id='run-d03c1324-c4d6-47fe-a75d-4e21aa6cf6d7-0', usage_metadata={'input_tokens': 46, 'output_tokens': 354, 'total_tokens': 400, 'input_token_details': {'cache_read': 0}})"
      ]
     },
     "execution_count": 52,
     "metadata": {},
     "output_type": "execute_result"
    }
   ],
   "source": [
    "from langchain_google_genai import ChatGoogleGenerativeAI\n",
    "\n",
    "llm: ChatGoogleGenerativeAI = ChatGoogleGenerativeAI(model=\"gemini-1.5-flash\", api_key=GEMINI_API_KEY)\n",
    "\n",
    "result = llm.invoke(messages)\n",
    "print(type(result))\n",
    "result"
   ]
  },
  {
   "cell_type": "code",
   "execution_count": 53,
   "metadata": {
    "colab": {
     "base_uri": "https://localhost:8080/"
    },
    "id": "DNzovS0gPOzt",
    "outputId": "71b2b0d0-73e1-4748-e5ea-49683e65b319"
   },
   "outputs": [
    {
     "data": {
      "text/plain": [
       "{'prompt_feedback': {'block_reason': 0, 'safety_ratings': []},\n",
       " 'finish_reason': 'STOP',\n",
       " 'safety_ratings': [{'category': 'HARM_CATEGORY_SEXUALLY_EXPLICIT',\n",
       "   'probability': 'NEGLIGIBLE',\n",
       "   'blocked': False},\n",
       "  {'category': 'HARM_CATEGORY_HATE_SPEECH',\n",
       "   'probability': 'NEGLIGIBLE',\n",
       "   'blocked': False},\n",
       "  {'category': 'HARM_CATEGORY_HARASSMENT',\n",
       "   'probability': 'NEGLIGIBLE',\n",
       "   'blocked': False},\n",
       "  {'category': 'HARM_CATEGORY_DANGEROUS_CONTENT',\n",
       "   'probability': 'NEGLIGIBLE',\n",
       "   'blocked': False}]}"
      ]
     },
     "execution_count": 53,
     "metadata": {},
     "output_type": "execute_result"
    }
   ],
   "source": [
    "result.response_metadata"
   ]
  },
  {
   "cell_type": "code",
   "execution_count": 53,
   "metadata": {
    "id": "G8ansPS0PhtZ"
   },
   "outputs": [],
   "source": []
  },
  {
   "cell_type": "code",
   "execution_count": 54,
   "metadata": {
    "id": "SQERem-tPiB_"
   },
   "outputs": [],
   "source": [
    "def multiply(a: int, b: int) -> int:\n",
    "    \"\"\"Multiply a and b.\n",
    "\n",
    "    Args:\n",
    "        a: first parameter that is int\n",
    "        b: second parameter that is int\n",
    "    \"\"\"\n",
    "    return a * b\n",
    "\n",
    "llm_with_tools: ChatGoogleGenerativeAI = llm.bind_tools([multiply])"
   ]
  },
  {
   "cell_type": "code",
   "execution_count": 55,
   "metadata": {
    "colab": {
     "base_uri": "https://localhost:8080/"
    },
    "id": "3lJAYEY0P36H",
    "outputId": "6c179ac9-aba6-4a25-97f7-0d759573c265"
   },
   "outputs": [
    {
     "data": {
      "text/plain": [
       "AIMessage(content='', additional_kwargs={'function_call': {'name': 'multiply', 'arguments': '{\"a\": 10.0, \"b\": 10.0}'}}, response_metadata={'prompt_feedback': {'block_reason': 0, 'safety_ratings': []}, 'finish_reason': 'STOP', 'safety_ratings': [{'category': 'HARM_CATEGORY_HARASSMENT', 'probability': 'NEGLIGIBLE', 'blocked': False}, {'category': 'HARM_CATEGORY_SEXUALLY_EXPLICIT', 'probability': 'NEGLIGIBLE', 'blocked': False}, {'category': 'HARM_CATEGORY_DANGEROUS_CONTENT', 'probability': 'NEGLIGIBLE', 'blocked': False}, {'category': 'HARM_CATEGORY_HATE_SPEECH', 'probability': 'NEGLIGIBLE', 'blocked': False}]}, id='run-00ff9c68-6a05-47a7-b312-978ff5974e98-0', tool_calls=[{'name': 'multiply', 'args': {'a': 10.0, 'b': 10.0}, 'id': '4b1639a8-7118-4d70-bafd-e16818cd33d8', 'type': 'tool_call'}], usage_metadata={'input_tokens': 63, 'output_tokens': 20, 'total_tokens': 83, 'input_token_details': {'cache_read': 0}})"
      ]
     },
     "execution_count": 55,
     "metadata": {},
     "output_type": "execute_result"
    }
   ],
   "source": [
    "response = llm_with_tools.invoke([HumanMessage(content=\"Multiply 10 by 10\", name=\"Sarfaraz\")])\n",
    "response"
   ]
  },
  {
   "cell_type": "code",
   "execution_count": 56,
   "metadata": {
    "colab": {
     "base_uri": "https://localhost:8080/"
    },
    "id": "ofaow0HDRSYc",
    "outputId": "82c675b8-850d-446e-9cea-fd8d4eee07ed"
   },
   "outputs": [
    {
     "data": {
      "text/plain": [
       "{'function_call': {'name': 'multiply', 'arguments': '{\"a\": 10.0, \"b\": 10.0}'}}"
      ]
     },
     "execution_count": 56,
     "metadata": {},
     "output_type": "execute_result"
    }
   ],
   "source": [
    "response.additional_kwargs"
   ]
  },
  {
   "cell_type": "code",
   "execution_count": 56,
   "metadata": {
    "id": "YHhtMxh6RghR"
   },
   "outputs": [],
   "source": []
  },
  {
   "cell_type": "markdown",
   "metadata": {
    "id": "OlVpP7uGRc0-"
   },
   "source": [
    "#Using messages as state"
   ]
  },
  {
   "cell_type": "code",
   "execution_count": 57,
   "metadata": {
    "id": "jLIMRvOdRcZ2"
   },
   "outputs": [],
   "source": [
    "from typing import TypedDict, List\n",
    "from langchain_core.messages import AnyMessage\n",
    "\n",
    "class MessagesState(TypedDict):\n",
    "  messages: List[AnyMessage]"
   ]
  },
  {
   "cell_type": "markdown",
   "metadata": {
    "id": "n0yjhV0sSR0k"
   },
   "source": [
    "###When the graph runs then each node will override previous state. If we want to maintain the conversation history then we can use add_messages reducer. This reducer can be used for many tasks like adding, updating messages etc in a state."
   ]
  },
  {
   "cell_type": "code",
   "execution_count": null,
   "metadata": {
    "id": "tO0tz05eRb1t"
   },
   "outputs": [],
   "source": [
    "from typing import Annotated, List\n",
    "from langgraph.graph.message import add_messages\n",
    "\n",
    "class MessagesState(TypedDict):\n",
    "    messages: Annotated[List[AnyMessage], add_messages]"
   ]
  },
  {
   "cell_type": "code",
   "execution_count": 59,
   "metadata": {
    "colab": {
     "base_uri": "https://localhost:8080/"
    },
    "id": "nAOyF1iUUPhY",
    "outputId": "7803aef1-463a-42e4-ff08-7ce2d423502a"
   },
   "outputs": [
    {
     "data": {
      "text/plain": [
       "[HumanMessage(content='What is a GPU in simple words ?', additional_kwargs={}, response_metadata={}, name='Sarfaraz', id='2e6dc327-4a3d-4a4c-a2c8-633bb9c8c8f8'),\n",
       " AIMessage(content='A GPU (Graphics Processing Unit) is a computer chip designed                          to handle graphics and visual tasks quickly. It’s especially useful                          in gaming, video editing, and data processing, where it speeds up complex tasks.', additional_kwargs={}, response_metadata={}, id='25107186-0d6c-402e-a0f9-ea793b851ac6'),\n",
       " HumanMessage(content='Teach me langgraph basics ?', additional_kwargs={}, response_metadata={}, name='Sarfaraz', id='42a63368-a0e2-4a8e-b2fa-96ab2f4704b8')]"
      ]
     },
     "execution_count": 59,
     "metadata": {},
     "output_type": "execute_result"
    }
   ],
   "source": [
    "initial_messages = [\n",
    "    HumanMessage(content=\"What is a GPU in simple words ?\", name=\"Sarfaraz\"),\n",
    "    AIMessage(content=\"A GPU (Graphics Processing Unit) is a computer chip designed \\\n",
    "                         to handle graphics and visual tasks quickly. It’s especially useful \\\n",
    "                         in gaming, video editing, and data processing, where it speeds up complex tasks.\")\n",
    "]\n",
    "\n",
    "new_message = HumanMessage(content=\"Teach me langgraph basics ?\", name=\"Sarfaraz\")\n",
    "\n",
    "res = add_messages(initial_messages, new_message)\n",
    "res"
   ]
  },
  {
   "cell_type": "markdown",
   "metadata": {
    "id": "xO2vX7F9WSJz"
   },
   "source": [
    "#Now using MessagesState in graph which is the same as messages: Annotated[List[AnyMessage, add_messages]]"
   ]
  },
  {
   "cell_type": "code",
   "execution_count": 60,
   "metadata": {
    "id": "MoqwAmy5VpOU"
   },
   "outputs": [],
   "source": [
    "from langgraph.graph import StateGraph, START, END, MessagesState\n",
    "from langgraph.graph.state import CompiledStateGraph\n",
    "from IPython.display import display, Image\n",
    "\n",
    "class ConversationState(MessagesState):\n",
    "  pass\n",
    "\n",
    "def tool_calling_llm(state: ConversationState):\n",
    "  return { \"messages\": [llm_with_tools.invoke(state[\"messages\"])] }\n",
    "\n",
    "builder = StateGraph(state_schema=ConversationState)\n",
    "\n",
    "builder.add_node(\"Tool Calling LLM\", tool_calling_llm)\n",
    "\n",
    "builder.add_edge(START, \"Tool Calling LLM\")\n",
    "builder.add_edge(\"Tool Calling LLM\", END)\n",
    "\n",
    "graph = builder.compile()"
   ]
  },
  {
   "cell_type": "code",
   "execution_count": 61,
   "metadata": {
    "colab": {
     "base_uri": "https://localhost:8080/",
     "height": 251
    },
    "id": "h8wK3HTbe7LJ",
    "outputId": "f1062cb8-2479-46e4-dcb1-63fa28d9a14a"
   },
   "outputs": [
    {
     "data": {
      "image/jpeg": "[encoded data removed]",
      "text/plain": [
       "<IPython.core.display.Image object>"
      ]
     },
     "metadata": {},
     "output_type": "display_data"
    }
   ],
   "source": [
    "display(Image(graph.get_graph().draw_mermaid_png()))"
   ]
  },
  {
   "cell_type": "code",
   "execution_count": 65,
   "metadata": {
    "colab": {
     "base_uri": "https://localhost:8080/"
    },
    "id": "1Tr4Q2QjhAC5",
    "outputId": "c797af14-cd14-4a5d-c3c2-c1dcd3e6cbc7"
   },
   "outputs": [
    {
     "data": {
      "text/plain": [
       "{'messages': [HumanMessage(content='Hello', additional_kwargs={}, response_metadata={}, id='694ff173-7f5d-47fe-a40f-15a7971a0c15'),\n",
       "  AIMessage(content='Hello! How can I help you today? 😊 \\n', additional_kwargs={}, response_metadata={'prompt_feedback': {'block_reason': 0, 'safety_ratings': []}, 'finish_reason': 'STOP', 'safety_ratings': [{'category': 'HARM_CATEGORY_SEXUALLY_EXPLICIT', 'probability': 'NEGLIGIBLE', 'blocked': False}, {'category': 'HARM_CATEGORY_HATE_SPEECH', 'probability': 'NEGLIGIBLE', 'blocked': False}, {'category': 'HARM_CATEGORY_HARASSMENT', 'probability': 'NEGLIGIBLE', 'blocked': False}, {'category': 'HARM_CATEGORY_DANGEROUS_CONTENT', 'probability': 'NEGLIGIBLE', 'blocked': False}]}, id='run-73c897b9-751c-4d06-9516-66f992e34b8e-0', usage_metadata={'input_tokens': 56, 'output_tokens': 10, 'total_tokens': 66, 'input_token_details': {'cache_read': 0}})]}"
      ]
     },
     "execution_count": 65,
     "metadata": {},
     "output_type": "execute_result"
    }
   ],
   "source": [
    "graph.invoke({\"messages\": HumanMessage(content=\"Hello\")})"
   ]
  },
  {
   "cell_type": "code",
   "execution_count": 66,
   "metadata": {
    "colab": {
     "base_uri": "https://localhost:8080/"
    },
    "id": "xxntUkJmhNKe",
    "outputId": "1c4302a8-efab-40f0-affd-5c1fb940baad"
   },
   "outputs": [
    {
     "data": {
      "text/plain": [
       "{'messages': [HumanMessage(content='Why is the sky blue ?', additional_kwargs={}, response_metadata={}, id='5c8f498f-31c3-44b9-8267-afd492f19552'),\n",
       "  AIMessage(content=\"The sky appears blue due to a phenomenon called **Rayleigh scattering**. \\n\\nHere's a simplified explanation:\\n\\n* **Sunlight is made up of all colors of the rainbow.**\\n* **When sunlight enters the Earth's atmosphere, it collides with tiny particles like air molecules.**\\n* **Blue light, with its shorter wavelengths, is scattered more effectively than other colors by these particles.**\\n* **This scattered blue light reaches our eyes from all directions, making the sky appear blue.**\\n\\nLet me know if you'd like to explore this further! \\n\", additional_kwargs={}, response_metadata={'prompt_feedback': {'block_reason': 0, 'safety_ratings': []}, 'finish_reason': 'STOP', 'safety_ratings': [{'category': 'HARM_CATEGORY_SEXUALLY_EXPLICIT', 'probability': 'NEGLIGIBLE', 'blocked': False}, {'category': 'HARM_CATEGORY_HATE_SPEECH', 'probability': 'NEGLIGIBLE', 'blocked': False}, {'category': 'HARM_CATEGORY_HARASSMENT', 'probability': 'NEGLIGIBLE', 'blocked': False}, {'category': 'HARM_CATEGORY_DANGEROUS_CONTENT', 'probability': 'NEGLIGIBLE', 'blocked': False}]}, id='run-b15179d7-c1b1-4212-8c10-57a449980f89-0', usage_metadata={'input_tokens': 61, 'output_tokens': 115, 'total_tokens': 176, 'input_token_details': {'cache_read': 0}})]}"
      ]
     },
     "execution_count": 66,
     "metadata": {},
     "output_type": "execute_result"
    }
   ],
   "source": [
    "graph.invoke({\"messages\": HumanMessage(content=\"Why is the sky blue ?\")})"
   ]
  },
  {
   "cell_type": "code",
   "execution_count": 70,
   "metadata": {
    "colab": {
     "base_uri": "https://localhost:8080/"
    },
    "id": "NOka9PVhhUQn",
    "outputId": "44247871-367b-4f66-b02b-ebc705fb0d57"
   },
   "outputs": [
    {
     "name": "stdout",
     "output_type": "stream",
     "text": [
      "================================\u001b[1m Human Message \u001b[0m=================================\n",
      "\n",
      "Multiply 5 by 3\n",
      "==================================\u001b[1m Ai Message \u001b[0m==================================\n",
      "Tool Calls:\n",
      "  multiply (e63d57fd-aaca-4efe-b2c8-415c06a97a86)\n",
      " Call ID: e63d57fd-aaca-4efe-b2c8-415c06a97a86\n",
      "  Args:\n",
      "    b: 3.0\n",
      "    a: 5.0\n"
     ]
    }
   ],
   "source": [
    "messages = graph.invoke({\"messages\": HumanMessage(content=\"Multiply 5 by 3\")})\n",
    "\n",
    "for msg in messages['messages']:\n",
    "  msg.pretty_print()"
   ]
  }
 ],
 "metadata": {
  "colab": {
   "provenance": []
  },
  "kernelspec": {
   "display_name": "Python 3",
   "name": "python3"
  },
  "language_info": {
   "name": "python"
  }
 },
 "nbformat": 4,
 "nbformat_minor": 0
}
