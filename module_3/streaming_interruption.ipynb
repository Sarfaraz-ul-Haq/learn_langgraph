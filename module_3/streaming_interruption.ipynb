{
  "cells": [
    {
      "cell_type": "code",
      "execution_count": 1,
      "metadata": {
        "vscode": {
          "languageId": "plaintext"
        },
        "id": "1WcXDWb8zl-l"
      },
      "outputs": [],
      "source": [
        "%%capture --no-stderr\n",
        "%pip install -q -U langgraph langchain-google-genai langgraph-sdk"
      ]
    },
    {
      "cell_type": "code",
      "source": [
        "import os\n",
        "from google.colab import userdata\n",
        "\n",
        "os.environ[\"GOOGLE_API_KEY\"] = userdata.get(\"GOOGLE_API_KEY\")\n",
        "os.environ[\"LANGCHAIN_API_KEY\"] = userdata.get(\"LANGCHAIN_API_KEY\")\n",
        "os.environ[\"LANGCHAIN_TRACING_V2\"] = \"true\"\n",
        "os.environ[\"LANGCHAIN_PROJECT\"] = \"langchain-academy\""
      ],
      "metadata": {
        "id": "Dq6iNAQU0uNv"
      },
      "execution_count": 2,
      "outputs": []
    },
    {
      "cell_type": "code",
      "source": [
        "from IPython.display import Image, display\n",
        "from langchain_google_genai import ChatGoogleGenerativeAI\n",
        "from langgraph.checkpoint.memory import MemorySaver\n",
        "from langgraph.graph import MessagesState\n",
        "from langgraph.graph import StateGraph, START, END\n",
        "from langchain_core.messages import SystemMessage, HumanMessage, RemoveMessage\n",
        "from langchain_core.runnables import RunnableConfig\n",
        "from langgraph.graph.state import CompiledStateGraph\n",
        "from typing import Literal\n",
        "from langgraph.types import Command\n",
        "\n",
        "llm: ChatGoogleGenerativeAI = ChatGoogleGenerativeAI(model=\"gemini-1.5-flash\")\n",
        "\n",
        "class State(MessagesState):\n",
        "    summary: str\n",
        "\n",
        "\n",
        "def call_model(state: State, config: RunnableConfig) -> Command[Literal[\"summarize_conversation\", END]]:\n",
        "    summary = state.get(\"summary\", \"\")\n",
        "\n",
        "    if summary:\n",
        "        system_message = f\"Summary of conversation earlier: {summary}\"\n",
        "        messages = [SystemMessage(content=system_message)] + state[\"messages\"]\n",
        "    else:\n",
        "        messages = state[\"messages\"]\n",
        "\n",
        "    response = llm.invoke(messages, config)\n",
        "\n",
        "    goto = \"summarize_conversation\" if len(state[\"messages\"]) > 6 else END\n",
        "\n",
        "    return Command(\n",
        "        update={\"messages\": response},\n",
        "        goto=goto\n",
        "    )\n",
        "\n",
        "\n",
        "def summarize_conversation(state: State):\n",
        "    summary = state.get(\"summary\", \"\")\n",
        "\n",
        "    if summary:\n",
        "        summary_message = (\n",
        "            f\"This is summary of the conversation to date: {summary}\\n\\n\"\n",
        "            \"Extend the summary by taking into account the new messages above:\"\n",
        "        )\n",
        "\n",
        "    else:\n",
        "        summary_message = \"Create a summary of the conversation above:\"\n",
        "\n",
        "    messages = state[\"messages\"] + [HumanMessage(content=summary_message)]\n",
        "    response = llm.invoke(messages)\n",
        "\n",
        "    delete_messages = [RemoveMessage(id=m.id) for m in state[\"messages\"][:-2]]\n",
        "    return Command(\n",
        "        update={\"summary\": response.content, \"messages\": delete_messages},\n",
        "        goto=END\n",
        "    )\n",
        "\n",
        "\n",
        "workflow: StateGraph = StateGraph(State)\n",
        "\n",
        "workflow.add_node(\"conversation\", call_model)\n",
        "workflow.add_node(\"summarize_conversation\", summarize_conversation)\n",
        "\n",
        "workflow.add_edge(START, \"conversation\")\n",
        "\n",
        "memory: MemorySaver = MemorySaver()\n",
        "graph: CompiledStateGraph = workflow.compile(checkpointer=memory)\n",
        "\n",
        "display(Image(graph.get_graph().draw_mermaid_png()))"
      ],
      "metadata": {
        "id": "noGfmgZQ0z5t",
        "outputId": "8e80ab25-1e1f-4072-c7c0-c6d73e8fabd6",
        "colab": {
          "base_uri": "https://localhost:8080/",
          "height": 266
        }
      },
      "execution_count": 3,
      "outputs": [
        {
          "output_type": "display_data",
          "data": {
            "image/png": "[encoded data removed]",
            "text/plain": [
              "<IPython.core.display.Image object>"
            ]
          },
          "metadata": {}
        }
      ]
    },
    {
      "cell_type": "code",
      "source": [
        "config = {\"configurable\": {\"thread_id\": \"1\"}}\n",
        "\n",
        "for chunk in graph.stream({\"messages\": [HumanMessage(content=\"Hello\")]}, config, stream_mode=\"updates\"):\n",
        "    print(chunk)"
      ],
      "metadata": {
        "id": "uOIQtQ-fXpFA",
        "outputId": "5dea7427-571d-47a8-8d34-6137190a1899",
        "colab": {
          "base_uri": "https://localhost:8080/"
        }
      },
      "execution_count": 4,
      "outputs": [
        {
          "output_type": "stream",
          "name": "stdout",
          "text": [
            "{'conversation': {'messages': AIMessage(content='Hello there! How can I help you today?', additional_kwargs={}, response_metadata={'prompt_feedback': {'block_reason': 0, 'safety_ratings': []}, 'finish_reason': 'STOP', 'safety_ratings': []}, id='run-cd8ea894-4a09-4f67-b726-365b2131750f-0', usage_metadata={'input_tokens': 1, 'output_tokens': 11, 'total_tokens': 12, 'input_token_details': {'cache_read': 0}})}}\n"
          ]
        }
      ]
    },
    {
      "cell_type": "code",
      "source": [
        "for chunk in graph.stream({\"messages\": [HumanMessage(content=\"Hello!\")]}, config, stream_mode=\"updates\"):\n",
        "    chunk[\"conversation\"][\"messages\"].pretty_print()"
      ],
      "metadata": {
        "id": "6bnhjKP6jm6B",
        "outputId": "4ee21bb4-be32-4dce-dac0-f1f69b70d7f1",
        "colab": {
          "base_uri": "https://localhost:8080/"
        }
      },
      "execution_count": 5,
      "outputs": [
        {
          "output_type": "stream",
          "name": "stdout",
          "text": [
            "==================================\u001b[1m Ai Message \u001b[0m==================================\n",
            "\n",
            "Hello to you too!  How can I assist you?\n"
          ]
        }
      ]
    },
    {
      "cell_type": "code",
      "source": [
        "for event in graph.stream({\"messages\": [HumanMessage(content=\"Hi\")]}, config, stream_mode=\"values\"):\n",
        "    # for m in event[\"messages\"]:\n",
        "    #     m.pretty_print()\n",
        "    # print(\"---\"*25)\n",
        "    print(event)"
      ],
      "metadata": {
        "id": "NBBFb-FYjxoo",
        "outputId": "87141fc5-6642-4d8f-de90-18461901ee3b",
        "colab": {
          "base_uri": "https://localhost:8080/"
        }
      },
      "execution_count": 6,
      "outputs": [
        {
          "output_type": "stream",
          "name": "stdout",
          "text": [
            "{'messages': [HumanMessage(content='Hello', additional_kwargs={}, response_metadata={}, id='dc7f051b-8ebe-4009-9ecb-051ee81612fe'), AIMessage(content='Hello there! How can I help you today?', additional_kwargs={}, response_metadata={'prompt_feedback': {'block_reason': 0, 'safety_ratings': []}, 'finish_reason': 'STOP', 'safety_ratings': []}, id='run-cd8ea894-4a09-4f67-b726-365b2131750f-0', usage_metadata={'input_tokens': 1, 'output_tokens': 11, 'total_tokens': 12, 'input_token_details': {'cache_read': 0}}), HumanMessage(content='Hello!', additional_kwargs={}, response_metadata={}, id='b9008de9-6a62-4edb-a58f-89ce8bf2493f'), AIMessage(content='Hello to you too!  How can I assist you?', additional_kwargs={}, response_metadata={'prompt_feedback': {'block_reason': 0, 'safety_ratings': []}, 'finish_reason': 'STOP', 'safety_ratings': []}, id='run-dc8502f2-8405-41df-ad87-3849223a06c5-0', usage_metadata={'input_tokens': 13, 'output_tokens': 13, 'total_tokens': 26, 'input_token_details': {'cache_read': 0}}), HumanMessage(content='Hi', additional_kwargs={}, response_metadata={}, id='41364e54-118b-49c6-b599-d37f2d4615a3')]}\n",
            "{'messages': [HumanMessage(content='Hello', additional_kwargs={}, response_metadata={}, id='dc7f051b-8ebe-4009-9ecb-051ee81612fe'), AIMessage(content='Hello there! How can I help you today?', additional_kwargs={}, response_metadata={'prompt_feedback': {'block_reason': 0, 'safety_ratings': []}, 'finish_reason': 'STOP', 'safety_ratings': []}, id='run-cd8ea894-4a09-4f67-b726-365b2131750f-0', usage_metadata={'input_tokens': 1, 'output_tokens': 11, 'total_tokens': 12, 'input_token_details': {'cache_read': 0}}), HumanMessage(content='Hello!', additional_kwargs={}, response_metadata={}, id='b9008de9-6a62-4edb-a58f-89ce8bf2493f'), AIMessage(content='Hello to you too!  How can I assist you?', additional_kwargs={}, response_metadata={'prompt_feedback': {'block_reason': 0, 'safety_ratings': []}, 'finish_reason': 'STOP', 'safety_ratings': []}, id='run-dc8502f2-8405-41df-ad87-3849223a06c5-0', usage_metadata={'input_tokens': 13, 'output_tokens': 13, 'total_tokens': 26, 'input_token_details': {'cache_read': 0}}), HumanMessage(content='Hi', additional_kwargs={}, response_metadata={}, id='41364e54-118b-49c6-b599-d37f2d4615a3'), AIMessage(content=\"Hi there! What's up?\", additional_kwargs={}, response_metadata={'prompt_feedback': {'block_reason': 0, 'safety_ratings': []}, 'finish_reason': 'STOP', 'safety_ratings': []}, id='run-424c3a35-f697-4da8-8d47-37a345a451b2-0', usage_metadata={'input_tokens': 26, 'output_tokens': 9, 'total_tokens': 35, 'input_token_details': {'cache_read': 0}})]}\n"
          ]
        }
      ]
    },
    {
      "cell_type": "code",
      "source": [
        "config = {\"configurable\": {\"thread_id\": \"2\"}}\n",
        "\n",
        "for event in graph.stream({\"messages\": [HumanMessage(content=\"Hi\")]}, config, stream_mode=\"values\"):\n",
        "    for m in event[\"messages\"]:\n",
        "        m.pretty_print()\n",
        "    print(\"---\"*25)"
      ],
      "metadata": {
        "id": "4OihuPNElAfh",
        "outputId": "14a7c18e-68c8-4f47-bb8d-baad3238bb84",
        "colab": {
          "base_uri": "https://localhost:8080/"
        }
      },
      "execution_count": 7,
      "outputs": [
        {
          "output_type": "stream",
          "name": "stdout",
          "text": [
            "================================\u001b[1m Human Message \u001b[0m=================================\n",
            "\n",
            "Hi\n",
            "---------------------------------------------------------------------------\n",
            "================================\u001b[1m Human Message \u001b[0m=================================\n",
            "\n",
            "Hi\n",
            "==================================\u001b[1m Ai Message \u001b[0m==================================\n",
            "\n",
            "Hi there! How can I help you today?\n",
            "---------------------------------------------------------------------------\n"
          ]
        }
      ]
    },
    {
      "cell_type": "code",
      "source": [
        "config = {\"configurable\": {\"thread_id\": \"3\"}}\n",
        "\n",
        "input_message = HumanMessage(content=\"Tell me about the 49ers NFL team\")\n",
        "\n",
        "async for event in graph.astream_events({\"messages\": [input_message]}, config, version=\"v2\"):\n",
        "    print(f\"NODE: {event['metadata'].get('langgraph_node','')}. TYPE: {event['event']}. NAME: {event['name']}\")"
      ],
      "metadata": {
        "id": "J3Gt0c62lbcI",
        "outputId": "7bfb547f-7c63-4e7c-a172-c3d583e821af",
        "colab": {
          "base_uri": "https://localhost:8080/"
        }
      },
      "execution_count": 8,
      "outputs": [
        {
          "output_type": "stream",
          "name": "stdout",
          "text": [
            "NODE: . TYPE: on_chain_start. NAME: LangGraph\n",
            "NODE: __start__. TYPE: on_chain_start. NAME: __start__\n",
            "NODE: __start__. TYPE: on_chain_start. NAME: _write\n",
            "NODE: __start__. TYPE: on_chain_end. NAME: _write\n",
            "NODE: __start__. TYPE: on_chain_start. NAME: _write\n",
            "NODE: __start__. TYPE: on_chain_end. NAME: _write\n",
            "NODE: __start__. TYPE: on_chain_stream. NAME: __start__\n",
            "NODE: __start__. TYPE: on_chain_end. NAME: __start__\n",
            "NODE: conversation. TYPE: on_chain_start. NAME: conversation\n",
            "NODE: conversation. TYPE: on_chat_model_start. NAME: ChatGoogleGenerativeAI\n",
            "NODE: conversation. TYPE: on_chat_model_stream. NAME: ChatGoogleGenerativeAI\n",
            "NODE: conversation. TYPE: on_chat_model_stream. NAME: ChatGoogleGenerativeAI\n",
            "NODE: conversation. TYPE: on_chat_model_stream. NAME: ChatGoogleGenerativeAI\n",
            "NODE: conversation. TYPE: on_chat_model_stream. NAME: ChatGoogleGenerativeAI\n",
            "NODE: conversation. TYPE: on_chat_model_stream. NAME: ChatGoogleGenerativeAI\n",
            "NODE: conversation. TYPE: on_chat_model_stream. NAME: ChatGoogleGenerativeAI\n",
            "NODE: conversation. TYPE: on_chat_model_stream. NAME: ChatGoogleGenerativeAI\n",
            "NODE: conversation. TYPE: on_chat_model_stream. NAME: ChatGoogleGenerativeAI\n",
            "NODE: conversation. TYPE: on_chat_model_stream. NAME: ChatGoogleGenerativeAI\n",
            "NODE: conversation. TYPE: on_chat_model_stream. NAME: ChatGoogleGenerativeAI\n",
            "NODE: conversation. TYPE: on_chat_model_stream. NAME: ChatGoogleGenerativeAI\n",
            "NODE: conversation. TYPE: on_chat_model_stream. NAME: ChatGoogleGenerativeAI\n",
            "NODE: conversation. TYPE: on_chat_model_stream. NAME: ChatGoogleGenerativeAI\n",
            "NODE: conversation. TYPE: on_chat_model_end. NAME: ChatGoogleGenerativeAI\n",
            "NODE: conversation. TYPE: on_chain_start. NAME: _write\n",
            "NODE: conversation. TYPE: on_chain_end. NAME: _write\n",
            "NODE: conversation. TYPE: on_chain_stream. NAME: conversation\n",
            "NODE: conversation. TYPE: on_chain_end. NAME: conversation\n",
            "NODE: . TYPE: on_chain_stream. NAME: LangGraph\n",
            "NODE: . TYPE: on_chain_end. NAME: LangGraph\n"
          ]
        }
      ]
    }
  ],
  "metadata": {
    "language_info": {
      "name": "python"
    },
    "colab": {
      "provenance": []
    },
    "kernelspec": {
      "name": "python3",
      "display_name": "Python 3"
    }
  },
  "nbformat": 4,
  "nbformat_minor": 0
}