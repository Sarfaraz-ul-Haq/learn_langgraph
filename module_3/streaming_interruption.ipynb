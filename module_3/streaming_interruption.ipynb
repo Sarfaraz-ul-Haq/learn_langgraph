{
  "cells": [
    {
      "cell_type": "code",
      "execution_count": 1,
      "metadata": {
        "vscode": {
          "languageId": "plaintext"
        },
        "id": "1WcXDWb8zl-l"
      },
      "outputs": [],
      "source": [
        "%%capture --no-stderr\n",
        "%pip install -q -U langgraph langchain-google-genai langgraph-sdk"
      ]
    },
    {
      "cell_type": "code",
      "source": [
        "import os\n",
        "from google.colab import userdata\n",
        "\n",
        "os.environ[\"GOOGLE_API_KEY\"] = userdata.get(\"GOOGLE_API_KEY\")\n",
        "os.environ[\"LANGCHAIN_API_KEY\"] = userdata.get(\"LANGCHAIN_API_KEY\")\n",
        "os.environ[\"LANGCHAIN_TRACING_V2\"] = \"true\"\n",
        "os.environ[\"LANGCHAIN_PROJECT\"] = \"langchain-academy\""
      ],
      "metadata": {
        "id": "Dq6iNAQU0uNv"
      },
      "execution_count": 2,
      "outputs": []
    },
    {
      "cell_type": "code",
      "source": [
        "from IPython.display import Image, display\n",
        "from langchain_google_genai import ChatGoogleGenerativeAI\n",
        "from langgraph.checkpoint.memory import MemorySaver\n",
        "from langgraph.graph import MessagesState\n",
        "from langgraph.graph import StateGraph, START, END\n",
        "from langchain_core.messages import SystemMessage, HumanMessage, RemoveMessage\n",
        "from langchain_core.runnables import RunnableConfig\n",
        "from langgraph.graph.state import CompiledStateGraph\n",
        "from typing import Literal\n",
        "from langgraph.types import Command\n",
        "\n",
        "llm: ChatGoogleGenerativeAI = ChatGoogleGenerativeAI(model=\"gemini-1.5-flash\")\n",
        "\n",
        "class State(MessagesState):\n",
        "    summary: str\n",
        "\n",
        "\n",
        "def call_model(state: State, config: RunnableConfig) -> Command[Literal[\"summarize_conversation\", END]]:\n",
        "    summary = state.get(\"summary\", \"\")\n",
        "\n",
        "    if summary:\n",
        "        system_message = f\"Summary of conversation earlier: {summary}\"\n",
        "        messages = [SystemMessage(content=system_message)] + state[\"messages\"]\n",
        "    else:\n",
        "        messages = state[\"messages\"]\n",
        "\n",
        "    response = llm.invoke(messages, config)\n",
        "\n",
        "    goto = \"summarize_conversation\" if len(state[\"messages\"]) > 6 else END\n",
        "\n",
        "    return Command(\n",
        "        update={\"messages\": response},\n",
        "        goto=goto\n",
        "    )\n",
        "\n",
        "\n",
        "def summarize_conversation(state: State) -> Command[Literal[END]]:\n",
        "    summary = state.get(\"summary\", \"\")\n",
        "\n",
        "    if summary:\n",
        "        summary_message = (\n",
        "            f\"This is summary of the conversation to date: {summary}\\n\\n\"\n",
        "            \"Extend the summary by taking into account the new messages above:\"\n",
        "        )\n",
        "\n",
        "    else:\n",
        "        summary_message = \"Create a summary of the conversation above:\"\n",
        "\n",
        "    messages = state[\"messages\"] + [HumanMessage(content=summary_message)]\n",
        "    response = llm.invoke(messages)\n",
        "\n",
        "    delete_messages = [RemoveMessage(id=m.id) for m in state[\"messages\"][:-2]]\n",
        "    return Command(\n",
        "        update={\"summary\": response.content, \"messages\": delete_messages},\n",
        "        goto=END\n",
        "    )\n",
        "\n",
        "\n",
        "workflow: StateGraph = StateGraph(State)\n",
        "\n",
        "workflow.add_node(\"conversation\", call_model)\n",
        "workflow.add_node(\"summarize_conversation\", summarize_conversation)\n",
        "\n",
        "workflow.add_edge(START, \"conversation\")\n",
        "\n",
        "memory: MemorySaver = MemorySaver()\n",
        "graph: CompiledStateGraph = workflow.compile(checkpointer=memory)\n",
        "\n",
        "display(Image(graph.get_graph().draw_mermaid_png()))"
      ],
      "metadata": {
        "id": "noGfmgZQ0z5t",
        "outputId": "0155e68a-5529-4867-8081-4ecc809f0b74",
        "colab": {
          "base_uri": "https://localhost:8080/",
          "height": 350
        }
      },
      "execution_count": 4,
      "outputs": [
        {
          "output_type": "display_data",
          "data": {
            "image/png": "[encoded data removed]",
            "text/plain": [
              "<IPython.core.display.Image object>"
            ]
          },
          "metadata": {}
        }
      ]
    },
    {
      "cell_type": "code",
      "source": [
        "config = {\"configurable\": {\"thread_id\": \"1\"}}\n",
        "\n",
        "for chunk in graph.stream({\"messages\": [HumanMessage(content=\"Hello\")]}, config, stream_mode=\"updates\"):\n",
        "    print(chunk)"
      ],
      "metadata": {
        "id": "uOIQtQ-fXpFA"
      },
      "execution_count": null,
      "outputs": []
    },
    {
      "cell_type": "code",
      "source": [
        "for chunk in graph.stream({\"messages\": [HumanMessage(content=\"Hello!\")]}, config, stream_mode=\"updates\"):\n",
        "    chunk[\"conversation\"][\"messages\"].pretty_print()"
      ],
      "metadata": {
        "id": "6bnhjKP6jm6B"
      },
      "execution_count": null,
      "outputs": []
    },
    {
      "cell_type": "code",
      "source": [
        "for event in graph.stream({\"messages\": [HumanMessage(content=\"Hi\")]}, config, stream_mode=\"values\"):\n",
        "    # for m in event[\"messages\"]:\n",
        "    #     m.pretty_print()\n",
        "    # print(\"---\"*25)\n",
        "    print(event)"
      ],
      "metadata": {
        "id": "NBBFb-FYjxoo"
      },
      "execution_count": null,
      "outputs": []
    },
    {
      "cell_type": "code",
      "source": [
        "config = {\"configurable\": {\"thread_id\": \"2\"}}\n",
        "\n",
        "for event in graph.stream({\"messages\": [HumanMessage(content=\"Hi\")]}, config, stream_mode=\"values\"):\n",
        "    for m in event[\"messages\"]:\n",
        "        m.pretty_print()\n",
        "    print(\"---\"*25)"
      ],
      "metadata": {
        "id": "4OihuPNElAfh"
      },
      "execution_count": null,
      "outputs": []
    },
    {
      "cell_type": "code",
      "source": [
        "config = {\"configurable\": {\"thread_id\": \"3\"}}\n",
        "\n",
        "input_message = HumanMessage(content=\"Tell me about the 49ers NFL team\")\n",
        "\n",
        "async for event in graph.astream_events({\"messages\": [input_message]}, config, version=\"v2\"):\n",
        "    print(f\"NODE: {event['metadata'].get('langgraph_node','')}. TYPE: {event['event']}. NAME: {event['name']}\")"
      ],
      "metadata": {
        "id": "J3Gt0c62lbcI"
      },
      "execution_count": null,
      "outputs": []
    }
  ],
  "metadata": {
    "language_info": {
      "name": "python"
    },
    "colab": {
      "provenance": []
    },
    "kernelspec": {
      "name": "python3",
      "display_name": "Python 3"
    }
  },
  "nbformat": 4,
  "nbformat_minor": 0
}